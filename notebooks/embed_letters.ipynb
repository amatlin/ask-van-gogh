{
 "cells": [
  {
   "cell_type": "code",
   "execution_count": 21,
   "metadata": {},
   "outputs": [
    {
     "data": {
      "text/plain": [
       "True"
      ]
     },
     "execution_count": 21,
     "metadata": {},
     "output_type": "execute_result"
    }
   ],
   "source": [
    "import pandas as pd\n",
    "from tqdm import tqdm\n",
    "import tiktoken\n",
    "import os\n",
    "import matplotlib.pyplot as plt\n",
    "import umap\n",
    "%matplotlib inline\n",
    "\n",
    "from dotenv import load_dotenv\n",
    "load_dotenv()"
   ]
  },
  {
   "cell_type": "code",
   "execution_count": 2,
   "metadata": {},
   "outputs": [],
   "source": [
    "from openai import OpenAI\n",
    "\n",
    "client = OpenAI(api_key=os.getenv(\"OPENAI_API_KEY\"))"
   ]
  },
  {
   "cell_type": "markdown",
   "metadata": {},
   "source": [
    "## Embed letters\n"
   ]
  },
  {
   "cell_type": "code",
   "execution_count": 3,
   "metadata": {},
   "outputs": [],
   "source": [
    "output_file = \"data/vg_letters.csv\" # Output CSV written as part of the steps in parse_letters.ipynb\n",
    "letters = pd.read_csv(output_file)"
   ]
  },
  {
   "cell_type": "code",
   "execution_count": 4,
   "metadata": {},
   "outputs": [],
   "source": [
    "EMBEDDING_MODEL = \"text-embedding-ada-002\"  # https://platform.openai.com/docs/guides/embeddings/what-are-embeddings\n",
    "embeddings = client.embeddings.create(model=EMBEDDING_MODEL, input=letters['Text'][0])"
   ]
  },
  {
   "cell_type": "markdown",
   "metadata": {},
   "source": [
    "### Helper functions\n",
    "\n",
    "All functions are obtained from OpenAI's cookbook: [Embedding Wikipedia articles for search](https://cookbook.openai.com/examples/embedding_wikipedia_articles_for_search). \n"
   ]
  },
  {
   "cell_type": "code",
   "execution_count": 5,
   "metadata": {},
   "outputs": [],
   "source": [
    "GPT_MODEL = \"gpt-3.5-turbo\"  # only matters insofar as it selects which tokenizer to use\n",
    "\n",
    "def num_tokens(text: str, model: str = GPT_MODEL) -> int:\n",
    "    \"\"\"Return the number of tokens in a string.\"\"\"\n",
    "    encoding = tiktoken.encoding_for_model(model)\n",
    "    return len(encoding.encode(text))\n",
    "\n",
    "\n",
    "def halved_by_delimiter(string: str, delimiter: str = \"\\n\") -> list[str, str]:\n",
    "    \"\"\"Split a string in two, on a delimiter, trying to balance tokens on each side.\"\"\"\n",
    "    chunks = string.split(delimiter)\n",
    "    if len(chunks) == 1:\n",
    "        return [string, \"\"]  # no delimiter found\n",
    "    elif len(chunks) == 2:\n",
    "        return chunks  # no need to search for halfway point\n",
    "    else:\n",
    "        total_tokens = num_tokens(string)\n",
    "        halfway = total_tokens // 2\n",
    "        best_diff = halfway\n",
    "        for i, chunk in enumerate(chunks):\n",
    "            left = delimiter.join(chunks[: i + 1])\n",
    "            left_tokens = num_tokens(left)\n",
    "            diff = abs(halfway - left_tokens)\n",
    "            if diff >= best_diff:\n",
    "                break\n",
    "            else:\n",
    "                best_diff = diff\n",
    "        left = delimiter.join(chunks[:i])\n",
    "        right = delimiter.join(chunks[i:])\n",
    "        return [left, right]\n",
    "\n",
    "\n",
    "def truncated_string(\n",
    "    string: str,\n",
    "    model: str,\n",
    "    max_tokens: int,\n",
    "    print_warning: bool = True,\n",
    ") -> str:\n",
    "    \"\"\"Truncate a string to a maximum number of tokens.\"\"\"\n",
    "    encoding = tiktoken.encoding_for_model(model)\n",
    "    encoded_string = encoding.encode(string)\n",
    "    truncated_string = encoding.decode(encoded_string[:max_tokens])\n",
    "    if print_warning and len(encoded_string) > max_tokens:\n",
    "        print(f\"Warning: Truncated string from {len(encoded_string)} tokens to {max_tokens} tokens.\")\n",
    "    return truncated_string\n",
    "\n",
    "\n",
    "def split_strings_from_subsection(\n",
    "    string: str,\n",
    "    max_tokens: int = 1000,\n",
    "    model: str = GPT_MODEL,\n",
    "    max_recursion: int = 5,\n",
    ") -> list[str]:\n",
    "    \"\"\"\n",
    "    Split a subsection into a list of subsections, each with no more than max_tokens.\n",
    "    Each subsection is a tuple of parent titles [H1, H2, ...] and text (str).\n",
    "    \"\"\"\n",
    "    num_tokens_in_string = num_tokens(string)\n",
    "    # if length is fine, return string\n",
    "    if num_tokens_in_string <= max_tokens:\n",
    "        return [string]\n",
    "    # if recursion hasn't found a split after X iterations, just truncate\n",
    "    elif max_recursion == 0:\n",
    "        return [truncated_string(string, model=model, max_tokens=max_tokens)]\n",
    "    # otherwise, split in half and recurse\n",
    "    else:\n",
    "        text = string\n",
    "        for delimiter in [\"\\n\\n\", \"\\n\", \". \"]:\n",
    "            left, right = halved_by_delimiter(text, delimiter=delimiter)\n",
    "            if left == \"\" or right == \"\":\n",
    "                # if either half is empty, retry with a more fine-grained delimiter\n",
    "                continue\n",
    "            else:\n",
    "                # recurse on each half\n",
    "                results = []\n",
    "                for half in [left, right]:\n",
    "                    half_subsection = half\n",
    "                    half_strings = split_strings_from_subsection(\n",
    "                        half_subsection,\n",
    "                        max_tokens=max_tokens,\n",
    "                        model=model,\n",
    "                        max_recursion=max_recursion - 1,\n",
    "                    )\n",
    "                    results.extend(half_strings)\n",
    "                return results\n",
    "    # otherwise no split was found, so just truncate (should be very rare)\n",
    "    return [truncated_string(string, model=model, max_tokens=max_tokens)]\n",
    "\n"
   ]
  },
  {
   "cell_type": "code",
   "execution_count": 6,
   "metadata": {},
   "outputs": [
    {
     "name": "stderr",
     "output_type": "stream",
     "text": [
      "  0%|          | 0/864 [00:00<?, ?it/s]"
     ]
    },
    {
     "name": "stderr",
     "output_type": "stream",
     "text": [
      " 27%|██▋       | 230/864 [00:01<00:02, 255.77it/s]"
     ]
    },
    {
     "name": "stdout",
     "output_type": "stream",
     "text": [
      "1617 tokens: http://www.vggallery.com/letters/088_V-T_076.pdf\n"
     ]
    },
    {
     "name": "stderr",
     "output_type": "stream",
     "text": [
      "100%|██████████| 864/864 [00:02<00:00, 418.14it/s]"
     ]
    },
    {
     "name": "stdout",
     "output_type": "stream",
     "text": [
      "227 letters have more than 1600 tokens.\n"
     ]
    },
    {
     "name": "stderr",
     "output_type": "stream",
     "text": [
      "\n"
     ]
    }
   ],
   "source": [
    "# Check how many letters have more than 1600 tokens to see whether chunking is needed\n",
    "n = 0\n",
    "PRINTED_ONCE = False\n",
    "for i in tqdm(range(len(letters))):\n",
    "    t = num_tokens(letters['Text'][i])\n",
    "    if t > 1600:\n",
    "        n+=1 \n",
    "        # Output one example link for a long letter with more than 1600 tokens\n",
    "        if not PRINTED_ONCE:\n",
    "            print(f\"{t} tokens: {letters['PDF Link'][i]}\")\n",
    "            LONG_LETTER_IDX = i \n",
    "            PRINTED_ONCE = True\n",
    "\n",
    "print(f\"{n} letters have more than 1600 tokens.\")    "
   ]
  },
  {
   "cell_type": "code",
   "execution_count": 7,
   "metadata": {},
   "outputs": [
    {
     "data": {
      "text/plain": [
       "['\\nLetter 076 Isleworth, October 7 1876 Dear Theo,\\nIt is Saturday again and I write once more. How I long to see you again, Oh! my longing is sometimes so strong. Write soon, a little word as to how you are. Last Wednesday we took a long walk to a village an hour\\'s distance from here. The road led through meadows and fields, along hedges of hawthorn, full of blackberries and clematis, and here and there a large elm tree. It was so beautiful when the sun set behind the grey clouds, and the shadows were long. By chance we met the school of Mr. Stokes, where there are still several of the boys I knew. The clouds retained their red hue long after the sun had set and the dusk had settled over the fields, and we saw in the distance the lamps lit in the village. While I was writing to you, I was called to Mr. Jones, who asked if I would walk to London to collect some money for him. And when I came home in the evening, hurrah, there was a letter from Father with tidings about you. How I should like to be with you both, my boy. And thank God there is some improvement, though you are still weak. And you will be longing to see Mother, and now that I hear that you are going home with her, I think of the words of Conscience:\\n\"I have been ill, my mind was tired, my soul disillusioned and my body suffering. I whom God has endowed at least with moral energy and a strong instinct of affection, I fell in the abyss of the most bitter discouragement and I felt with horror how a deadly poison penetrated my stifled heart. I spent three months on the moors, you know that beautiful region where the soul retires within itself and enjoys a delicious rest,\\n where everything breathes calm and peace; where the soul in presence of God\\'s immaculate creation throws off the yoke of conventions, forgets society, and loosens its bonds, with the strength of renewed youth; where each thought takes the form of prayer, where everything that is not in harmony with fresh and free nature quits the heart. Oh, there the tired souls find rest, there the exhausted man regains his youthful strength. So I passed my days of illness . . .. And then the evening! To be seated before the big fireplace with one\\'s feet in the ashes, one\\'s eyes fixed on a star that sends its ray through the opening in the chimney as if to call me, or absorbed in vague dreams too much to look at the fire, to see the flames rise, flicker, and supplant one another as if desirous to lick the kettle with their tongues of fire, and to think that such is human life: to be born, to work, to love, to grow and to disappear.\" Mr. Jones has promised me that I shall not have to teach so much in future, but that I may work in his parish, visiting the people, talking with them, etc. May God give His blessing to me.\\n Now I am going to tell you about my walk to London. I left here at twelve o\\'clock in the morning and reached my destination between five and six. When I came into that part of the town where most of the picture galleries are, around the Strand, I met many acquaintances: it was dinnertime, so many were in the street, leaving the office or going back there. First I met a young clergyman who once preached here, and with whom I then became acquainted, and then the employee of Mr. Wallis, and then one of the Messrs.\\n Wallis himself, whom I used to visit now and then at his house, now he has two children; then I met Mr.\\n Reid and Mr. Richardson,  1 who are already old friends. Last year about this time Mr',\n",
       " 'Richardson was in Paris and we walked together to Père Lachaise.\\nAfter that I went to van Wisselingh, where I saw sketches for two church windows. In the middle of one window stands the portrait of a middle-aged lady, oh, such a noble face, with the words \"Thy will be done,\" over it, and in the other window the portrait of her daughter, with the words, \"Faith is the substance of things hoped for, the evidence of things not seen.\" 2 There, and in the gallery of Messrs. Goupil & Co., I saw beautiful pictures and drawings. It is such an intense delight to be so often reminded of Holland by art.\\nIn the City I went to see Mr. Gladwell and to St. Paul\\'s Church. And from the City to the other end of London, where I visited a boy who had left the school of Mr. Stokes because of illness and I found him quite well, playing in the street. Then to the place where I had to collect the money for Mr. Jones. The suburbs of London have a peculiar charm, between the little houses and gardens are open spots covered with grass and generally with a church or school or workhouse in the middle between the trees and shrubs,\\nand it can be so beautiful there, when the sun is setting red in the thin evening mist.\\nYesterday evening it was so, and afterwards I wished you could have seen those London streets when the twilight began to fall and the lamps were lit, and everybody went home; everything showed that it was Saturday night and in all that bustle there was peace, one felt the need of and the excitement at the approaching Sunday. Oh, those Sundays and all that is done and accomplished on those Sundays, it is such a comfort for those poor districts and crowded streets.\\nIn the City it was dark, but it was a beautiful walk along the row of churches one has to pass. Near the Strand I took a bus that took me quite a long way, it was already pretty late. I passed the little church of Mr.\\n Jones and saw in the distance another one, where at that hour a light was still burning; I entered and found it to be a very beautiful little Catholic church, where a few women were praying. Then I came to that dark park about which I have written you already and from there I saw in the distance the lights of Isleworth and the church with the ivy, and the churchyard with the weeping willows beside the Thames.\\n Tomorrow I shall get for the second time some small salary for my new work, and with it buy a pair of new boots and a new hat. And then, with God\\'s will, I shall go fitted out afresh.\\n In the London streets they sell scented violets everywhere, they flower here twice a year. I bought some for Mrs. Jones to make her forget the pipe I smoke now and then, especially late in the evening on the playground, but the tobacco here has a touch of gloom about it.\\nWell, Theo, try to get well soon and read this letter when Mother is sitting with you, because I should like to be with you both in thought. I cannot tell you how glad I am that Mr. Jones has promised to give me work in his parish, so that I shall find by and by what I want. I am longing so much for you. A handshake for yourself and one for Mother when she is sitting beside you. Many regards to the Roos family and to everyone I know, especially to Mr. Tersteeg. Tell Mother it was delightful to put on a pair of socks knitted by her, after that long walk to London.\\nThis morning the sun rose so beautifully again, I see it every morning when I wake the boys, à Dieu.\\n Your loving brother, Vincent 1.\\n Reid was an English art-dealer; Richardson was the travelling representative for Theo.\\'s firm.\\n2.\\n Hebrews XI i.\\n ']"
      ]
     },
     "execution_count": 7,
     "metadata": {},
     "output_type": "execute_result"
    }
   ],
   "source": [
    "# Check how the splitting works for the long letter example\n",
    "split_strings_from_subsection(letters.Text[LONG_LETTER_IDX], max_tokens=1600, model=GPT_MODEL, max_recursion=10)"
   ]
  },
  {
   "cell_type": "markdown",
   "metadata": {},
   "source": [
    "### Split letters into chunks"
   ]
  },
  {
   "cell_type": "code",
   "execution_count": 8,
   "metadata": {},
   "outputs": [
    {
     "name": "stderr",
     "output_type": "stream",
     "text": [
      "864it [00:06, 125.16it/s]\n"
     ]
    }
   ],
   "source": [
    "# Split letters into chunks\n",
    "MAX_TOKENS = 1600\n",
    "vgogh_letter_chunks = []\n",
    "idxs = []\n",
    "\n",
    "for idx, letter in tqdm(letters.iterrows()):\n",
    "   split_result = split_strings_from_subsection(letter.Text, max_tokens=MAX_TOKENS)\n",
    "   vgogh_letter_chunks.extend(split_result)\n",
    "   len_chunks = len(split_result)\n",
    "   idxs.extend([idx] * len_chunks)\n",
    "\n",
    "# Join chunks to their letter metadata and drop the full, original text\n",
    "vgogh_letter_chunks_df = pd.DataFrame({'chunk': vgogh_letter_chunks, 'idx': idxs}).set_index('idx').join(letters).drop('Text', axis=1)"
   ]
  },
  {
   "cell_type": "code",
   "execution_count": 9,
   "metadata": {},
   "outputs": [
    {
     "data": {
      "text/html": [
       "<div>\n",
       "<style scoped>\n",
       "    .dataframe tbody tr th:only-of-type {\n",
       "        vertical-align: middle;\n",
       "    }\n",
       "\n",
       "    .dataframe tbody tr th {\n",
       "        vertical-align: top;\n",
       "    }\n",
       "\n",
       "    .dataframe thead th {\n",
       "        text-align: right;\n",
       "    }\n",
       "</style>\n",
       "<table border=\"1\" class=\"dataframe\">\n",
       "  <thead>\n",
       "    <tr style=\"text-align: right;\">\n",
       "      <th></th>\n",
       "      <th>chunk</th>\n",
       "      <th>Number</th>\n",
       "      <th>Date</th>\n",
       "      <th>Origin</th>\n",
       "      <th>From</th>\n",
       "      <th>To</th>\n",
       "      <th>PDF Link</th>\n",
       "    </tr>\n",
       "  </thead>\n",
       "  <tbody>\n",
       "    <tr>\n",
       "      <th>0</th>\n",
       "      <td>\\nLetter 001 The Hague, c. 18 August 1872 Dear...</td>\n",
       "      <td>1</td>\n",
       "      <td>August, 1872</td>\n",
       "      <td>T-H</td>\n",
       "      <td>VvG</td>\n",
       "      <td>TvG</td>\n",
       "      <td>http://www.vggallery.com/letters/001_V-T_001.pdf</td>\n",
       "    </tr>\n",
       "    <tr>\n",
       "      <th>1</th>\n",
       "      <td>\\nLetter 002 The Hague, 13 Dec 1872 Dear Theo,...</td>\n",
       "      <td>2</td>\n",
       "      <td>13 December 1872</td>\n",
       "      <td>T-H</td>\n",
       "      <td>VvG</td>\n",
       "      <td>TvG</td>\n",
       "      <td>http://www.vggallery.com/letters/002_V-T_002.pdf</td>\n",
       "    </tr>\n",
       "    <tr>\n",
       "      <th>2</th>\n",
       "      <td>\\nLetter 003 The Hague, January 1873 My dear T...</td>\n",
       "      <td>3</td>\n",
       "      <td>January, 1873</td>\n",
       "      <td>T-H</td>\n",
       "      <td>VvG</td>\n",
       "      <td>TvG</td>\n",
       "      <td>http://www.vggallery.com/letters/003_V-T_003.pdf</td>\n",
       "    </tr>\n",
       "    <tr>\n",
       "      <th>3</th>\n",
       "      <td>\\nLetter 004 The Hague, January 28 1873 Dear T...</td>\n",
       "      <td>4</td>\n",
       "      <td>28 January 1873</td>\n",
       "      <td>T-H</td>\n",
       "      <td>VvG</td>\n",
       "      <td>TvG</td>\n",
       "      <td>http://www.vggallery.com/letters/004_V-T_004.pdf</td>\n",
       "    </tr>\n",
       "    <tr>\n",
       "      <th>4</th>\n",
       "      <td>\\nLetter 005 The Hague, 17 March 1873 Dear The...</td>\n",
       "      <td>5</td>\n",
       "      <td>17 March 1873</td>\n",
       "      <td>T-H</td>\n",
       "      <td>VvG</td>\n",
       "      <td>TvG</td>\n",
       "      <td>http://www.vggallery.com/letters/005_V-T_005.pdf</td>\n",
       "    </tr>\n",
       "  </tbody>\n",
       "</table>\n",
       "</div>"
      ],
      "text/plain": [
       "                                               chunk Number              Date  \\\n",
       "0  \\nLetter 001 The Hague, c. 18 August 1872 Dear...      1      August, 1872   \n",
       "1  \\nLetter 002 The Hague, 13 Dec 1872 Dear Theo,...      2  13 December 1872   \n",
       "2  \\nLetter 003 The Hague, January 1873 My dear T...      3     January, 1873   \n",
       "3  \\nLetter 004 The Hague, January 28 1873 Dear T...      4   28 January 1873   \n",
       "4  \\nLetter 005 The Hague, 17 March 1873 Dear The...      5     17 March 1873   \n",
       "\n",
       "  Origin From   To                                          PDF Link  \n",
       "0    T-H  VvG  TvG  http://www.vggallery.com/letters/001_V-T_001.pdf  \n",
       "1    T-H  VvG  TvG  http://www.vggallery.com/letters/002_V-T_002.pdf  \n",
       "2    T-H  VvG  TvG  http://www.vggallery.com/letters/003_V-T_003.pdf  \n",
       "3    T-H  VvG  TvG  http://www.vggallery.com/letters/004_V-T_004.pdf  \n",
       "4    T-H  VvG  TvG  http://www.vggallery.com/letters/005_V-T_005.pdf  "
      ]
     },
     "execution_count": 9,
     "metadata": {},
     "output_type": "execute_result"
    }
   ],
   "source": [
    "vgogh_letter_chunks_df.head()"
   ]
  },
  {
   "cell_type": "code",
   "execution_count": 10,
   "metadata": {},
   "outputs": [
    {
     "data": {
      "text/plain": [
       "1158"
      ]
     },
     "execution_count": 10,
     "metadata": {},
     "output_type": "execute_result"
    }
   ],
   "source": [
    "len(vgogh_letter_chunks_df)"
   ]
  },
  {
   "cell_type": "markdown",
   "metadata": {},
   "source": [
    "### Get embeddings with OpenAI client"
   ]
  },
  {
   "cell_type": "code",
   "execution_count": 11,
   "metadata": {},
   "outputs": [
    {
     "name": "stdout",
     "output_type": "stream",
     "text": [
      "Batch 0 to 99\n",
      "Batch 100 to 199\n",
      "Batch 200 to 299\n",
      "Batch 300 to 399\n",
      "Batch 400 to 499\n",
      "Batch 500 to 599\n",
      "Batch 600 to 699\n",
      "Batch 700 to 799\n",
      "Batch 800 to 899\n",
      "Batch 900 to 999\n",
      "Batch 1000 to 1099\n",
      "Batch 1100 to 1158\n"
     ]
    }
   ],
   "source": [
    "# You can submit up to 2048 embedding inputs per request\n",
    "# Choose a smaller number to be conservative, since big batches can take a long time to process\n",
    "BATCH_SIZE = 100  \n",
    "\n",
    "embeddings = []\n",
    "for batch_start in range(0, len(vgogh_letter_chunks), BATCH_SIZE):\n",
    "    batch_end = batch_start + BATCH_SIZE\n",
    "    batch = vgogh_letter_chunks[batch_start:batch_end]\n",
    "    print(f\"Batch {batch_start} to {min(len(vgogh_letter_chunks), batch_end-1)}\")\n",
    "    response = client.embeddings.create(model=EMBEDDING_MODEL, input=batch)\n",
    "    for i, be in enumerate(response.data):\n",
    "        assert i == be.index  # double check embeddings are in same order as input\n",
    "    batch_embeddings = [e.embedding for e in response.data]\n",
    "    embeddings.extend(batch_embeddings)"
   ]
  },
  {
   "cell_type": "code",
   "execution_count": 12,
   "metadata": {},
   "outputs": [],
   "source": [
    "vgogh_letter_chunks_df['embedding'] = embeddings"
   ]
  },
  {
   "cell_type": "code",
   "execution_count": 13,
   "metadata": {},
   "outputs": [],
   "source": [
    "# Write to output CSV\n",
    "vgogh_letter_chunks_df.to_csv(\"data/letter_embeddings.csv\")"
   ]
  },
  {
   "cell_type": "markdown",
   "metadata": {},
   "source": [
    "## Visualize embeddings"
   ]
  },
  {
   "cell_type": "code",
   "execution_count": 15,
   "metadata": {},
   "outputs": [
    {
     "name": "stderr",
     "output_type": "stream",
     "text": [
      "/Users/annamatlin/miniconda3/envs/pdfparse/lib/python3.10/site-packages/umap/umap_.py:1943: UserWarning: n_jobs value -1 overridden to 1 by setting random_state. Use no seed for parallelism.\n",
      "  warn(f\"n_jobs value {self.n_jobs} overridden to 1 by setting random_state. Use no seed for parallelism.\")\n"
     ]
    }
   ],
   "source": [
    "# Reduce dimensionality of embeddings to 2D\n",
    "umap_model = umap.UMAP(n_components=5, metric='cosine', random_state=42).fit(vgogh_letter_chunks_df.embedding.tolist())"
   ]
  },
  {
   "cell_type": "code",
   "execution_count": 23,
   "metadata": {},
   "outputs": [],
   "source": [
    "umap_embeddings = umap_model.transform(vgogh_letter_chunks_df.embedding.tolist())"
   ]
  },
  {
   "cell_type": "code",
   "execution_count": 25,
   "metadata": {},
   "outputs": [
    {
     "name": "stderr",
     "output_type": "stream",
     "text": [
      "/var/folders/23/kmz706715cgcgstmj0c9x_c40000gn/T/ipykernel_95434/2231956586.py:2: UserWarning:\n",
      "\n",
      "No data for colormapping provided via 'c'. Parameters 'cmap' will be ignored\n",
      "\n"
     ]
    },
    {
     "data": {
      "text/plain": [
       "<matplotlib.collections.PathCollection at 0x1646d1780>"
      ]
     },
     "execution_count": 25,
     "metadata": {},
     "output_type": "execute_result"
    },
    {
     "data": {
      "image/png": "[encoded data removed]",
      "text/plain": [
       "<Figure size 640x480 with 1 Axes>"
      ]
     },
     "metadata": {},
     "output_type": "display_data"
    }
   ],
   "source": [
    "# plot umap embeddings \n",
    "plt.scatter(umap_embeddings[:,0], umap_embeddings[:,1], s=10)"
   ]
  },
  {
   "cell_type": "code",
   "execution_count": 32,
   "metadata": {},
   "outputs": [
    {
     "data": {
      "application/vnd.plotly.v1+json": {
       "config": {
        "plotlyServerURL": "https://plot.ly"
       },
       "data": [
        {
         "customdata": [
          [
           "VvG"
          ],
          [
           "VvG"
          ],
          [
           "VvG"
          ],
          [
           "VvG"
          ],
          [
           "VvG"
          ],
          [
           "VvG"
          ],
          [
           "VvG"
          ],
          [
           "VvG"
          ],
          [
           "VvG"
          ],
          [
           "VvG"
          ],
          [
           "VvG"
          ],
          [
           "VvG"
          ],
          [
           "VvG"
          ],
          [
           "VvG"
          ],
          [
           "VvG"
          ],
          [
           "VvG"
          ],
          [
           "VvG"
          ],
          [
           "VvG"
          ],
          [
           "VvG"
          ],
          [
           "VvG"
          ],
          [
           "VvG"
          ],
          [
           "VvG"
          ],
          [
           "VvG"
          ],
          [
           "VvG"
          ],
          [
           "VvG"
          ],
          [
           "VvG"
          ],
          [
           "VvG"
          ],
          [
           "VvG"
          ],
          [
           "VvG"
          ],
          [
           "VvG"
          ],
          [
           "VvG"
          ],
          [
           "VvG"
          ],
          [
           "VvG"
          ],
          [
           "VvG"
          ],
          [
           "VvG"
          ],
          [
           "VvG"
          ],
          [
           "VvG"
          ],
          [
           "VvG"
          ],
          [
           "VvG"
          ],
          [
           "VvG"
          ],
          [
           "VvG"
          ],
          [
           "VvG"
          ],
          [
           "VvG"
          ],
          [
           "VvG"
          ],
          [
           "VvG"
          ],
          [
           "VvG"
          ],
          [
           "VvG"
          ],
          [
           "VvG"
          ],
          [
           "VvG"
          ],
          [
           "VvG"
          ],
          [
           "VvG"
          ],
          [
           "VvG"
          ],
          [
           "VvG"
          ],
          [
           "VvG"
          ],
          [
           "VvG"
          ],
          [
           "VvG"
          ],
          [
           "VvG"
          ],
          [
           "VvG"
          ],
          [
           "VvG"
          ],
          [
           "VvG"
          ],
          [
           "VvG"
          ],
          [
           "VvG"
          ],
          [
           "VvG"
          ],
          [
           "VvG"
          ],
          [
           "VvG"
          ],
          [
           "VvG"
          ],
          [
           "VvG"
          ],
          [
           "VvG"
          ],
          [
           "VvG"
          ],
          [
           "VvG"
          ],
          [
           "VvG"
          ],
          [
           "VvG"
          ],
          [
           "VvG"
          ],
          [
           "VvG"
          ],
          [
           "VvG"
          ],
          [
           "VvG"
          ],
          [
           "VvG"
          ],
          [
           "VvG"
          ],
          [
           "VvG"
          ],
          [
           "VvG"
          ],
          [
           "VvG"
          ],
          [
           "VvG"
          ],
          [
           "VvG"
          ],
          [
           "VvG"
          ],
          [
           "VvG"
          ],
          [
           "VvG"
          ],
          [
           "VvG"
          ],
          [
           "VvG"
          ],
          [
           "VvG"
          ],
          [
           "VvG"
          ],
          [
           "VvG"
          ],
          [
           "VvG"
          ],
          [
           "VvG"
          ],
          [
           "VvG"
          ],
          [
           "VvG"
          ],
          [
           "VvG"
          ],
          [
           "VvG"
          ],
          [
           "VvG"
          ],
          [
           "VvG"
          ],
          [
           "VvG"
          ],
          [
           "VvG"
          ],
          [
           "VvG"
          ],
          [
           "VvG"
          ],
          [
           "VvG"
          ],
          [
           "VvG"
          ],
          [
           "VvG"
          ],
          [
           "VvG"
          ],
          [
           "VvG"
          ],
          [
           "VvG"
          ],
          [
           "VvG"
          ],
          [
           "VvG"
          ],
          [
           "VvG"
          ],
          [
           "VvG"
          ],
          [
           "VvG"
          ],
          [
           "VvG"
          ],
          [
           "VvG"
          ],
          [
           "VvG"
          ],
          [
           "VvG"
          ],
          [
           "VvG"
          ],
          [
           "VvG"
          ],
          [
           "VvG"
          ],
          [
           "VvG"
          ],
          [
           "VvG"
          ],
          [
           "VvG"
          ],
          [
           "VvG"
          ],
          [
           "VvG"
          ],
          [
           "VvG"
          ],
          [
           "VvG"
          ],
          [
           "VvG"
          ],
          [
           "VvG"
          ],
          [
           "VvG"
          ],
          [
           "VvG"
          ],
          [
           "VvG"
          ],
          [
           "VvG"
          ],
          [
           "VvG"
          ],
          [
           "VvG"
          ],
          [
           "VvG"
          ],
          [
           "VvG"
          ],
          [
           "VvG"
          ],
          [
           "VvG"
          ],
          [
           "VvG"
          ],
          [
           "VvG"
          ],
          [
           "VvG"
          ],
          [
           "VvG"
          ],
          [
           "VvG"
          ],
          [
           "VvG"
          ],
          [
           "VvG"
          ],
          [
           "VvG"
          ],
          [
           "VvG"
          ],
          [
           "VvG"
          ],
          [
           "VvG"
          ],
          [
           "VvG"
          ],
          [
           "VvG"
          ],
          [
           "VvG"
          ],
          [
           "VvG"
          ],
          [
           "VvG"
          ],
          [
           "VvG"
          ],
          [
           "VvG"
          ],
          [
           "VvG"
          ],
          [
           "VvG"
          ],
          [
           "VvG"
          ],
          [
           "VvG"
          ],
          [
           "VvG"
          ],
          [
           "VvG"
          ],
          [
           "VvG"
          ],
          [
           "VvG"
          ],
          [
           "VvG"
          ],
          [
           "VvG"
          ],
          [
           "VvG"
          ],
          [
           "VvG"
          ],
          [
           "VvG"
          ],
          [
           "VvG"
          ],
          [
           "VvG"
          ],
          [
           "VvG"
          ],
          [
           "VvG"
          ],
          [
           "VvG"
          ],
          [
           "VvG"
          ],
          [
           "VvG"
          ],
          [
           "VvG"
          ],
          [
           "VvG"
          ],
          [
           "VvG"
          ],
          [
           "VvG"
          ],
          [
           "VvG"
          ],
          [
           "VvG"
          ],
          [
           "VvG"
          ],
          [
           "VvG"
          ],
          [
           "VvG"
          ],
          [
           "VvG"
          ],
          [
           "VvG"
          ],
          [
           "VvG"
          ],
          [
           "VvG"
          ],
          [
           "VvG"
          ],
          [
           "VvG"
          ],
          [
           "VvG"
          ],
          [
           "VvG"
          ],
          [
           "VvG"
          ],
          [
           "VvG"
          ],
          [
           "VvG"
          ],
          [
           "VvG"
          ],
          [
           "VvG"
          ],
          [
           "VvG"
          ],
          [
           "VvG"
          ],
          [
           "VvG"
          ],
          [
           "VvG"
          ],
          [
           "VvG"
          ],
          [
           "VvG"
          ],
          [
           "VvG"
          ],
          [
           "VvG"
          ],
          [
           "VvG"
          ],
          [
           "VvG"
          ],
          [
           "VvG"
          ],
          [
           "VvG"
          ],
          [
           "VvG"
          ],
          [
           "VvG"
          ],
          [
           "VvG"
          ],
          [
           "VvG"
          ],
          [
           "VvG"
          ],
          [
           "VvG"
          ],
          [
           "VvG"
          ],
          [
           "VvG"
          ],
          [
           "VvG"
          ],
          [
           "VvG"
          ],
          [
           "VvG"
          ],
          [
           "VvG"
          ],
          [
           "VvG"
          ],
          [
           "VvG"
          ],
          [
           "VvG"
          ],
          [
           "VvG"
          ],
          [
           "VvG"
          ],
          [
           "VvG"
          ],
          [
           "VvG"
          ],
          [
           "VvG"
          ],
          [
           "VvG"
          ],
          [
           "VvG"
          ],
          [
           "VvG"
          ],
          [
           "VvG"
          ],
          [
           "VvG"
          ],
          [
           "VvG"
          ],
          [
           "VvG"
          ],
          [
           "VvG"
          ],
          [
           "VvG"
          ],
          [
           "VvG"
          ],
          [
           "VvG"
          ],
          [
           "VvG"
          ],
          [
           "VvG"
          ],
          [
           "VvG"
          ],
          [
           "VvG"
          ],
          [
           "VvG"
          ],
          [
           "VvG"
          ],
          [
           "VvG"
          ],
          [
           "VvG"
          ],
          [
           "VvG"
          ],
          [
           "VvG"
          ],
          [
           "VvG"
          ],
          [
           "VvG"
          ],
          [
           "VvG"
          ],
          [
           "VvG"
          ],
          [
           "VvG"
          ],
          [
           "VvG"
          ],
          [
           "VvG"
          ],
          [
           "VvG"
          ],
          [
           "VvG"
          ],
          [
           "VvG"
          ],
          [
           "VvG"
          ],
          [
           "VvG"
          ],
          [
           "VvG"
          ],
          [
           "VvG"
          ],
          [
           "VvG"
          ],
          [
           "VvG"
          ],
          [
           "VvG"
          ],
          [
           "VvG"
          ],
          [
           "VvG"
          ],
          [
           "VvG"
          ],
          [
           "VvG"
          ],
          [
           "VvG"
          ],
          [
           "VvG"
          ],
          [
           "VvG"
          ],
          [
           "VvG"
          ],
          [
           "VvG"
          ],
          [
           "VvG"
          ],
          [
           "VvG"
          ],
          [
           "VvG"
          ],
          [
           "VvG"
          ],
          [
           "VvG"
          ],
          [
           "VvG"
          ],
          [
           "VvG"
          ],
          [
           "VvG"
          ],
          [
           "VvG"
          ],
          [
           "VvG"
          ],
          [
           "VvG"
          ],
          [
           "VvG"
          ],
          [
           "VvG"
          ],
          [
           "VvG"
          ],
          [
           "VvG"
          ],
          [
           "VvG"
          ],
          [
           "VvG"
          ],
          [
           "VvG"
          ],
          [
           "VvG"
          ],
          [
           "VvG"
          ],
          [
           "VvG"
          ],
          [
           "VvG"
          ],
          [
           "VvG"
          ],
          [
           "VvG"
          ],
          [
           "VvG"
          ],
          [
           "VvG"
          ],
          [
           "VvG"
          ],
          [
           "VvG"
          ],
          [
           "VvG"
          ],
          [
           "VvG"
          ],
          [
           "VvG"
          ],
          [
           "VvG"
          ],
          [
           "VvG"
          ],
          [
           "VvG"
          ],
          [
           "VvG"
          ],
          [
           "VvG"
          ],
          [
           "VvG"
          ],
          [
           "VvG"
          ],
          [
           "VvG"
          ],
          [
           "VvG"
          ],
          [
           "VvG"
          ],
          [
           "VvG"
          ],
          [
           "VvG"
          ],
          [
           "VvG"
          ],
          [
           "VvG"
          ],
          [
           "VvG"
          ],
          [
           "VvG"
          ],
          [
           "VvG"
          ],
          [
           "VvG"
          ],
          [
           "VvG"
          ],
          [
           "VvG"
          ],
          [
           "VvG"
          ],
          [
           "VvG"
          ],
          [
           "VvG"
          ],
          [
           "VvG"
          ],
          [
           "VvG"
          ],
          [
           "VvG"
          ],
          [
           "VvG"
          ],
          [
           "VvG"
          ],
          [
           "VvG"
          ],
          [
           "VvG"
          ],
          [
           "VvG"
          ],
          [
           "VvG"
          ],
          [
           "VvG"
          ],
          [
           "VvG"
          ],
          [
           "VvG"
          ],
          [
           "VvG"
          ],
          [
           "VvG"
          ],
          [
           "VvG"
          ],
          [
           "VvG"
          ],
          [
           "VvG"
          ],
          [
           "VvG"
          ],
          [
           "VvG"
          ],
          [
           "VvG"
          ],
          [
           "VvG"
          ],
          [
           "VvG"
          ],
          [
           "VvG"
          ],
          [
           "VvG"
          ],
          [
           "VvG"
          ],
          [
           "VvG"
          ],
          [
           "VvG"
          ],
          [
           "VvG"
          ],
          [
           "VvG"
          ],
          [
           "VvG"
          ],
          [
           "VvG"
          ],
          [
           "VvG"
          ],
          [
           "VvG"
          ],
          [
           "VvG"
          ],
          [
           "VvG"
          ],
          [
           "VvG"
          ],
          [
           "VvG"
          ],
          [
           "VvG"
          ],
          [
           "VvG"
          ],
          [
           "VvG"
          ],
          [
           "VvG"
          ],
          [
           "VvG"
          ],
          [
           "VvG"
          ],
          [
           "VvG"
          ],
          [
           "VvG"
          ],
          [
           "VvG"
          ],
          [
           "VvG"
          ],
          [
           "VvG"
          ],
          [
           "VvG"
          ],
          [
           "VvG"
          ],
          [
           "VvG"
          ],
          [
           "VvG"
          ],
          [
           "VvG"
          ],
          [
           "VvG"
          ],
          [
           "VvG"
          ],
          [
           "VvG"
          ],
          [
           "VvG"
          ],
          [
           "VvG"
          ],
          [
           "VvG"
          ],
          [
           "VvG"
          ],
          [
           "VvG"
          ],
          [
           "VvG"
          ],
          [
           "VvG"
          ],
          [
           "VvG"
          ],
          [
           "VvG"
          ],
          [
           "VvG"
          ],
          [
           "VvG"
          ],
          [
           "VvG"
          ],
          [
           "VvG"
          ],
          [
           "VvG"
          ],
          [
           "VvG"
          ],
          [
           "VvG"
          ],
          [
           "VvG"
          ],
          [
           "VvG"
          ],
          [
           "VvG"
          ],
          [
           "VvG"
          ],
          [
           "VvG"
          ],
          [
           "VvG"
          ],
          [
           "VvG"
          ],
          [
           "VvG"
          ],
          [
           "VvG"
          ],
          [
           "VvG"
          ],
          [
           "VvG"
          ],
          [
           "VvG"
          ],
          [
           "VvG"
          ],
          [
           "VvG"
          ],
          [
           "VvG"
          ],
          [
           "VvG"
          ],
          [
           "VvG"
          ],
          [
           "VvG"
          ],
          [
           "VvG"
          ],
          [
           "VvG"
          ],
          [
           "VvG"
          ],
          [
           "VvG"
          ],
          [
           "VvG"
          ],
          [
           "VvG"
          ],
          [
           "VvG"
          ],
          [
           "VvG"
          ],
          [
           "VvG"
          ],
          [
           "VvG"
          ],
          [
           "VvG"
          ],
          [
           "VvG"
          ],
          [
           "VvG"
          ],
          [
           "VvG"
          ],
          [
           "VvG"
          ],
          [
           "VvG"
          ],
          [
           "VvG"
          ],
          [
           "VvG"
          ],
          [
           "VvG"
          ],
          [
           "VvG"
          ],
          [
           "VvG"
          ],
          [
           "VvG"
          ],
          [
           "VvG"
          ],
          [
           "VvG"
          ],
          [
           "VvG"
          ],
          [
           "VvG"
          ],
          [
           "VvG"
          ],
          [
           "VvG"
          ],
          [
           "VvG"
          ],
          [
           "VvG"
          ],
          [
           "VvG"
          ],
          [
           "VvG"
          ],
          [
           "VvG"
          ],
          [
           "VvG"
          ],
          [
           "VvG"
          ],
          [
           "VvG"
          ],
          [
           "VvG"
          ],
          [
           "VvG"
          ],
          [
           "VvG"
          ],
          [
           "VvG"
          ],
          [
           "VvG"
          ],
          [
           "VvG"
          ],
          [
           "VvG"
          ],
          [
           "VvG"
          ],
          [
           "VvG"
          ],
          [
           "VvG"
          ],
          [
           "VvG"
          ],
          [
           "VvG"
          ],
          [
           "VvG"
          ],
          [
           "VvG"
          ],
          [
           "VvG"
          ],
          [
           "VvG"
          ],
          [
           "VvG"
          ],
          [
           "VvG"
          ],
          [
           "VvG"
          ],
          [
           "VvG"
          ],
          [
           "VvG"
          ],
          [
           "VvG"
          ],
          [
           "VvG"
          ],
          [
           "VvG"
          ],
          [
           "VvG"
          ],
          [
           "VvG"
          ],
          [
           "VvG"
          ],
          [
           "VvG"
          ],
          [
           "VvG"
          ],
          [
           "VvG"
          ],
          [
           "VvG"
          ],
          [
           "VvG"
          ],
          [
           "VvG"
          ],
          [
           "VvG"
          ],
          [
           "VvG"
          ],
          [
           "VvG"
          ],
          [
           "VvG"
          ],
          [
           "VvG"
          ],
          [
           "VvG"
          ],
          [
           "VvG"
          ],
          [
           "VvG"
          ],
          [
           "VvG"
          ],
          [
           "VvG"
          ],
          [
           "VvG"
          ],
          [
           "VvG"
          ],
          [
           "VvG"
          ],
          [
           "VvG"
          ],
          [
           "VvG"
          ],
          [
           "VvG"
          ],
          [
           "VvG"
          ],
          [
           "VvG"
          ],
          [
           "VvG"
          ],
          [
           "VvG"
          ],
          [
           "VvG"
          ],
          [
           "VvG"
          ],
          [
           "VvG"
          ],
          [
           "VvG"
          ],
          [
           "VvG"
          ],
          [
           "VvG"
          ],
          [
           "VvG"
          ],
          [
           "VvG"
          ],
          [
           "VvG"
          ],
          [
           "VvG"
          ],
          [
           "VvG"
          ],
          [
           "VvG"
          ],
          [
           "VvG"
          ],
          [
           "VvG"
          ],
          [
           "VvG"
          ],
          [
           "VvG"
          ],
          [
           "VvG"
          ],
          [
           "VvG"
          ],
          [
           "VvG"
          ],
          [
           "VvG"
          ],
          [
           "VvG"
          ],
          [
           "VvG"
          ],
          [
           "VvG"
          ],
          [
           "VvG"
          ],
          [
           "VvG"
          ],
          [
           "VvG"
          ],
          [
           "VvG"
          ],
          [
           "VvG"
          ],
          [
           "VvG"
          ],
          [
           "VvG"
          ],
          [
           "VvG"
          ],
          [
           "VvG"
          ],
          [
           "VvG"
          ],
          [
           "VvG"
          ],
          [
           "VvG"
          ],
          [
           "VvG"
          ],
          [
           "VvG"
          ],
          [
           "VvG"
          ],
          [
           "VvG"
          ],
          [
           "VvG"
          ],
          [
           "VvG"
          ],
          [
           "VvG"
          ],
          [
           "VvG"
          ],
          [
           "VvG"
          ],
          [
           "VvG"
          ],
          [
           "VvG"
          ],
          [
           "VvG"
          ],
          [
           "VvG"
          ],
          [
           "VvG"
          ],
          [
           "VvG"
          ],
          [
           "VvG"
          ],
          [
           "VvG"
          ],
          [
           "VvG"
          ],
          [
           "VvG"
          ],
          [
           "VvG"
          ],
          [
           "VvG"
          ],
          [
           "VvG"
          ],
          [
           "VvG"
          ],
          [
           "VvG"
          ],
          [
           "VvG"
          ],
          [
           "VvG"
          ],
          [
           "VvG"
          ],
          [
           "VvG"
          ],
          [
           "VvG"
          ],
          [
           "VvG"
          ],
          [
           "VvG"
          ],
          [
           "VvG"
          ],
          [
           "VvG"
          ],
          [
           "VvG"
          ],
          [
           "VvG"
          ],
          [
           "VvG"
          ],
          [
           "VvG"
          ],
          [
           "VvG"
          ],
          [
           "VvG"
          ],
          [
           "VvG"
          ],
          [
           "VvG"
          ],
          [
           "VvG"
          ],
          [
           "VvG"
          ],
          [
           "VvG"
          ],
          [
           "VvG"
          ],
          [
           "VvG"
          ],
          [
           "VvG"
          ],
          [
           "VvG"
          ],
          [
           "VvG"
          ],
          [
           "VvG"
          ],
          [
           "VvG"
          ],
          [
           "VvG"
          ],
          [
           "VvG"
          ],
          [
           "VvG"
          ],
          [
           "VvG"
          ],
          [
           "VvG"
          ],
          [
           "VvG"
          ],
          [
           "VvG"
          ],
          [
           "VvG"
          ],
          [
           "VvG"
          ],
          [
           "VvG"
          ],
          [
           "VvG"
          ],
          [
           "VvG"
          ],
          [
           "VvG"
          ],
          [
           "VvG"
          ],
          [
           "VvG"
          ],
          [
           "VvG"
          ],
          [
           "VvG"
          ],
          [
           "VvG"
          ],
          [
           "VvG"
          ],
          [
           "VvG"
          ],
          [
           "VvG"
          ],
          [
           "VvG"
          ],
          [
           "VvG"
          ],
          [
           "VvG"
          ],
          [
           "VvG"
          ],
          [
           "VvG"
          ],
          [
           "VvG"
          ],
          [
           "VvG"
          ],
          [
           "VvG"
          ],
          [
           "VvG"
          ],
          [
           "VvG"
          ],
          [
           "VvG"
          ],
          [
           "VvG"
          ],
          [
           "VvG"
          ],
          [
           "VvG"
          ],
          [
           "VvG"
          ],
          [
           "VvG"
          ],
          [
           "VvG"
          ],
          [
           "VvG"
          ],
          [
           "VvG"
          ],
          [
           "VvG"
          ],
          [
           "VvG"
          ],
          [
           "VvG"
          ],
          [
           "VvG"
          ],
          [
           "VvG"
          ],
          [
           "VvG"
          ],
          [
           "VvG"
          ],
          [
           "VvG"
          ],
          [
           "VvG"
          ],
          [
           "VvG"
          ],
          [
           "VvG"
          ],
          [
           "VvG"
          ],
          [
           "VvG"
          ],
          [
           "VvG"
          ],
          [
           "VvG"
          ],
          [
           "VvG"
          ],
          [
           "VvG"
          ],
          [
           "VvG"
          ],
          [
           "VvG"
          ],
          [
           "VvG"
          ],
          [
           "VvG"
          ],
          [
           "VvG"
          ],
          [
           "VvG"
          ],
          [
           "VvG"
          ],
          [
           "VvG"
          ],
          [
           "VvG"
          ],
          [
           "VvG"
          ],
          [
           "VvG"
          ],
          [
           "VvG"
          ],
          [
           "VvG"
          ],
          [
           "VvG"
          ],
          [
           "VvG"
          ],
          [
           "VvG"
          ],
          [
           "VvG"
          ],
          [
           "VvG"
          ],
          [
           "VvG"
          ],
          [
           "VvG"
          ],
          [
           "VvG"
          ],
          [
           "VvG"
          ],
          [
           "VvG"
          ],
          [
           "VvG"
          ],
          [
           "VvG"
          ],
          [
           "VvG"
          ],
          [
           "VvG"
          ],
          [
           "VvG"
          ],
          [
           "VvG"
          ],
          [
           "VvG"
          ],
          [
           "VvG"
          ],
          [
           "VvG"
          ],
          [
           "VvG"
          ],
          [
           "VvG"
          ],
          [
           "VvG"
          ],
          [
           "VvG"
          ],
          [
           "VvG"
          ],
          [
           "VvG"
          ],
          [
           "VvG"
          ],
          [
           "VvG"
          ],
          [
           "VvG"
          ],
          [
           "VvG"
          ],
          [
           "VvG"
          ],
          [
           "VvG"
          ],
          [
           "VvG"
          ],
          [
           "VvG"
          ],
          [
           "VvG"
          ],
          [
           "VvG"
          ],
          [
           "VvG"
          ],
          [
           "VvG"
          ],
          [
           "VvG"
          ],
          [
           "VvG"
          ],
          [
           "VvG"
          ],
          [
           "VvG"
          ],
          [
           "VvG"
          ],
          [
           "VvG"
          ],
          [
           "VvG"
          ],
          [
           "VvG"
          ],
          [
           "VvG"
          ],
          [
           "VvG"
          ],
          [
           "VvG"
          ],
          [
           "VvG"
          ],
          [
           "VvG"
          ],
          [
           "VvG"
          ],
          [
           "VvG"
          ],
          [
           "VvG"
          ],
          [
           "VvG"
          ],
          [
           "VvG"
          ],
          [
           "VvG"
          ],
          [
           "VvG"
          ],
          [
           "VvG"
          ],
          [
           "VvG"
          ],
          [
           "VvG"
          ],
          [
           "VvG"
          ],
          [
           "VvG"
          ],
          [
           "VvG"
          ],
          [
           "VvG"
          ],
          [
           "VvG"
          ],
          [
           "VvG"
          ],
          [
           "VvG"
          ],
          [
           "VvG"
          ],
          [
           "VvG"
          ],
          [
           "VvG"
          ],
          [
           "VvG"
          ],
          [
           "VvG"
          ],
          [
           "VvG"
          ],
          [
           "VvG"
          ],
          [
           "VvG"
          ],
          [
           "VvG"
          ],
          [
           "VvG"
          ],
          [
           "VvG"
          ],
          [
           "VvG"
          ],
          [
           "VvG"
          ],
          [
           "VvG"
          ],
          [
           "VvG"
          ],
          [
           "VvG"
          ],
          [
           "VvG"
          ],
          [
           "VvG"
          ],
          [
           "VvG"
          ],
          [
           "VvG"
          ],
          [
           "VvG"
          ],
          [
           "VvG"
          ],
          [
           "VvG"
          ],
          [
           "VvG"
          ],
          [
           "VvG"
          ],
          [
           "VvG"
          ],
          [
           "VvG"
          ],
          [
           "VvG"
          ],
          [
           "VvG"
          ],
          [
           "VvG"
          ],
          [
           "VvG"
          ],
          [
           "VvG"
          ],
          [
           "VvG"
          ],
          [
           "VvG"
          ],
          [
           "VvG"
          ],
          [
           "VvG"
          ],
          [
           "VvG"
          ],
          [
           "VvG"
          ],
          [
           "VvG"
          ],
          [
           "VvG"
          ],
          [
           "VvG"
          ],
          [
           "VvG"
          ],
          [
           "VvG"
          ],
          [
           "VvG"
          ],
          [
           "VvG"
          ],
          [
           "VvG"
          ],
          [
           "VvG"
          ],
          [
           "VvG"
          ],
          [
           "VvG"
          ],
          [
           "VvG"
          ],
          [
           "VvG"
          ],
          [
           "VvG"
          ],
          [
           "VvG"
          ],
          [
           "VvG"
          ],
          [
           "VvG"
          ],
          [
           "VvG"
          ],
          [
           "VvG"
          ],
          [
           "VvG"
          ],
          [
           "VvG"
          ],
          [
           "VvG"
          ],
          [
           "VvG"
          ],
          [
           "VvG"
          ],
          [
           "VvG"
          ],
          [
           "VvG"
          ],
          [
           "VvG"
          ],
          [
           "VvG"
          ],
          [
           "VvG"
          ],
          [
           "VvG"
          ],
          [
           "VvG"
          ],
          [
           "VvG"
          ],
          [
           "VvG"
          ],
          [
           "VvG"
          ],
          [
           "VvG"
          ],
          [
           "VvG"
          ],
          [
           "VvG"
          ],
          [
           "VvG"
          ],
          [
           "VvG"
          ],
          [
           "VvG"
          ],
          [
           "VvG"
          ],
          [
           "VvG"
          ],
          [
           "VvG"
          ],
          [
           "VvG"
          ],
          [
           "VvG"
          ],
          [
           "VvG"
          ],
          [
           "VvG"
          ],
          [
           "VvG"
          ],
          [
           "VvG"
          ],
          [
           "VvG"
          ],
          [
           "VvG"
          ],
          [
           "VvG"
          ],
          [
           "VvG"
          ],
          [
           "VvG"
          ],
          [
           "VvG"
          ],
          [
           "VvG"
          ],
          [
           "VvG"
          ],
          [
           "VvG"
          ],
          [
           "VvG"
          ],
          [
           "VvG"
          ],
          [
           "VvG"
          ],
          [
           "VvG"
          ],
          [
           "VvG"
          ],
          [
           "VvG"
          ],
          [
           "VvG"
          ],
          [
           "VvG"
          ],
          [
           "VvG"
          ],
          [
           "VvG"
          ],
          [
           "VvG"
          ],
          [
           "VvG"
          ],
          [
           "VvG"
          ],
          [
           "VvG"
          ],
          [
           "VvG"
          ],
          [
           "VvG"
          ],
          [
           "VvG"
          ],
          [
           "VvG"
          ],
          [
           "VvG"
          ],
          [
           "VvG"
          ],
          [
           "VvG"
          ],
          [
           "VvG"
          ],
          [
           "VvG"
          ],
          [
           "VvG"
          ],
          [
           "VvG"
          ],
          [
           "VvG"
          ],
          [
           "VvG"
          ],
          [
           "VvG"
          ],
          [
           "VvG"
          ],
          [
           "VvG"
          ],
          [
           "VvG"
          ],
          [
           "VvG"
          ],
          [
           "VvG"
          ],
          [
           "VvG"
          ],
          [
           "VvG"
          ],
          [
           "VvG"
          ],
          [
           "VvG"
          ],
          [
           "VvG"
          ],
          [
           "VvG"
          ],
          [
           "VvG"
          ],
          [
           "VvG"
          ],
          [
           "VvG"
          ],
          [
           "VvG"
          ],
          [
           "VvG"
          ],
          [
           "VvG"
          ],
          [
           "VvG"
          ],
          [
           "VvG"
          ],
          [
           "VvG"
          ],
          [
           "VvG"
          ],
          [
           "VvG"
          ],
          [
           "VvG"
          ],
          [
           "VvG"
          ],
          [
           "VvG"
          ],
          [
           "VvG"
          ],
          [
           "VvG"
          ],
          [
           "VvG"
          ],
          [
           "VvG"
          ],
          [
           "VvG"
          ],
          [
           "VvG"
          ],
          [
           "VvG"
          ],
          [
           "VvG"
          ],
          [
           "VvG"
          ],
          [
           "VvG"
          ],
          [
           "VvG"
          ],
          [
           "VvG"
          ],
          [
           "VvG"
          ],
          [
           "VvG"
          ],
          [
           "VvG"
          ],
          [
           "VvG"
          ],
          [
           "VvG"
          ],
          [
           "VvG"
          ],
          [
           "VvG"
          ],
          [
           "VvG"
          ],
          [
           "VvG"
          ],
          [
           "VvG"
          ],
          [
           "VvG"
          ],
          [
           "VvG"
          ],
          [
           "VvG"
          ],
          [
           "VvG"
          ],
          [
           "VvG"
          ],
          [
           "VvG"
          ],
          [
           "VvG"
          ],
          [
           "VvG"
          ],
          [
           "VvG"
          ],
          [
           "VvG"
          ],
          [
           "VvG"
          ],
          [
           "VvG"
          ],
          [
           "VvG"
          ],
          [
           "VvG"
          ],
          [
           "VvG"
          ],
          [
           "VvG"
          ],
          [
           "VvG"
          ],
          [
           "VvG"
          ],
          [
           "VvG"
          ],
          [
           "VvG"
          ],
          [
           "VvG"
          ],
          [
           "VvG"
          ],
          [
           "VvG"
          ],
          [
           "VvG"
          ],
          [
           "VvG"
          ],
          [
           "VvG"
          ],
          [
           "VvG"
          ],
          [
           "VvG"
          ],
          [
           "VvG"
          ],
          [
           "VvG"
          ],
          [
           "VvG"
          ],
          [
           "VvG"
          ],
          [
           "VvG"
          ],
          [
           "VvG"
          ],
          [
           "VvG"
          ],
          [
           "VvG"
          ],
          [
           "VvG"
          ],
          [
           "VvG"
          ],
          [
           "VvG"
          ],
          [
           "VvG"
          ],
          [
           "VvG"
          ],
          [
           "VvG"
          ],
          [
           "VvG"
          ],
          [
           "VvG"
          ],
          [
           "VvG"
          ],
          [
           "VvG"
          ],
          [
           "VvG"
          ],
          [
           "VvG"
          ],
          [
           "VvG"
          ],
          [
           "VvG"
          ],
          [
           "VvG"
          ],
          [
           "VvG"
          ],
          [
           "VvG"
          ],
          [
           "VvG"
          ],
          [
           "VvG"
          ],
          [
           "VvG"
          ],
          [
           "VvG"
          ],
          [
           "VvG"
          ],
          [
           "VvG"
          ],
          [
           "VvG"
          ],
          [
           "VvG"
          ],
          [
           "VvG"
          ],
          [
           "VvG"
          ],
          [
           "VvG"
          ],
          [
           "VvG"
          ],
          [
           "VvG"
          ],
          [
           "VvG"
          ],
          [
           "VvG"
          ],
          [
           "VvG"
          ],
          [
           "VvG"
          ],
          [
           "VvG"
          ],
          [
           "VvG"
          ],
          [
           "VvG"
          ],
          [
           "VvG"
          ],
          [
           "VvG"
          ],
          [
           "VvG"
          ],
          [
           "VvG"
          ],
          [
           "VvG"
          ],
          [
           "VvG"
          ],
          [
           "VvG"
          ],
          [
           "VvG"
          ],
          [
           "VvG"
          ],
          [
           "VvG"
          ],
          [
           "VvG"
          ],
          [
           "VvG"
          ],
          [
           "VvG"
          ],
          [
           "VvG"
          ],
          [
           "VvG"
          ],
          [
           "VvG"
          ],
          [
           "VvG"
          ],
          [
           "VvG"
          ],
          [
           "VvG"
          ],
          [
           "VvG"
          ],
          [
           "VvG"
          ],
          [
           "VvG"
          ],
          [
           "VvG"
          ],
          [
           "VvG"
          ],
          [
           "VvG"
          ],
          [
           "VvG"
          ],
          [
           "VvG"
          ],
          [
           "VvG"
          ],
          [
           "VvG"
          ],
          [
           "VvG"
          ],
          [
           "VvG"
          ],
          [
           "VvG"
          ],
          [
           "VvG"
          ],
          [
           "VvG"
          ],
          [
           "VvG"
          ],
          [
           "VvG"
          ],
          [
           "VvG"
          ],
          [
           "VvG"
          ],
          [
           "VvG"
          ],
          [
           "VvG"
          ],
          [
           "VvG"
          ],
          [
           "VvG"
          ],
          [
           "VvG"
          ],
          [
           "VvG"
          ],
          [
           "VvG"
          ],
          [
           "VvG"
          ],
          [
           "VvG"
          ],
          [
           "VvG"
          ],
          [
           "VvG"
          ],
          [
           "VvG"
          ],
          [
           "VvG"
          ],
          [
           "VvG"
          ],
          [
           "VvG"
          ],
          [
           "VvG"
          ],
          [
           "VvG"
          ],
          [
           "VvG"
          ],
          [
           "VvG"
          ],
          [
           "VvG"
          ],
          [
           "VvG"
          ],
          [
           "VvG"
          ],
          [
           "VvG"
          ],
          [
           "VvG"
          ],
          [
           "VvG"
          ],
          [
           "VvG"
          ],
          [
           "VvG"
          ],
          [
           "VvG"
          ],
          [
           "VvG"
          ],
          [
           "VvG"
          ],
          [
           "VvG"
          ],
          [
           "VvG"
          ],
          [
           "VvG"
          ],
          [
           "VvG"
          ],
          [
           "VvG"
          ],
          [
           "VvG"
          ],
          [
           "VvG"
          ],
          [
           "VvG"
          ],
          [
           "VvG"
          ],
          [
           "VvG"
          ],
          [
           "VvG"
          ],
          [
           "VvG"
          ],
          [
           "VvG"
          ],
          [
           "VvG"
          ],
          [
           "VvG"
          ],
          [
           "VvG"
          ],
          [
           "VvG"
          ],
          [
           "VvG"
          ],
          [
           "VvG"
          ],
          [
           "VvG"
          ],
          [
           "VvG"
          ],
          [
           "VvG"
          ],
          [
           "VvG"
          ],
          [
           "VvG"
          ],
          [
           "VvG"
          ],
          [
           "VvG"
          ],
          [
           "VvG"
          ],
          [
           "VvG"
          ],
          [
           "VvG"
          ],
          [
           "VvG"
          ],
          [
           "VvG"
          ],
          [
           "VvG"
          ],
          [
           "VvG"
          ],
          [
           "VvG"
          ],
          [
           "VvG"
          ],
          [
           "VvG"
          ],
          [
           "VvG"
          ],
          [
           "VvG"
          ],
          [
           "VvG"
          ],
          [
           "VvG"
          ],
          [
           "VvG"
          ],
          [
           "VvG"
          ],
          [
           "VvG"
          ],
          [
           "VvG"
          ],
          [
           "VvG"
          ],
          [
           "VvG"
          ],
          [
           "VvG"
          ],
          [
           "VvG"
          ],
          [
           "VvG"
          ],
          [
           "VvG"
          ],
          [
           "VvG"
          ],
          [
           "VvG"
          ],
          [
           "VvG"
          ],
          [
           "VvG"
          ]
         ],
         "hovertemplate": "From=%{customdata[0]}<br>x=%{x}<br>y=%{y}<extra></extra>",
         "legendgroup": "VvG",
         "marker": {
          "color": "#636efa",
          "symbol": "circle"
         },
         "mode": "markers",
         "name": "VvG",
         "showlegend": true,
         "type": "scattergl",
         "x": [
          3.57061767578125,
          3.5669522285461426,
          3.69857120513916,
          3.5913138389587402,
          3.6421737670898438,
          3.7249345779418945,
          3.706484079360962,
          3.7736048698425293,
          3.7008466720581055,
          3.4027347564697266,
          3.796553611755371,
          3.352818489074707,
          3.736696720123291,
          3.355877637863159,
          3.737414836883545,
          3.391017198562622,
          3.8534646034240723,
          3.3458876609802246,
          3.3447630405426025,
          3.3990023136138916,
          3.4357528686523438,
          3.486571788787842,
          3.824378728866577,
          3.8535125255584717,
          3.682565927505493,
          3.406919479370117,
          3.315037965774536,
          3.4661412239074707,
          3.492419719696045,
          3.4421708583831787,
          3.605043888092041,
          3.2882704734802246,
          2.8888907432556152,
          3.4174861907958984,
          3.6381783485412598,
          2.70993971824646,
          3.1970818042755127,
          3.582012176513672,
          3.220081329345703,
          3.1185147762298584,
          3.1697330474853516,
          3.3744704723358154,
          2.8370251655578613,
          2.8186070919036865,
          2.9511492252349854,
          3.04923415184021,
          3.1389942169189453,
          2.6387178897857666,
          3.142906427383423,
          2.946380853652954,
          3.2167341709136963,
          3.09932017326355,
          3.119157552719116,
          3.1399192810058594,
          3.1188364028930664,
          3.0980658531188965,
          3.1572859287261963,
          3.4474730491638184,
          3.234238624572754,
          3.2999892234802246,
          3.1776926517486572,
          3.3239028453826904,
          3.4105875492095947,
          3.411550521850586,
          2.921823263168335,
          2.9457662105560303,
          2.8751447200775146,
          2.919915199279785,
          2.9362924098968506,
          2.9789016246795654,
          2.9134938716888428,
          2.961466073989868,
          2.8191611766815186,
          2.859966993331909,
          3.009667158126831,
          2.379802942276001,
          2.3668107986450195,
          2.3887248039245605,
          2.2343907356262207,
          2.1956183910369873,
          2.25276517868042,
          2.2232110500335693,
          2.2723701000213623,
          2.333982467651367,
          2.2342286109924316,
          2.2149157524108887,
          2.173959493637085,
          2.1296870708465576,
          2.1594772338867188,
          2.2062690258026123,
          2.204519510269165,
          2.235328197479248,
          2.3244049549102783,
          2.1811842918395996,
          2.150336980819702,
          2.1196696758270264,
          2.1639695167541504,
          2.8261332511901855,
          2.632352113723755,
          2.4932987689971924,
          2.3914682865142822,
          2.614835262298584,
          2.6182215213775635,
          3.5212717056274414,
          2.571030855178833,
          2.5562713146209717,
          2.5534415245056152,
          2.637152671813965,
          2.648059606552124,
          2.674650192260742,
          2.5891966819763184,
          2.8883697986602783,
          2.8561410903930664,
          3.0029613971710205,
          2.59548282623291,
          2.5046794414520264,
          2.751023530960083,
          2.719163656234741,
          2.5172250270843506,
          2.984436511993408,
          2.7226619720458984,
          3.0307371616363525,
          3.0822224617004395,
          3.028768539428711,
          3.026426315307617,
          2.9439098834991455,
          2.910238027572632,
          2.772548198699951,
          2.70991587638855,
          2.4458417892456055,
          2.9533262252807617,
          2.8774290084838867,
          2.224351406097412,
          2.9268572330474854,
          2.878422260284424,
          2.8549964427948,
          2.8222908973693848,
          2.9015116691589355,
          2.8580524921417236,
          6.161030292510986,
          2.9120407104492188,
          3.1183078289031982,
          3.0585317611694336,
          3.0744712352752686,
          3.1232855319976807,
          6.369886875152588,
          6.403287887573242,
          3.144874334335327,
          2.8174796104431152,
          3.1544792652130127,
          3.234825372695923,
          3.8660573959350586,
          3.8239433765411377,
          3.811164140701294,
          3.743029832839966,
          3.7804479598999023,
          3.671027660369873,
          3.5264854431152344,
          6.892932891845703,
          5.235996723175049,
          6.899750232696533,
          6.075043201446533,
          6.3042521476745605,
          6.533646583557129,
          4.798530578613281,
          4.826501846313477,
          4.723357677459717,
          4.60793924331665,
          4.876001358032227,
          5.60153865814209,
          5.645859241485596,
          6.341030597686768,
          5.290742874145508,
          6.164079666137695,
          5.983943462371826,
          5.404233932495117,
          6.261627197265625,
          5.304056644439697,
          5.331484794616699,
          5.564206600189209,
          5.6484055519104,
          5.847194671630859,
          5.978601932525635,
          5.722191333770752,
          5.455519676208496,
          5.486810207366943,
          5.768499851226807,
          5.496975898742676,
          7.187937259674072,
          7.158329486846924,
          7.159815788269043,
          6.997231483459473,
          7.02075719833374,
          7.0091094970703125,
          7.1079487800598145,
          6.972263336181641,
          7.098822116851807,
          6.960639476776123,
          7.123778820037842,
          6.969809055328369,
          6.688506603240967,
          6.907251358032227,
          6.583250045776367,
          6.180149555206299,
          6.149594783782959,
          6.157592296600342,
          6.212419509887695,
          6.814185619354248,
          6.958741664886475,
          6.50126838684082,
          6.767521858215332,
          6.634851455688477,
          6.65087890625,
          5.81331729888916,
          5.7814507484436035,
          6.336655139923096,
          6.251993656158447,
          6.499189853668213,
          6.331848621368408,
          6.8813347816467285,
          6.8165082931518555,
          5.283223628997803,
          6.207513809204102,
          6.3779377937316895,
          6.480047225952148,
          6.706309795379639,
          5.295746326446533,
          6.381280422210693,
          6.501886367797852,
          6.540252208709717,
          6.176634311676025,
          6.375706672668457,
          6.592372417449951,
          6.395728588104248,
          5.310890197753906,
          6.52848482131958,
          4.784318923950195,
          6.383889675140381,
          5.633413314819336,
          6.507032871246338,
          6.404458999633789,
          5.747196674346924,
          6.269634246826172,
          6.014986991882324,
          5.877679347991943,
          5.9730963706970215,
          6.465828895568848,
          6.393495559692383,
          6.4564313888549805,
          6.082276344299316,
          6.553164482116699,
          6.479857921600342,
          7.142370223999023,
          6.338545799255371,
          7.072605133056641,
          6.5420684814453125,
          7.230645179748535,
          7.101280689239502,
          6.281715393066406,
          5.511187553405762,
          6.071566104888916,
          6.924215793609619,
          6.884025573730469,
          7.26478910446167,
          7.332956314086914,
          7.093962669372559,
          6.333178520202637,
          7.319214344024658,
          7.163567543029785,
          6.189330101013184,
          6.518319606781006,
          7.302450180053711,
          7.077847003936768,
          6.215129852294922,
          5.057006359100342,
          7.189074993133545,
          7.141740322113037,
          7.14022159576416,
          7.121246337890625,
          7.142276287078857,
          7.1779279708862305,
          7.109343528747559,
          7.20786190032959,
          7.123136043548584,
          6.733171463012695,
          7.127009391784668,
          7.100886344909668,
          7.163939476013184,
          7.218652725219727,
          7.217428207397461,
          5.697300910949707,
          7.138675689697266,
          7.3593621253967285,
          7.3006415367126465,
          7.31201696395874,
          7.335378646850586,
          7.1630449295043945,
          7.063331604003906,
          6.45654296875,
          6.305028915405273,
          5.296505928039551,
          5.775104522705078,
          5.054508686065674,
          4.587560653686523,
          5.317538738250732,
          5.827160358428955,
          5.749100685119629,
          5.632419586181641,
          5.488029956817627,
          5.664957523345947,
          5.062907695770264,
          5.548730850219727,
          5.20770263671875,
          5.243753433227539,
          5.268729209899902,
          5.432195663452148,
          5.001194000244141,
          5.930649757385254,
          6.038444995880127,
          5.800595283508301,
          6.032345294952393,
          6.077116012573242,
          6.0293803215026855,
          6.029502868652344,
          6.0033745765686035,
          5.413694381713867,
          5.813385486602783,
          5.49556303024292,
          5.2982587814331055,
          6.061022758483887,
          5.147655010223389,
          5.183663368225098,
          5.04912805557251,
          5.131448268890381,
          4.5428948402404785,
          5.30804443359375,
          5.502653121948242,
          5.530059814453125,
          5.432943344116211,
          5.3014326095581055,
          4.839145660400391,
          5.532634258270264,
          5.361770153045654,
          5.330754280090332,
          5.255430698394775,
          5.112949848175049,
          5.201568126678467,
          4.7398600578308105,
          5.395305156707764,
          5.3618998527526855,
          5.445428848266602,
          5.167996883392334,
          5.959331512451172,
          5.932030200958252,
          5.863348484039307,
          5.712902069091797,
          6.148664474487305,
          6.750195026397705,
          7.091308116912842,
          6.9960432052612305,
          7.153081893920898,
          6.5547099113464355,
          4.585714817047119,
          6.433056354522705,
          6.799130439758301,
          6.754716873168945,
          5.993361949920654,
          6.681736946105957,
          5.6189751625061035,
          6.721904277801514,
          6.416440486907959,
          5.054955005645752,
          6.988604545593262,
          7.001619338989258,
          6.332785606384277,
          6.058009624481201,
          6.13321590423584,
          6.085590362548828,
          5.991783142089844,
          6.6346516609191895,
          5.418628692626953,
          6.351940631866455,
          4.921841621398926,
          5.546984672546387,
          5.155519008636475,
          5.067940711975098,
          4.299997329711914,
          6.194874286651611,
          6.975766658782959,
          4.602591037750244,
          6.877251625061035,
          6.7349162101745605,
          7.198095798492432,
          6.495859622955322,
          6.418588638305664,
          6.989712238311768,
          6.1647562980651855,
          5.924665451049805,
          5.985409259796143,
          5.724761009216309,
          7.303568363189697,
          5.394766330718994,
          5.33383321762085,
          5.401270866394043,
          6.280860424041748,
          7.185802936553955,
          7.123688697814941,
          7.322725296020508,
          6.916529178619385,
          5.981040954589844,
          5.727848529815674,
          5.856198787689209,
          5.6510539054870605,
          5.759333610534668,
          6.027315139770508,
          5.458459377288818,
          6.00296688079834,
          5.028201103210449,
          5.600238800048828,
          5.343229293823242,
          5.273919105529785,
          5.5419206619262695,
          4.940191745758057,
          5.600439548492432,
          5.764488220214844,
          6.348663330078125,
          5.332432270050049,
          6.765981674194336,
          6.397098064422607,
          6.338574409484863,
          5.529616355895996,
          6.474567413330078,
          6.03656005859375,
          6.883056163787842,
          6.299628734588623,
          5.362400531768799,
          5.10007381439209,
          5.942185401916504,
          5.675182819366455,
          5.549823760986328,
          5.628172397613525,
          6.0547685623168945,
          3.9129579067230225,
          7.038352012634277,
          6.595435619354248,
          6.3682169914245605,
          7.272860527038574,
          6.692695140838623,
          6.938750267028809,
          6.063089370727539,
          6.348130226135254,
          6.927839756011963,
          6.870163440704346,
          7.198641777038574,
          6.658345699310303,
          5.287807941436768,
          6.630499362945557,
          6.98306941986084,
          6.92628288269043,
          7.061465263366699,
          6.831939220428467,
          6.593075752258301,
          5.265394687652588,
          5.186338424682617,
          5.237157344818115,
          6.185300350189209,
          6.473718166351318,
          6.175390243530273,
          6.370864391326904,
          6.476445198059082,
          6.13276481628418,
          6.853389739990234,
          6.6515421867370605,
          6.598802089691162,
          5.470195293426514,
          5.164985179901123,
          5.202165126800537,
          6.1139607429504395,
          6.5657758712768555,
          6.579155921936035,
          6.929291725158691,
          5.407973766326904,
          6.534617900848389,
          5.9918212890625,
          6.0409650802612305,
          5.9518537521362305,
          5.248018264770508,
          6.576689720153809,
          6.1977128982543945,
          5.923443794250488,
          5.985114097595215,
          6.195065021514893,
          6.018499851226807,
          5.854455947875977,
          6.067119121551514,
          6.663111209869385,
          6.166373252868652,
          6.482503414154053,
          6.335572719573975,
          6.5559587478637695,
          6.006360054016113,
          6.1683549880981445,
          6.076195240020752,
          6.118587493896484,
          6.446898460388184,
          5.146106243133545,
          5.414477348327637,
          6.592074394226074,
          6.1993913650512695,
          6.905625820159912,
          6.530632019042969,
          6.7857818603515625,
          6.799016952514648,
          6.557102680206299,
          6.383910179138184,
          7.122844219207764,
          7.096362113952637,
          6.906524658203125,
          7.191488742828369,
          6.998134136199951,
          7.001282215118408,
          6.826343059539795,
          6.760170936584473,
          6.781059265136719,
          7.071758270263672,
          6.917490482330322,
          6.461766242980957,
          7.032609939575195,
          7.216605186462402,
          7.056995868682861,
          6.7183756828308105,
          5.363986015319824,
          6.721363544464111,
          6.7620625495910645,
          6.758398056030273,
          6.687493801116943,
          6.871004581451416,
          6.954176902770996,
          6.214004993438721,
          6.127850532531738,
          6.521454811096191,
          5.869629859924316,
          6.373384952545166,
          6.741477966308594,
          6.241182804107666,
          6.810214519500732,
          6.955448627471924,
          7.003876209259033,
          6.497495651245117,
          6.868004322052002,
          6.911877155303955,
          6.940401554107666,
          6.124076843261719,
          5.4783220291137695,
          6.864712238311768,
          5.960134983062744,
          5.8918938636779785,
          5.961486339569092,
          5.927475929260254,
          5.822167873382568,
          4.800083160400391,
          4.8930792808532715,
          4.422882080078125,
          5.513168811798096,
          5.629199028015137,
          3.980489730834961,
          7.092705726623535,
          7.092374324798584,
          7.0292649269104,
          6.887533664703369,
          6.570262908935547,
          5.324156761169434,
          6.309479713439941,
          5.937018394470215,
          6.326323509216309,
          6.504425525665283,
          5.240669250488281,
          5.927067756652832,
          5.884291172027588,
          6.612359046936035,
          5.453418254852295,
          6.576615333557129,
          7.136863708496094,
          6.35888671875,
          7.078252792358398,
          6.862563133239746,
          6.398448467254639,
          6.786210536956787,
          6.831753730773926,
          6.833618640899658,
          6.883646488189697,
          6.176910877227783,
          6.1322922706604,
          6.031888484954834,
          6.27459716796875,
          6.008905410766602,
          5.488932132720947,
          5.479367733001709,
          5.995757102966309,
          6.114259719848633,
          6.077886581420898,
          6.025381565093994,
          6.186159610748291,
          5.501232624053955,
          5.146515846252441,
          4.470938205718994,
          4.976289749145508,
          5.156887531280518,
          5.130745887756348,
          4.706379413604736,
          5.0681257247924805,
          5.229754447937012,
          4.587985038757324,
          6.200043201446533,
          5.824481010437012,
          4.808894634246826,
          5.294676303863525,
          5.141241550445557,
          5.2896504402160645,
          5.558749675750732,
          5.48619270324707,
          5.282515048980713,
          5.977177619934082,
          5.74348783493042,
          5.794875144958496,
          5.482553005218506,
          4.61875581741333,
          4.6467084884643555,
          4.63643217086792,
          3.8586177825927734,
          6.583444595336914,
          6.652256965637207,
          6.389291763305664,
          5.474432468414307,
          5.995729446411133,
          6.256582736968994,
          5.343453407287598,
          5.115967750549316,
          5.329610347747803,
          5.281820774078369,
          4.620795249938965,
          5.150169849395752,
          4.751368522644043,
          4.58495569229126,
          4.370398044586182,
          4.495754718780518,
          4.313360691070557,
          4.64828634262085,
          4.605424404144287,
          4.537204265594482,
          6.748420238494873,
          5.674718856811523,
          6.693901538848877,
          6.764065265655518,
          6.015872955322266,
          5.839542865753174,
          5.140935897827148,
          4.645974636077881,
          5.848327159881592,
          5.070682048797607,
          5.836606502532959,
          4.413333892822266,
          5.931442737579346,
          5.923982620239258,
          5.8433451652526855,
          5.183231830596924,
          5.84933614730835,
          5.715879440307617,
          5.829591274261475,
          6.243459224700928,
          5.783895969390869,
          5.89980936050415,
          5.500773906707764,
          4.847939491271973,
          5.600528240203857,
          5.452142715454102,
          5.608180046081543,
          5.607395172119141,
          5.623602867126465,
          5.602892875671387,
          5.449245929718018,
          5.593513011932373,
          5.5493927001953125,
          5.589935302734375,
          5.609221458435059,
          5.655030727386475,
          5.619599342346191,
          5.601467609405518,
          5.642331600189209,
          2.4288949966430664,
          2.437796115875244,
          2.460871458053589,
          1.8737890720367432,
          2.0640902519226074,
          2.616097927093506,
          2.6412084102630615,
          2.851173162460327,
          2.842170476913452,
          2.0084362030029297,
          2.791696548461914,
          2.6693239212036133,
          2.797075033187866,
          2.8270294666290283,
          2.814035415649414,
          2.764714241027832,
          2.776071310043335,
          2.5493249893188477,
          2.81990122795105,
          2.6372010707855225,
          2.2270116806030273,
          2.7123780250549316,
          2.4358739852905273,
          2.402967929840088,
          5.438174724578857,
          2.4963901042938232,
          5.341587066650391,
          2.5196564197540283,
          2.6508774757385254,
          2.421607732772827,
          2.295227527618408,
          2.6062169075012207,
          2.571343421936035,
          2.6253204345703125,
          2.755671739578247,
          5.438345909118652,
          2.800095796585083,
          2.5984694957733154,
          2.787684440612793,
          5.187158107757568,
          1.5816864967346191,
          1.7228814363479614,
          1.8413583040237427,
          1.745574712753296,
          2.415785074234009,
          1.708747386932373,
          5.058475971221924,
          2.6948626041412354,
          2.7776272296905518,
          1.6413816213607788,
          2.7364349365234375,
          1.6813971996307373,
          2.1527462005615234,
          2.6691789627075195,
          2.9019789695739746,
          2.20603609085083,
          1.8135126829147339,
          4.64316987991333,
          2.3479268550872803,
          5.212837219238281,
          1.8236323595046997,
          2.118095874786377,
          2.2523984909057617,
          2.234334945678711,
          2.3268368244171143,
          4.812668800354004,
          2.3507003784179688,
          2.0858073234558105,
          2.393498182296753,
          4.643514156341553,
          1.8351505994796753,
          2.176715612411499,
          2.1010591983795166,
          2.274547576904297,
          2.948820114135742,
          4.917557239532471,
          2.9203929901123047,
          1.965099573135376,
          4.703005313873291,
          2.042189121246338,
          1.5730295181274414,
          2.086468458175659,
          5.063847541809082,
          2.2634551525115967,
          2.046238660812378,
          2.3402795791625977,
          2.7648661136627197,
          2.4182024002075195,
          2.2056045532226562,
          1.6647566556930542,
          2.446652889251709,
          1.9861174821853638,
          2.438337802886963,
          2.5907959938049316,
          4.887561321258545,
          1.6000388860702515,
          1.5929112434387207,
          2.495851516723633,
          2.4910709857940674,
          4.7732720375061035,
          1.6216541528701782,
          2.8915367126464844,
          5.024839878082275,
          2.3496625423431396,
          2.754077911376953,
          4.74112606048584,
          2.652080535888672,
          4.111522197723389,
          4.350170612335205,
          2.375241994857788,
          5.026737689971924,
          1.6382006406784058,
          4.799798965454102,
          1.7970504760742188,
          4.686684608459473,
          1.691202163696289,
          2.0005762577056885,
          1.6512285470962524,
          2.204944610595703,
          1.6336333751678467,
          1.812063455581665,
          5.131992340087891,
          2.120138645172119,
          2.2227606773376465,
          1.7314075231552124,
          2.2467455863952637,
          2.4985592365264893,
          1.8488129377365112,
          4.895683288574219,
          1.6819781064987183,
          1.555828332901001,
          1.5924654006958008,
          1.6719914674758911,
          1.654407024383545,
          1.8152469396591187,
          1.9518100023269653,
          1.606723427772522,
          1.691353440284729,
          1.5931428670883179,
          4.812573432922363,
          1.9117859601974487,
          1.5390875339508057,
          1.9499664306640625,
          1.9396250247955322,
          2.026773452758789,
          2.224281072616577,
          2.5529191493988037,
          1.9120879173278809,
          1.9568065404891968,
          1.9189531803131104,
          5.075926303863525,
          4.871480464935303,
          2.6457698345184326,
          1.7826405763626099,
          1.7865561246871948,
          1.7609691619873047,
          5.049706935882568,
          2.111309289932251,
          5.159045219421387,
          1.8544059991836548,
          2.0188217163085938,
          5.029717445373535,
          1.9884148836135864,
          2.0188863277435303,
          2.330669641494751,
          2.214266777038574,
          2.319275379180908,
          2.301236152648926,
          2.2672383785247803,
          2.218291759490967,
          2.1945090293884277,
          2.5989444255828857,
          2.065688133239746,
          5.243257999420166,
          2.3906266689300537,
          2.2834115028381348,
          3.580179452896118,
          5.059898853302002,
          2.510202646255493,
          3.6443183422088623,
          4.399300575256348,
          2.383547782897949,
          2.422804832458496,
          5.062630653381348,
          2.8125102519989014,
          3.1529359817504883,
          4.796270370483398,
          2.3473963737487793,
          2.7931127548217773,
          2.83162784576416,
          4.589925289154053,
          2.7542693614959717,
          2.385908603668213,
          2.913872718811035,
          2.401792287826538,
          3.0653929710388184,
          4.471994876861572,
          2.0549421310424805,
          3.2624387741088867,
          4.825026988983154,
          4.7667951583862305,
          4.354634761810303,
          3.7621426582336426,
          4.652085781097412,
          4.522284507751465,
          4.4628119468688965,
          2.716219186782837,
          3.4700543880462646,
          4.431982040405273,
          2.9275078773498535,
          2.822068691253662,
          2.927769899368286,
          3.224379777908325,
          2.766634225845337,
          3.0201663970947266,
          2.9611549377441406,
          1.965690016746521,
          2.952082633972168,
          2.9279913902282715,
          2.82016658782959,
          2.930725574493408,
          2.9471161365509033,
          2.645122528076172,
          2.3920209407806396,
          2.746680974960327,
          2.713360071182251,
          2.349133014678955,
          3.2787492275238037,
          5.208942413330078,
          1.9261692762374878,
          2.306652784347534,
          2.3405141830444336,
          1.8273608684539795,
          1.8606140613555908,
          2.7495458126068115,
          3.4180703163146973,
          2.14237904548645,
          2.8112497329711914,
          2.0887601375579834,
          2.872173547744751,
          2.7397091388702393,
          2.413998603820801,
          2.460674285888672,
          2.505784511566162,
          2.611919403076172,
          2.4762141704559326,
          2.2765603065490723,
          2.445343255996704,
          2.4844415187835693,
          2.400053024291992,
          2.472341775894165,
          4.822686195373535,
          2.6383280754089355,
          2.3900651931762695,
          2.1570565700531006,
          2.4376869201660156,
          2.6832468509674072,
          1.8312352895736694,
          2.0200812816619873,
          2.386033296585083,
          2.46994948387146,
          2.4032113552093506,
          2.3410184383392334,
          2.35781192779541,
          2.4241583347320557,
          2.6855857372283936,
          2.3819847106933594,
          2.291553497314453,
          4.881300449371338,
          2.4542832374572754,
          2.709303379058838,
          2.662997007369995,
          2.189152956008911,
          2.863192558288574,
          2.809023857116699,
          5.015604019165039,
          4.085788726806641,
          4.238311290740967,
          2.552344799041748,
          2.4229254722595215,
          2.5429017543792725,
          2.857895612716675,
          4.231686592102051,
          4.3926100730896,
          3.9839978218078613,
          4.413139343261719,
          2.391244888305664,
          2.0120391845703125,
          2.036561965942383,
          2.2237284183502197,
          2.2065305709838867,
          2.04634690284729,
          2.6812820434570312,
          2.981510877609253,
          3.2525155544281006,
          1.8291085958480835,
          5.744295120239258,
          5.4065117835998535,
          5.102903842926025,
          5.750813007354736,
          6.3800811767578125,
          6.475435733795166,
          6.503478527069092,
          6.50885534286499,
          5.852283477783203,
          6.492931842803955,
          6.417105674743652,
          6.474208831787109,
          5.7577643394470215,
          4.922224521636963,
          5.367550849914551,
          5.3380126953125,
          6.898132801055908,
          5.136965274810791,
          4.83665132522583,
          4.998952388763428,
          4.7289276123046875,
          4.872648239135742,
          4.796765327453613,
          5.198948860168457,
          4.65742826461792,
          5.170886516571045,
          4.938812255859375,
          5.212098598480225,
          4.802361011505127,
          5.529269218444824,
          5.335608959197998,
          4.976759433746338,
          4.686496734619141,
          4.646815299987793,
          4.765653133392334,
          4.717724323272705,
          4.592536449432373,
          4.647598743438721,
          4.703883171081543,
          4.677278518676758,
          4.720315933227539,
          4.776645660400391,
          4.910177707672119,
          4.696212291717529,
          4.78318977355957,
          4.726147651672363,
          4.965685844421387,
          5.0713419914245605,
          4.840198040008545,
          4.965463638305664,
          4.8151984214782715,
          5.485569953918457,
          5.819997787475586,
          4.993275165557861,
          5.004568576812744,
          4.94365930557251,
          5.079928874969482,
          4.915027618408203,
          4.5553436279296875,
          6.612486839294434,
          5.418498992919922,
          5.367405414581299,
          5.277944564819336,
          5.06634521484375,
          4.971939563751221,
          5.219465255737305,
          5.566921234130859,
          5.374108791351318,
          5.3933210372924805,
          5.339813232421875,
          5.541387557983398,
          5.4788408279418945,
          5.399326324462891,
          5.112336158752441,
          5.042093276977539,
          5.3490071296691895,
          5.520287990570068,
          5.565683841705322,
          5.468538284301758,
          5.098247528076172,
          4.81682825088501,
          4.741394996643066,
          3.6248340606689453,
          6.0700554847717285,
          3.319063901901245,
          2.6634199619293213,
          3.8404488563537598,
          4.535353183746338,
          4.861802577972412,
          4.542942523956299,
          2.782862901687622,
          2.964024543762207,
          2.5986990928649902,
          2.811445713043213,
          2.9431684017181396,
          2.7693283557891846,
          2.550212860107422,
          3.1781694889068604,
          6.377689361572266,
          2.992631196975708,
          3.3417670726776123,
          6.522083282470703,
          3.29052734375,
          4.612857818603516,
          3.0552995204925537,
          3.5308854579925537,
          2.8960323333740234,
          3.03043270111084,
          2.7767693996429443,
          2.9971702098846436,
          2.7923173904418945,
          3.1325061321258545,
          2.8087198734283447,
          2.7488484382629395,
          2.7483127117156982,
          2.80073618888855
         ],
         "xaxis": "x",
         "y": [
          6.23960542678833,
          6.212581157684326,
          6.2251386642456055,
          6.212421417236328,
          6.245593547821045,
          6.242403507232666,
          6.236691951751709,
          6.256723880767822,
          6.326189994812012,
          6.3150739669799805,
          6.4029717445373535,
          6.341906547546387,
          6.388635635375977,
          6.37232780456543,
          6.313086032867432,
          6.265025615692139,
          6.422255039215088,
          6.284977912902832,
          6.261308670043945,
          6.264162063598633,
          6.36560583114624,
          6.337149620056152,
          6.354763507843018,
          6.35291051864624,
          6.458614349365234,
          6.574262619018555,
          6.637964725494385,
          6.64405632019043,
          6.594843864440918,
          6.441103458404541,
          6.540632724761963,
          6.696205139160156,
          7.646693229675293,
          6.568946838378906,
          6.506777286529541,
          7.5883378982543945,
          6.638624668121338,
          6.528818130493164,
          6.668290615081787,
          6.67856502532959,
          6.487924098968506,
          6.625401496887207,
          6.664868354797363,
          6.6894683837890625,
          6.73840856552124,
          6.743369102478027,
          6.622213840484619,
          6.590371131896973,
          6.776022911071777,
          6.753895282745361,
          6.717372894287109,
          6.687194347381592,
          6.537267208099365,
          6.728254795074463,
          6.709847927093506,
          6.69469690322876,
          6.791074752807617,
          6.69624137878418,
          6.737266540527344,
          6.7361063957214355,
          6.733788967132568,
          6.697972297668457,
          6.686272621154785,
          6.661964416503906,
          7.669248580932617,
          6.318119525909424,
          6.317051410675049,
          6.275460720062256,
          6.265635013580322,
          6.272082805633545,
          6.289048671722412,
          6.303177833557129,
          6.320364952087402,
          6.334330081939697,
          6.302397727966309,
          6.539801597595215,
          6.536665439605713,
          6.524131774902344,
          6.561716079711914,
          6.574443340301514,
          6.536167144775391,
          6.585589408874512,
          6.486470699310303,
          6.4766669273376465,
          6.5593719482421875,
          6.589937210083008,
          6.615758895874023,
          6.652045726776123,
          6.652406215667725,
          6.616159915924072,
          6.604959964752197,
          6.5642499923706055,
          6.511073112487793,
          6.612287998199463,
          6.632760047912598,
          6.66516637802124,
          6.631176948547363,
          6.146583080291748,
          6.179623603820801,
          6.237871170043945,
          6.473382472991943,
          6.20982551574707,
          6.10339879989624,
          6.161626815795898,
          6.19625997543335,
          6.250974178314209,
          6.13419771194458,
          6.167731761932373,
          6.024555683135986,
          6.154773712158203,
          6.1341071128845215,
          6.303572177886963,
          6.248464584350586,
          6.2111430168151855,
          6.350950717926025,
          6.531488418579102,
          6.376536846160889,
          6.3044352531433105,
          6.459852695465088,
          6.155134677886963,
          6.239643096923828,
          6.299558162689209,
          6.378118991851807,
          6.2655348777771,
          6.201742649078369,
          6.265695095062256,
          6.317892551422119,
          6.351785659790039,
          6.330445289611816,
          6.483630657196045,
          6.348390579223633,
          6.3919596672058105,
          6.615459442138672,
          6.199077129364014,
          6.317763805389404,
          6.363793849945068,
          6.228858470916748,
          6.342529773712158,
          6.249483108520508,
          6.35477876663208,
          6.202457427978516,
          6.200709342956543,
          6.180335998535156,
          6.245787143707275,
          6.2074198722839355,
          6.529258728027344,
          6.462782859802246,
          6.1700921058654785,
          6.339931011199951,
          6.370509147644043,
          6.235132217407227,
          7.003028869628906,
          7.001108169555664,
          6.983461856842041,
          6.965342044830322,
          6.967245578765869,
          6.94341516494751,
          6.971955299377441,
          6.944323539733887,
          7.587210655212402,
          6.872321605682373,
          6.811172962188721,
          6.519557952880859,
          6.953577518463135,
          7.067331790924072,
          7.098118782043457,
          7.1527323722839355,
          7.455751895904541,
          7.275018215179443,
          7.1486663818359375,
          7.151625633239746,
          7.017931938171387,
          7.24299430847168,
          6.912765979766846,
          6.274164199829102,
          7.622518539428711,
          7.144169807434082,
          7.186732292175293,
          6.705930233001709,
          6.5991315841674805,
          6.583702087402344,
          6.12891149520874,
          6.726375102996826,
          6.490347862243652,
          6.993113994598389,
          7.0222392082214355,
          6.7135114669799805,
          6.932033538818359,
          6.199085235595703,
          6.22761869430542,
          6.17537784576416,
          6.192653656005859,
          6.223834037780762,
          6.232266902923584,
          6.146847724914551,
          6.208731174468994,
          6.174596786499023,
          6.208981513977051,
          6.3230485916137695,
          6.222016334533691,
          6.482822418212891,
          6.256726264953613,
          6.321091651916504,
          7.0612640380859375,
          7.058923244476318,
          7.140775203704834,
          7.030572414398193,
          6.342939853668213,
          6.35283899307251,
          6.535787105560303,
          6.339613914489746,
          6.429899215698242,
          6.370643615722656,
          6.826473236083984,
          6.800281047821045,
          6.896101474761963,
          6.995118141174316,
          6.975933074951172,
          6.870681285858154,
          6.933846950531006,
          6.935544490814209,
          7.119324684143066,
          7.032132148742676,
          7.026770114898682,
          7.067047119140625,
          6.989727973937988,
          7.479956150054932,
          6.89797830581665,
          7.2472686767578125,
          6.997550010681152,
          6.821229934692383,
          7.068288803100586,
          7.273442268371582,
          7.374168395996094,
          7.221673965454102,
          7.157678604125977,
          7.111886501312256,
          7.495884418487549,
          7.346766471862793,
          7.033270835876465,
          7.254031658172607,
          7.318975925445557,
          7.2025885581970215,
          6.863368034362793,
          6.68222188949585,
          6.991889476776123,
          7.444407939910889,
          7.506052017211914,
          7.434845924377441,
          7.330379486083984,
          7.334089756011963,
          7.410144805908203,
          6.474582195281982,
          7.496074199676514,
          6.420353889465332,
          7.005501747131348,
          6.504232406616211,
          6.477467060089111,
          7.2532830238342285,
          7.138835906982422,
          6.727898597717285,
          6.93618631362915,
          6.706423282623291,
          6.449367523193359,
          6.440454483032227,
          6.450926780700684,
          6.641108512878418,
          6.518834114074707,
          6.468903064727783,
          6.315744400024414,
          6.700844764709473,
          6.5189385414123535,
          6.441782474517822,
          6.843778610229492,
          6.716492652893066,
          6.430273532867432,
          6.374459743499756,
          6.402002811431885,
          6.38744592666626,
          6.386471748352051,
          6.375143051147461,
          6.587786674499512,
          6.3433942794799805,
          6.360908508300781,
          6.891003131866455,
          6.472923755645752,
          6.4726128578186035,
          6.391259670257568,
          6.412847995758057,
          6.423928260803223,
          7.404618263244629,
          6.464722633361816,
          6.589456558227539,
          6.540013790130615,
          6.651003837585449,
          6.543536186218262,
          6.812209606170654,
          6.670475482940674,
          7.018246173858643,
          7.234187602996826,
          6.965886116027832,
          7.258445739746094,
          6.860575199127197,
          6.876489639282227,
          7.146054744720459,
          7.188477516174316,
          7.226934909820557,
          7.213273525238037,
          7.2493696212768555,
          7.361461162567139,
          7.316564083099365,
          7.385486125946045,
          7.373786449432373,
          7.1636481285095215,
          7.44385290145874,
          7.417427062988281,
          7.3801493644714355,
          7.102421283721924,
          7.111515522003174,
          7.240153789520264,
          7.0602335929870605,
          6.937348365783691,
          6.943342208862305,
          7.121907711029053,
          7.110764503479004,
          7.393189430236816,
          6.934917449951172,
          7.397815704345703,
          7.243422508239746,
          6.985091209411621,
          6.195466995239258,
          6.665595054626465,
          6.922664165496826,
          6.772511005401611,
          6.752060890197754,
          6.592641830444336,
          6.6137614250183105,
          6.649848461151123,
          6.5775885581970215,
          6.601211071014404,
          6.566560745239258,
          6.803048133850098,
          6.635272026062012,
          6.961251735687256,
          6.629390239715576,
          6.705102920532227,
          6.765145301818848,
          6.921928405761719,
          6.626248359680176,
          6.758742809295654,
          6.747512340545654,
          7.0036749839782715,
          6.7080230712890625,
          6.7503767013549805,
          6.713653564453125,
          6.712020397186279,
          7.016726493835449,
          6.395524501800537,
          6.429561614990234,
          6.550076484680176,
          6.596363544464111,
          6.340161323547363,
          6.980648994445801,
          6.855154991149902,
          6.372187614440918,
          6.409667491912842,
          7.156609058380127,
          6.260802268981934,
          6.831023216247559,
          6.274906158447266,
          7.089115619659424,
          7.073642253875732,
          6.516108512878418,
          6.498833179473877,
          7.04078483581543,
          7.11539363861084,
          7.044369697570801,
          6.9905924797058105,
          6.942060947418213,
          6.849518299102783,
          7.495945453643799,
          6.584803581237793,
          6.938864707946777,
          7.4900078773498535,
          6.987504959106445,
          6.353189945220947,
          6.998579025268555,
          6.746768474578857,
          6.362791538238525,
          6.908696174621582,
          6.3178863525390625,
          6.282441139221191,
          6.5433173179626465,
          6.688055515289307,
          6.791309833526611,
          6.368258953094482,
          6.902346134185791,
          6.131028175354004,
          6.247539520263672,
          6.599279880523682,
          6.528113842010498,
          7.051017761230469,
          7.049365043640137,
          7.059996604919434,
          6.946931838989258,
          6.415136337280273,
          6.4981560707092285,
          6.541441440582275,
          6.557825088500977,
          6.793762683868408,
          7.001676559448242,
          6.304640769958496,
          7.368855953216553,
          7.0504584312438965,
          7.288666248321533,
          7.123281478881836,
          6.8512282371521,
          6.433218479156494,
          7.275918483734131,
          7.049878120422363,
          7.149796485900879,
          7.080034255981445,
          7.0437822341918945,
          7.384788990020752,
          6.926405429840088,
          7.101341724395752,
          7.373860836029053,
          6.919532299041748,
          7.095878601074219,
          7.1196088790893555,
          7.6660590171813965,
          7.134950160980225,
          7.280013084411621,
          6.531559944152832,
          6.609429359436035,
          7.270894527435303,
          7.414572715759277,
          7.226707458496094,
          7.099783897399902,
          7.346217155456543,
          7.143838405609131,
          6.407805442810059,
          6.202841758728027,
          6.744777679443359,
          7.075278282165527,
          6.793213844299316,
          6.608803749084473,
          6.998156547546387,
          6.74538516998291,
          7.503659248352051,
          6.466843605041504,
          6.575769901275635,
          6.684355735778809,
          6.609175682067871,
          6.713017463684082,
          7.336490631103516,
          6.720499515533447,
          6.75209903717041,
          6.644025802612305,
          6.76205587387085,
          6.868407249450684,
          6.648588180541992,
          7.123937129974365,
          7.1744842529296875,
          7.18524169921875,
          6.837454795837402,
          6.484221935272217,
          7.210597515106201,
          6.6071553230285645,
          6.820122241973877,
          6.79389762878418,
          6.762390613555908,
          6.636519432067871,
          6.855329513549805,
          7.605011463165283,
          7.1553544998168945,
          7.2894415855407715,
          7.269191741943359,
          7.413187026977539,
          6.9953999519348145,
          6.9471821784973145,
          6.84458065032959,
          7.435782432556152,
          7.09179162979126,
          7.081427574157715,
          7.074197292327881,
          7.102865219116211,
          7.454837799072266,
          7.380143165588379,
          7.250288009643555,
          7.099164009094238,
          7.055225372314453,
          7.087884902954102,
          7.0942840576171875,
          6.923299312591553,
          7.4092583656311035,
          6.836646556854248,
          7.214187145233154,
          6.744839668273926,
          7.056458473205566,
          7.1663689613342285,
          7.399931907653809,
          7.069920063018799,
          6.758447170257568,
          7.38613224029541,
          7.15192174911499,
          6.886281490325928,
          7.49914026260376,
          7.39378547668457,
          6.7707600593566895,
          6.79545783996582,
          7.082667827606201,
          7.039376258850098,
          6.638056755065918,
          7.292804718017578,
          6.500661373138428,
          6.546108245849609,
          6.949225902557373,
          6.5823798179626465,
          6.912420749664307,
          6.84686803817749,
          6.966897487640381,
          6.9292826652526855,
          6.980967998504639,
          6.662317276000977,
          6.943307399749756,
          6.752908706665039,
          6.426802158355713,
          6.4602131843566895,
          6.665173530578613,
          7.014003753662109,
          6.968388557434082,
          5.885074615478516,
          5.933062553405762,
          5.920138835906982,
          5.945256233215332,
          6.666069507598877,
          6.534865379333496,
          6.636865139007568,
          6.545974254608154,
          6.578774929046631,
          7.032403469085693,
          7.101776599884033,
          7.102865695953369,
          6.342748641967773,
          6.548923015594482,
          6.539069652557373,
          6.625794887542725,
          7.2430100440979,
          6.643871307373047,
          6.621047496795654,
          6.6550703048706055,
          6.6256794929504395,
          6.4084062576293945,
          6.621153831481934,
          5.860020160675049,
          6.011375427246094,
          6.188841342926025,
          6.437959671020508,
          5.914805889129639,
          6.543039321899414,
          6.606797695159912,
          6.830411911010742,
          6.405061721801758,
          6.098546028137207,
          6.345156669616699,
          6.386125087738037,
          6.281250953674316,
          6.336730480194092,
          6.272370338439941,
          6.8700785636901855,
          6.601605415344238,
          6.973252296447754,
          6.286028861999512,
          7.3986496925354,
          6.607948303222656,
          7.4429707527160645,
          6.125555515289307,
          6.034858226776123,
          6.610988140106201,
          7.513319969177246,
          6.57004976272583,
          6.507756233215332,
          6.661750793457031,
          6.533943176269531,
          6.547693252563477,
          6.554867267608643,
          6.595186233520508,
          7.033649444580078,
          6.620856761932373,
          6.596832275390625,
          6.588981628417969,
          6.558996200561523,
          6.637883186340332,
          6.447762489318848,
          6.362090587615967,
          6.339046001434326,
          6.351369380950928,
          6.4926629066467285,
          6.478215217590332,
          6.382238388061523,
          6.413061618804932,
          6.447849273681641,
          6.43826150894165,
          7.113718032836914,
          6.789885997772217,
          6.499192714691162,
          6.397318363189697,
          6.470296382904053,
          7.103652477264404,
          6.449971675872803,
          6.405446529388428,
          6.9649128913879395,
          6.560428142547607,
          6.467665195465088,
          6.976263523101807,
          6.422158718109131,
          6.434805393218994,
          6.356557846069336,
          6.362697124481201,
          6.404835224151611,
          6.322930335998535,
          6.179797172546387,
          6.376641273498535,
          6.434597492218018,
          6.39157772064209,
          6.938029766082764,
          6.853660583496094,
          6.878625392913818,
          6.214981555938721,
          6.572218418121338,
          6.545234203338623,
          6.665978908538818,
          7.686134338378906,
          6.180333137512207,
          6.4461989402771,
          6.413391590118408,
          6.437510967254639,
          6.479204177856445,
          6.671322822570801,
          7.059394836425781,
          6.649178504943848,
          6.956943035125732,
          6.735650539398193,
          6.848863124847412,
          6.778405666351318,
          6.90014123916626,
          6.622509479522705,
          6.668998718261719,
          7.01621675491333,
          5.958815097808838,
          7.34185266494751,
          6.044484615325928,
          5.971473217010498,
          6.7693891525268555,
          6.934101104736328,
          7.21381950378418,
          7.161940574645996,
          6.886953830718994,
          7.017178058624268,
          6.897180080413818,
          7.014603137969971,
          6.811246395111084,
          6.8722639083862305,
          6.904529094696045,
          7.187671184539795,
          6.884243488311768,
          7.560380458831787,
          6.894339084625244,
          7.420837879180908,
          7.005928993225098,
          6.981713771820068,
          7.161974906921387,
          7.255748271942139,
          7.247587203979492,
          7.438595294952393,
          7.43134069442749,
          7.579028129577637,
          7.339197158813477,
          7.397883415222168,
          7.350686073303223,
          7.334953784942627,
          7.357082843780518,
          7.443982124328613,
          7.656358242034912,
          7.307431697845459,
          7.316076755523682,
          7.293332576751709,
          7.262004852294922,
          7.692074298858643,
          7.232682228088379,
          7.813118934631348,
          8.534669876098633,
          8.444293975830078,
          7.400111198425293,
          7.382242202758789,
          7.442216396331787,
          7.4373064041137695,
          7.618128776550293,
          7.377933979034424,
          7.4130401611328125,
          7.428900718688965,
          7.429347515106201,
          7.3901543617248535,
          7.370892524719238,
          7.322467803955078,
          7.305514812469482,
          7.215731620788574,
          7.277626991271973,
          7.384245872497559,
          7.294304370880127,
          7.347530841827393,
          7.396766662597656,
          7.636837959289551,
          7.465754985809326,
          7.614300727844238,
          7.421776294708252,
          7.273367881774902,
          7.579098224639893,
          7.502154350280762,
          7.426383972167969,
          7.46246862411499,
          7.233116626739502,
          7.5289387702941895,
          7.544369697570801,
          7.217144966125488,
          7.284651756286621,
          7.545053005218506,
          7.565917491912842,
          7.545105457305908,
          7.393581390380859,
          7.254323959350586,
          7.547745704650879,
          7.321512222290039,
          7.434902191162109,
          7.496428489685059,
          7.280524253845215,
          7.628079891204834,
          7.330821990966797,
          7.22663688659668,
          7.496615409851074,
          7.366971015930176,
          7.252016544342041,
          7.295044898986816,
          7.3166704177856445,
          7.533568382263184,
          7.64085578918457,
          7.134283065795898,
          7.640161037445068,
          7.3184027671813965,
          7.388919353485107,
          7.199526786804199,
          7.38089656829834,
          7.322642803192139,
          7.521693706512451,
          7.2605719566345215,
          7.2681169509887695,
          7.443819522857666,
          7.25058650970459,
          7.496556758880615,
          7.259318828582764,
          7.179520130157471,
          7.8564677238464355,
          7.225306987762451,
          7.489340782165527,
          7.160710334777832,
          7.424635887145996,
          7.278885841369629,
          7.263024806976318,
          7.463827133178711,
          7.247551441192627,
          7.613749980926514,
          7.171170234680176,
          7.176199436187744,
          7.179876804351807,
          7.219839572906494,
          7.239767074584961,
          7.352015972137451,
          7.425962448120117,
          7.149589538574219,
          7.197714805603027,
          7.167324066162109,
          7.377792835235596,
          7.490039825439453,
          7.542119979858398,
          7.545711040496826,
          7.295131683349609,
          7.238871097564697,
          7.686481952667236,
          7.576224327087402,
          7.051977634429932,
          7.468924522399902,
          7.223087787628174,
          7.058536052703857,
          7.57750940322876,
          7.208449363708496,
          7.2933454513549805,
          7.27293586730957,
          7.15022087097168,
          7.301663398742676,
          7.395811557769775,
          7.706925392150879,
          7.363858699798584,
          7.30784797668457,
          7.258641719818115,
          7.446898460388184,
          7.303286552429199,
          7.386674404144287,
          7.6853790283203125,
          7.55593729019165,
          7.71669340133667,
          7.174243450164795,
          7.157373905181885,
          7.254627704620361,
          7.093763828277588,
          7.256230354309082,
          7.249727249145508,
          7.131232261657715,
          7.494475364685059,
          7.409028053283691,
          7.6547112464904785,
          7.29663610458374,
          7.267423152923584,
          7.207478046417236,
          7.410759925842285,
          7.424574851989746,
          7.180144309997559,
          7.314885139465332,
          7.671334266662598,
          7.25461483001709,
          7.507192134857178,
          8.135196685791016,
          8.142379760742188,
          8.041975975036621,
          8.219510078430176,
          8.328306198120117,
          8.05245590209961,
          7.866940498352051,
          7.741931438446045,
          7.809788227081299,
          7.67380428314209,
          7.409580230712891,
          7.894653797149658,
          7.739858627319336,
          7.627150535583496,
          7.742824077606201,
          7.778430461883545,
          7.688375473022461,
          7.891140937805176,
          7.9916768074035645,
          7.785681247711182,
          8.106863021850586,
          7.9532575607299805,
          8.082612991333008,
          8.074127197265625,
          8.09992790222168,
          8.017550468444824,
          8.150358200073242,
          8.120607376098633,
          8.05489444732666,
          7.268860340118408,
          7.95210075378418,
          7.688989162445068,
          8.239995956420898,
          8.11811351776123,
          7.66718864440918,
          7.63206672668457,
          8.12546443939209,
          7.591612815856934,
          7.245856285095215,
          8.256718635559082,
          7.768234729766846,
          7.543361663818359,
          7.814471244812012,
          7.813876628875732,
          7.571028709411621,
          7.911243438720703,
          7.812285900115967,
          8.389263153076172,
          7.614760875701904,
          8.41556453704834,
          8.441062927246094,
          7.7863030433654785,
          8.172187805175781,
          7.936778545379639,
          7.169445037841797,
          8.030194282531738,
          7.82850456237793,
          7.633395671844482,
          7.62122106552124,
          7.678599834442139,
          7.5838189125061035,
          7.51719856262207,
          7.496554851531982,
          7.466302394866943,
          8.415114402770996,
          7.687923908233643,
          7.634951591491699,
          7.775234699249268,
          7.783319473266602,
          7.726724147796631,
          7.7958478927612305,
          8.323076248168945,
          7.680060863494873,
          7.572884559631348,
          7.401373863220215,
          7.547430992126465,
          7.789668083190918,
          8.427894592285156,
          7.702079772949219,
          7.788382530212402,
          8.406830787658691,
          8.250802993774414,
          7.983541965484619,
          7.957558631896973,
          8.307967185974121,
          7.772531032562256,
          7.6538496017456055,
          7.717545509338379,
          8.40427017211914,
          8.483650207519531,
          7.607425212860107,
          7.802670955657959,
          7.2539963722229,
          7.15241003036499,
          8.246356010437012,
          8.286840438842773,
          8.103363037109375,
          7.8725996017456055,
          8.283964157104492,
          8.22983169555664,
          8.260207176208496,
          8.231269836425781,
          8.046299934387207,
          8.195924758911133,
          8.218953132629395,
          8.447349548339844,
          8.334928512573242,
          8.43467903137207,
          8.47745132446289,
          7.595954895019531,
          8.405263900756836,
          8.425910949707031,
          8.297198295593262,
          8.345305442810059,
          8.380338668823242,
          7.3023176193237305,
          7.369913578033447,
          8.356755256652832,
          8.261154174804688,
          8.499371528625488,
          8.461423873901367,
          8.493842124938965,
          8.45660400390625,
          8.353041648864746,
          8.411941528320312,
          8.423033714294434,
          7.470134735107422,
          7.137319564819336,
          7.152926445007324,
          7.173089981079102,
          7.128912925720215,
          7.115192413330078,
          7.215885162353516,
          7.51580286026001,
          7.2225141525268555,
          7.219170093536377,
          7.242607593536377,
          7.20192289352417,
          7.200902462005615,
          7.0987868309021,
          7.066827297210693,
          7.012452125549316,
          7.128230094909668,
          7.149648189544678,
          7.126713752746582,
          7.159979820251465,
          7.196875095367432,
          7.166123390197754,
          7.156121253967285,
          7.143249034881592,
          7.599218845367432,
          7.337792873382568,
          7.194896697998047,
          7.457668781280518,
          5.86093282699585,
          5.771258354187012,
          6.400620937347412,
          5.797959327697754,
          6.061260223388672,
          6.300441265106201,
          6.372297286987305,
          6.1239519119262695,
          5.896269798278809,
          6.380738258361816,
          6.089815139770508,
          6.469202041625977,
          5.761314392089844,
          5.636678218841553,
          6.81472635269165,
          5.460532188415527,
          6.27932071685791,
          6.985429286956787,
          5.430746555328369,
          5.79014778137207,
          6.92610502243042,
          5.369531154632568,
          5.446281909942627,
          5.543889045715332,
          6.336197853088379,
          5.57863712310791,
          5.443276882171631,
          5.516630172729492,
          5.556886196136475,
          7.224143981933594,
          7.208144187927246,
          6.915411472320557,
          5.398104667663574,
          6.366311550140381,
          5.45503568649292,
          5.443630218505859,
          5.867631435394287,
          6.367522239685059,
          5.434561729431152,
          5.487741947174072,
          5.429004669189453,
          5.369136333465576,
          6.646198272705078,
          5.3824262619018555,
          5.490903377532959,
          6.719348907470703,
          6.6536478996276855,
          7.0444722175598145,
          5.450445652008057,
          5.508626461029053,
          5.47916841506958,
          5.718534469604492,
          6.783560276031494,
          5.573951244354248,
          5.57830810546875,
          5.828424453735352,
          6.9539618492126465,
          5.984629154205322,
          5.9869704246521,
          5.831216812133789,
          5.468286991119385,
          5.500392913818359,
          5.525417327880859,
          6.190491676330566,
          6.582942962646484,
          5.5086588859558105,
          5.564960956573486,
          5.483023166656494,
          5.4543776512146,
          5.439911842346191,
          5.505871772766113,
          5.533440589904785,
          5.36222505569458,
          6.129765510559082,
          6.670366287231445,
          5.485737323760986,
          5.412848472595215,
          5.433030605316162,
          5.389365196228027,
          5.695775985717773,
          6.9248247146606445,
          6.496906757354736,
          7.766956329345703,
          6.649982452392578,
          7.63259744644165,
          7.139059066772461,
          7.618205547332764,
          7.091165065765381,
          7.183750629425049,
          7.102338790893555,
          7.0376667976379395,
          7.067021369934082,
          7.082143783569336,
          7.072420120239258,
          7.004107475280762,
          7.145089626312256,
          7.114565372467041,
          8.00984001159668,
          6.4213480949401855,
          8.089983940124512,
          7.829014301300049,
          7.125801086425781,
          7.893041610717773,
          7.509243011474609,
          7.812339782714844,
          7.102967262268066,
          7.95429801940918,
          7.246134281158447,
          8.064193725585938,
          8.101125717163086,
          8.128653526306152,
          7.983769416809082,
          8.188173294067383,
          8.265321731567383,
          7.265758991241455,
          8.179330825805664
         ],
         "yaxis": "y"
        },
        {
         "customdata": [
          [
           "TvG - VvG"
          ]
         ],
         "hovertemplate": "From=%{customdata[0]}<br>x=%{x}<br>y=%{y}<extra></extra>",
         "legendgroup": "TvG - VvG",
         "marker": {
          "color": "#EF553B",
          "symbol": "circle"
         },
         "mode": "markers",
         "name": "TvG - VvG",
         "showlegend": true,
         "type": "scattergl",
         "x": [
          3.308736562728882
         ],
         "xaxis": "x",
         "y": [
          6.501325607299805
         ],
         "yaxis": "y"
        },
        {
         "customdata": [
          [
           "Anna van Gogh"
          ]
         ],
         "hovertemplate": "From=%{customdata[0]}<br>x=%{x}<br>y=%{y}<extra></extra>",
         "legendgroup": "Anna van Gogh",
         "marker": {
          "color": "#00cc96",
          "symbol": "circle"
         },
         "mode": "markers",
         "name": "Anna van Gogh",
         "showlegend": true,
         "type": "scattergl",
         "x": [
          3.219444751739502
         ],
         "xaxis": "x",
         "y": [
          6.642876625061035
         ],
         "yaxis": "y"
        },
        {
         "customdata": [
          [
           "Theodorus van Gogh (Vincent and Theo's father)"
          ]
         ],
         "hovertemplate": "From=%{customdata[0]}<br>x=%{x}<br>y=%{y}<extra></extra>",
         "legendgroup": "Theodorus van Gogh (Vincent and Theo's father)",
         "marker": {
          "color": "#ab63fa",
          "symbol": "circle"
         },
         "mode": "markers",
         "name": "Theodorus van Gogh (Vincent and Theo's father)",
         "showlegend": true,
         "type": "scattergl",
         "x": [
          2.613436460494995
         ],
         "xaxis": "x",
         "y": [
          6.094424724578857
         ],
         "yaxis": "y"
        },
        {
         "customdata": [
          [
           "Wil van Gogh"
          ]
         ],
         "hovertemplate": "From=%{customdata[0]}<br>x=%{x}<br>y=%{y}<extra></extra>",
         "legendgroup": "Wil van Gogh",
         "marker": {
          "color": "#FFA15A",
          "symbol": "circle"
         },
         "mode": "markers",
         "name": "Wil van Gogh",
         "showlegend": true,
         "type": "scattergl",
         "x": [
          6.2476396560668945
         ],
         "xaxis": "x",
         "y": [
          6.3857102394104
         ],
         "yaxis": "y"
        },
        {
         "customdata": [
          [
           "John Russell"
          ]
         ],
         "hovertemplate": "From=%{customdata[0]}<br>x=%{x}<br>y=%{y}<extra></extra>",
         "legendgroup": "John Russell",
         "marker": {
          "color": "#19d3f3",
          "symbol": "circle"
         },
         "mode": "markers",
         "name": "John Russell",
         "showlegend": true,
         "type": "scattergl",
         "x": [
          2.1937527656555176
         ],
         "xaxis": "x",
         "y": [
          7.3542962074279785
         ],
         "yaxis": "y"
        },
        {
         "customdata": [
          [
           "Paul Signac"
          ],
          [
           "Paul Signac"
          ]
         ],
         "hovertemplate": "From=%{customdata[0]}<br>x=%{x}<br>y=%{y}<extra></extra>",
         "legendgroup": "Paul Signac",
         "marker": {
          "color": "#FF6692",
          "symbol": "circle"
         },
         "mode": "markers",
         "name": "Paul Signac",
         "showlegend": true,
         "type": "scattergl",
         "x": [
          2.051360607147217,
          2.089589834213257
         ],
         "xaxis": "x",
         "y": [
          8.236613273620605,
          8.012175559997559
         ],
         "yaxis": "y"
        },
        {
         "customdata": [
          [
           "Dr. Peyron"
          ]
         ],
         "hovertemplate": "From=%{customdata[0]}<br>x=%{x}<br>y=%{y}<extra></extra>",
         "legendgroup": "Dr. Peyron",
         "marker": {
          "color": "#B6E880",
          "symbol": "circle"
         },
         "mode": "markers",
         "name": "Dr. Peyron",
         "showlegend": true,
         "type": "scattergl",
         "x": [
          2.4476447105407715
         ],
         "xaxis": "x",
         "y": [
          8.215421676635742
         ],
         "yaxis": "y"
        },
        {
         "customdata": [
          [
           "Anthon van Rappard"
          ]
         ],
         "hovertemplate": "From=%{customdata[0]}<br>x=%{x}<br>y=%{y}<extra></extra>",
         "legendgroup": "Anthon van Rappard",
         "marker": {
          "color": "#FF97FF",
          "symbol": "circle"
         },
         "mode": "markers",
         "name": "Anthon van Rappard",
         "showlegend": true,
         "type": "scattergl",
         "x": [
          5.374502182006836
         ],
         "xaxis": "x",
         "y": [
          5.3878679275512695
         ],
         "yaxis": "y"
        },
        {
         "customdata": [
          [
           "TvG"
          ],
          [
           "TvG"
          ],
          [
           "TvG"
          ],
          [
           "TvG"
          ],
          [
           "TvG"
          ],
          [
           "TvG"
          ],
          [
           "TvG"
          ],
          [
           "TvG"
          ],
          [
           "TvG"
          ],
          [
           "TvG"
          ],
          [
           "TvG"
          ],
          [
           "TvG"
          ],
          [
           "TvG"
          ],
          [
           "TvG"
          ],
          [
           "TvG"
          ],
          [
           "TvG"
          ],
          [
           "TvG"
          ],
          [
           "TvG"
          ],
          [
           "TvG"
          ],
          [
           "TvG"
          ],
          [
           "TvG"
          ],
          [
           "TvG"
          ],
          [
           "TvG"
          ],
          [
           "TvG"
          ],
          [
           "TvG"
          ],
          [
           "TvG"
          ],
          [
           "TvG"
          ],
          [
           "TvG"
          ],
          [
           "TvG"
          ],
          [
           "TvG"
          ],
          [
           "TvG"
          ],
          [
           "TvG"
          ],
          [
           "TvG"
          ],
          [
           "TvG"
          ],
          [
           "TvG"
          ],
          [
           "TvG"
          ],
          [
           "TvG"
          ],
          [
           "TvG"
          ],
          [
           "TvG"
          ],
          [
           "TvG"
          ]
         ],
         "hovertemplate": "From=%{customdata[0]}<br>x=%{x}<br>y=%{y}<extra></extra>",
         "legendgroup": "TvG",
         "marker": {
          "color": "#FECB52",
          "symbol": "circle"
         },
         "mode": "markers",
         "name": "TvG",
         "showlegend": true,
         "type": "scattergl",
         "x": [
          1.7431325912475586,
          1.9711198806762695,
          1.7539163827896118,
          1.6559454202651978,
          1.571581244468689,
          1.9431184530258179,
          2.033364772796631,
          2.0291261672973633,
          1.9421777725219727,
          1.7871525287628174,
          1.7890177965164185,
          1.9148633480072021,
          1.8554389476776123,
          1.9767805337905884,
          1.7504204511642456,
          1.9206773042678833,
          1.7527408599853516,
          1.7272130250930786,
          1.736672043800354,
          1.6705083847045898,
          1.7512166500091553,
          1.880718469619751,
          1.891782522201538,
          1.8980742692947388,
          1.9570155143737793,
          1.910416603088379,
          1.794283151626587,
          1.9246970415115356,
          1.957534670829773,
          1.7541862726211548,
          1.7911300659179688,
          1.8668618202209473,
          1.8557168245315552,
          1.7799099683761597,
          1.760056495666504,
          2.1339101791381836,
          1.910213589668274,
          1.8765367269515991,
          1.9356756210327148,
          2.646310329437256
         ],
         "xaxis": "x",
         "y": [
          8.478673934936523,
          8.4617338180542,
          8.500072479248047,
          8.275212287902832,
          7.303099155426025,
          8.6312837600708,
          8.492659568786621,
          8.53942584991455,
          8.498204231262207,
          8.48796558380127,
          8.450684547424316,
          8.52565860748291,
          8.606868743896484,
          8.636662483215332,
          8.510406494140625,
          8.601067543029785,
          8.501609802246094,
          8.629974365234375,
          8.496575355529785,
          8.572186470031738,
          8.561217308044434,
          8.526789665222168,
          8.614405632019043,
          8.424513816833496,
          8.654369354248047,
          8.569864273071289,
          8.641988754272461,
          8.631033897399902,
          8.661044120788574,
          8.503654479980469,
          8.692937850952148,
          8.620466232299805,
          8.621525764465332,
          8.508256912231445,
          8.48851203918457,
          8.587735176086426,
          8.577776908874512,
          8.726604461669922,
          8.690911293029785,
          8.424585342407227
         ],
         "yaxis": "y"
        },
        {
         "customdata": [
          [
           "Johanna van Gogh-Bonger"
          ],
          [
           "Johanna van Gogh-Bonger"
          ],
          [
           "Johanna van Gogh-Bonger"
          ],
          [
           "Johanna van Gogh-Bonger"
          ],
          [
           "Johanna van Gogh-Bonger"
          ]
         ],
         "hovertemplate": "From=%{customdata[0]}<br>x=%{x}<br>y=%{y}<extra></extra>",
         "legendgroup": "Johanna van Gogh-Bonger",
         "marker": {
          "color": "#636efa",
          "symbol": "circle"
         },
         "mode": "markers",
         "name": "Johanna van Gogh-Bonger",
         "showlegend": true,
         "type": "scattergl",
         "x": [
          2.1087796688079834,
          2.1103451251983643,
          2.064899206161499,
          2.071112871170044,
          2.076341152191162
         ],
         "xaxis": "x",
         "y": [
          8.555688858032227,
          8.572051048278809,
          8.582335472106934,
          8.573260307312012,
          8.556278228759766
         ],
         "yaxis": "y"
        },
        {
         "customdata": [
          [
           "Joseph Roulin"
          ]
         ],
         "hovertemplate": "From=%{customdata[0]}<br>x=%{x}<br>y=%{y}<extra></extra>",
         "legendgroup": "Joseph Roulin",
         "marker": {
          "color": "#EF553B",
          "symbol": "circle"
         },
         "mode": "markers",
         "name": "Joseph Roulin",
         "showlegend": true,
         "type": "scattergl",
         "x": [
          2.0916242599487305
         ],
         "xaxis": "x",
         "y": [
          8.254412651062012
         ],
         "yaxis": "y"
        },
        {
         "customdata": [
          [
           "Paul Gauguin"
          ],
          [
           "Paul Gauguin"
          ]
         ],
         "hovertemplate": "From=%{customdata[0]}<br>x=%{x}<br>y=%{y}<extra></extra>",
         "legendgroup": "Paul Gauguin",
         "marker": {
          "color": "#00cc96",
          "symbol": "circle"
         },
         "mode": "markers",
         "name": "Paul Gauguin",
         "showlegend": true,
         "type": "scattergl",
         "x": [
          1.7747001647949219,
          4.650017738342285
         ],
         "xaxis": "x",
         "y": [
          7.34776496887207,
          7.422482013702393
         ],
         "yaxis": "y"
        }
       ],
       "layout": {
        "legend": {
         "title": {
          "text": "From"
         },
         "tracegroupgap": 0
        },
        "margin": {
         "t": 60
        },
        "template": {
         "data": {
          "bar": [
           {
            "error_x": {
             "color": "#2a3f5f"
            },
            "error_y": {
             "color": "#2a3f5f"
            },
            "marker": {
             "line": {
              "color": "#E5ECF6",
              "width": 0.5
             },
             "pattern": {
              "fillmode": "overlay",
              "size": 10,
              "solidity": 0.2
             }
            },
            "type": "bar"
           }
          ],
          "barpolar": [
           {
            "marker": {
             "line": {
              "color": "#E5ECF6",
              "width": 0.5
             },
             "pattern": {
              "fillmode": "overlay",
              "size": 10,
              "solidity": 0.2
             }
            },
            "type": "barpolar"
           }
          ],
          "carpet": [
           {
            "aaxis": {
             "endlinecolor": "#2a3f5f",
             "gridcolor": "white",
             "linecolor": "white",
             "minorgridcolor": "white",
             "startlinecolor": "#2a3f5f"
            },
            "baxis": {
             "endlinecolor": "#2a3f5f",
             "gridcolor": "white",
             "linecolor": "white",
             "minorgridcolor": "white",
             "startlinecolor": "#2a3f5f"
            },
            "type": "carpet"
           }
          ],
          "choropleth": [
           {
            "colorbar": {
             "outlinewidth": 0,
             "ticks": ""
            },
            "type": "choropleth"
           }
          ],
          "contour": [
           {
            "colorbar": {
             "outlinewidth": 0,
             "ticks": ""
            },
            "colorscale": [
             [
              0,
              "#0d0887"
             ],
             [
              0.1111111111111111,
              "#46039f"
             ],
             [
              0.2222222222222222,
              "#7201a8"
             ],
             [
              0.3333333333333333,
              "#9c179e"
             ],
             [
              0.4444444444444444,
              "#bd3786"
             ],
             [
              0.5555555555555556,
              "#d8576b"
             ],
             [
              0.6666666666666666,
              "#ed7953"
             ],
             [
              0.7777777777777778,
              "#fb9f3a"
             ],
             [
              0.8888888888888888,
              "#fdca26"
             ],
             [
              1,
              "#f0f921"
             ]
            ],
            "type": "contour"
           }
          ],
          "contourcarpet": [
           {
            "colorbar": {
             "outlinewidth": 0,
             "ticks": ""
            },
            "type": "contourcarpet"
           }
          ],
          "heatmap": [
           {
            "colorbar": {
             "outlinewidth": 0,
             "ticks": ""
            },
            "colorscale": [
             [
              0,
              "#0d0887"
             ],
             [
              0.1111111111111111,
              "#46039f"
             ],
             [
              0.2222222222222222,
              "#7201a8"
             ],
             [
              0.3333333333333333,
              "#9c179e"
             ],
             [
              0.4444444444444444,
              "#bd3786"
             ],
             [
              0.5555555555555556,
              "#d8576b"
             ],
             [
              0.6666666666666666,
              "#ed7953"
             ],
             [
              0.7777777777777778,
              "#fb9f3a"
             ],
             [
              0.8888888888888888,
              "#fdca26"
             ],
             [
              1,
              "#f0f921"
             ]
            ],
            "type": "heatmap"
           }
          ],
          "heatmapgl": [
           {
            "colorbar": {
             "outlinewidth": 0,
             "ticks": ""
            },
            "colorscale": [
             [
              0,
              "#0d0887"
             ],
             [
              0.1111111111111111,
              "#46039f"
             ],
             [
              0.2222222222222222,
              "#7201a8"
             ],
             [
              0.3333333333333333,
              "#9c179e"
             ],
             [
              0.4444444444444444,
              "#bd3786"
             ],
             [
              0.5555555555555556,
              "#d8576b"
             ],
             [
              0.6666666666666666,
              "#ed7953"
             ],
             [
              0.7777777777777778,
              "#fb9f3a"
             ],
             [
              0.8888888888888888,
              "#fdca26"
             ],
             [
              1,
              "#f0f921"
             ]
            ],
            "type": "heatmapgl"
           }
          ],
          "histogram": [
           {
            "marker": {
             "pattern": {
              "fillmode": "overlay",
              "size": 10,
              "solidity": 0.2
             }
            },
            "type": "histogram"
           }
          ],
          "histogram2d": [
           {
            "colorbar": {
             "outlinewidth": 0,
             "ticks": ""
            },
            "colorscale": [
             [
              0,
              "#0d0887"
             ],
             [
              0.1111111111111111,
              "#46039f"
             ],
             [
              0.2222222222222222,
              "#7201a8"
             ],
             [
              0.3333333333333333,
              "#9c179e"
             ],
             [
              0.4444444444444444,
              "#bd3786"
             ],
             [
              0.5555555555555556,
              "#d8576b"
             ],
             [
              0.6666666666666666,
              "#ed7953"
             ],
             [
              0.7777777777777778,
              "#fb9f3a"
             ],
             [
              0.8888888888888888,
              "#fdca26"
             ],
             [
              1,
              "#f0f921"
             ]
            ],
            "type": "histogram2d"
           }
          ],
          "histogram2dcontour": [
           {
            "colorbar": {
             "outlinewidth": 0,
             "ticks": ""
            },
            "colorscale": [
             [
              0,
              "#0d0887"
             ],
             [
              0.1111111111111111,
              "#46039f"
             ],
             [
              0.2222222222222222,
              "#7201a8"
             ],
             [
              0.3333333333333333,
              "#9c179e"
             ],
             [
              0.4444444444444444,
              "#bd3786"
             ],
             [
              0.5555555555555556,
              "#d8576b"
             ],
             [
              0.6666666666666666,
              "#ed7953"
             ],
             [
              0.7777777777777778,
              "#fb9f3a"
             ],
             [
              0.8888888888888888,
              "#fdca26"
             ],
             [
              1,
              "#f0f921"
             ]
            ],
            "type": "histogram2dcontour"
           }
          ],
          "mesh3d": [
           {
            "colorbar": {
             "outlinewidth": 0,
             "ticks": ""
            },
            "type": "mesh3d"
           }
          ],
          "parcoords": [
           {
            "line": {
             "colorbar": {
              "outlinewidth": 0,
              "ticks": ""
             }
            },
            "type": "parcoords"
           }
          ],
          "pie": [
           {
            "automargin": true,
            "type": "pie"
           }
          ],
          "scatter": [
           {
            "fillpattern": {
             "fillmode": "overlay",
             "size": 10,
             "solidity": 0.2
            },
            "type": "scatter"
           }
          ],
          "scatter3d": [
           {
            "line": {
             "colorbar": {
              "outlinewidth": 0,
              "ticks": ""
             }
            },
            "marker": {
             "colorbar": {
              "outlinewidth": 0,
              "ticks": ""
             }
            },
            "type": "scatter3d"
           }
          ],
          "scattercarpet": [
           {
            "marker": {
             "colorbar": {
              "outlinewidth": 0,
              "ticks": ""
             }
            },
            "type": "scattercarpet"
           }
          ],
          "scattergeo": [
           {
            "marker": {
             "colorbar": {
              "outlinewidth": 0,
              "ticks": ""
             }
            },
            "type": "scattergeo"
           }
          ],
          "scattergl": [
           {
            "marker": {
             "colorbar": {
              "outlinewidth": 0,
              "ticks": ""
             }
            },
            "type": "scattergl"
           }
          ],
          "scattermapbox": [
           {
            "marker": {
             "colorbar": {
              "outlinewidth": 0,
              "ticks": ""
             }
            },
            "type": "scattermapbox"
           }
          ],
          "scatterpolar": [
           {
            "marker": {
             "colorbar": {
              "outlinewidth": 0,
              "ticks": ""
             }
            },
            "type": "scatterpolar"
           }
          ],
          "scatterpolargl": [
           {
            "marker": {
             "colorbar": {
              "outlinewidth": 0,
              "ticks": ""
             }
            },
            "type": "scatterpolargl"
           }
          ],
          "scatterternary": [
           {
            "marker": {
             "colorbar": {
              "outlinewidth": 0,
              "ticks": ""
             }
            },
            "type": "scatterternary"
           }
          ],
          "surface": [
           {
            "colorbar": {
             "outlinewidth": 0,
             "ticks": ""
            },
            "colorscale": [
             [
              0,
              "#0d0887"
             ],
             [
              0.1111111111111111,
              "#46039f"
             ],
             [
              0.2222222222222222,
              "#7201a8"
             ],
             [
              0.3333333333333333,
              "#9c179e"
             ],
             [
              0.4444444444444444,
              "#bd3786"
             ],
             [
              0.5555555555555556,
              "#d8576b"
             ],
             [
              0.6666666666666666,
              "#ed7953"
             ],
             [
              0.7777777777777778,
              "#fb9f3a"
             ],
             [
              0.8888888888888888,
              "#fdca26"
             ],
             [
              1,
              "#f0f921"
             ]
            ],
            "type": "surface"
           }
          ],
          "table": [
           {
            "cells": {
             "fill": {
              "color": "#EBF0F8"
             },
             "line": {
              "color": "white"
             }
            },
            "header": {
             "fill": {
              "color": "#C8D4E3"
             },
             "line": {
              "color": "white"
             }
            },
            "type": "table"
           }
          ]
         },
         "layout": {
          "annotationdefaults": {
           "arrowcolor": "#2a3f5f",
           "arrowhead": 0,
           "arrowwidth": 1
          },
          "autotypenumbers": "strict",
          "coloraxis": {
           "colorbar": {
            "outlinewidth": 0,
            "ticks": ""
           }
          },
          "colorscale": {
           "diverging": [
            [
             0,
             "#8e0152"
            ],
            [
             0.1,
             "#c51b7d"
            ],
            [
             0.2,
             "#de77ae"
            ],
            [
             0.3,
             "#f1b6da"
            ],
            [
             0.4,
             "#fde0ef"
            ],
            [
             0.5,
             "#f7f7f7"
            ],
            [
             0.6,
             "#e6f5d0"
            ],
            [
             0.7,
             "#b8e186"
            ],
            [
             0.8,
             "#7fbc41"
            ],
            [
             0.9,
             "#4d9221"
            ],
            [
             1,
             "#276419"
            ]
           ],
           "sequential": [
            [
             0,
             "#0d0887"
            ],
            [
             0.1111111111111111,
             "#46039f"
            ],
            [
             0.2222222222222222,
             "#7201a8"
            ],
            [
             0.3333333333333333,
             "#9c179e"
            ],
            [
             0.4444444444444444,
             "#bd3786"
            ],
            [
             0.5555555555555556,
             "#d8576b"
            ],
            [
             0.6666666666666666,
             "#ed7953"
            ],
            [
             0.7777777777777778,
             "#fb9f3a"
            ],
            [
             0.8888888888888888,
             "#fdca26"
            ],
            [
             1,
             "#f0f921"
            ]
           ],
           "sequentialminus": [
            [
             0,
             "#0d0887"
            ],
            [
             0.1111111111111111,
             "#46039f"
            ],
            [
             0.2222222222222222,
             "#7201a8"
            ],
            [
             0.3333333333333333,
             "#9c179e"
            ],
            [
             0.4444444444444444,
             "#bd3786"
            ],
            [
             0.5555555555555556,
             "#d8576b"
            ],
            [
             0.6666666666666666,
             "#ed7953"
            ],
            [
             0.7777777777777778,
             "#fb9f3a"
            ],
            [
             0.8888888888888888,
             "#fdca26"
            ],
            [
             1,
             "#f0f921"
            ]
           ]
          },
          "colorway": [
           "#636efa",
           "#EF553B",
           "#00cc96",
           "#ab63fa",
           "#FFA15A",
           "#19d3f3",
           "#FF6692",
           "#B6E880",
           "#FF97FF",
           "#FECB52"
          ],
          "font": {
           "color": "#2a3f5f"
          },
          "geo": {
           "bgcolor": "white",
           "lakecolor": "white",
           "landcolor": "#E5ECF6",
           "showlakes": true,
           "showland": true,
           "subunitcolor": "white"
          },
          "hoverlabel": {
           "align": "left"
          },
          "hovermode": "closest",
          "mapbox": {
           "style": "light"
          },
          "paper_bgcolor": "white",
          "plot_bgcolor": "#E5ECF6",
          "polar": {
           "angularaxis": {
            "gridcolor": "white",
            "linecolor": "white",
            "ticks": ""
           },
           "bgcolor": "#E5ECF6",
           "radialaxis": {
            "gridcolor": "white",
            "linecolor": "white",
            "ticks": ""
           }
          },
          "scene": {
           "xaxis": {
            "backgroundcolor": "#E5ECF6",
            "gridcolor": "white",
            "gridwidth": 2,
            "linecolor": "white",
            "showbackground": true,
            "ticks": "",
            "zerolinecolor": "white"
           },
           "yaxis": {
            "backgroundcolor": "#E5ECF6",
            "gridcolor": "white",
            "gridwidth": 2,
            "linecolor": "white",
            "showbackground": true,
            "ticks": "",
            "zerolinecolor": "white"
           },
           "zaxis": {
            "backgroundcolor": "#E5ECF6",
            "gridcolor": "white",
            "gridwidth": 2,
            "linecolor": "white",
            "showbackground": true,
            "ticks": "",
            "zerolinecolor": "white"
           }
          },
          "shapedefaults": {
           "line": {
            "color": "#2a3f5f"
           }
          },
          "ternary": {
           "aaxis": {
            "gridcolor": "white",
            "linecolor": "white",
            "ticks": ""
           },
           "baxis": {
            "gridcolor": "white",
            "linecolor": "white",
            "ticks": ""
           },
           "bgcolor": "#E5ECF6",
           "caxis": {
            "gridcolor": "white",
            "linecolor": "white",
            "ticks": ""
           }
          },
          "title": {
           "x": 0.05
          },
          "xaxis": {
           "automargin": true,
           "gridcolor": "white",
           "linecolor": "white",
           "ticks": "",
           "title": {
            "standoff": 15
           },
           "zerolinecolor": "white",
           "zerolinewidth": 2
          },
          "yaxis": {
           "automargin": true,
           "gridcolor": "white",
           "linecolor": "white",
           "ticks": "",
           "title": {
            "standoff": 15
           },
           "zerolinecolor": "white",
           "zerolinewidth": 2
          }
         }
        },
        "title": {
         "text": "UMAP Embeddings Colored by 'From'"
        },
        "xaxis": {
         "anchor": "y",
         "domain": [
          0,
          1
         ],
         "title": {
          "text": "UMAP 1"
         }
        },
        "yaxis": {
         "anchor": "x",
         "domain": [
          0,
          1
         ],
         "title": {
          "text": "UMAP 2"
         }
        }
       }
      }
     },
     "metadata": {},
     "output_type": "display_data"
    }
   ],
   "source": [
    "# Make it interactive and add the letter author as a color\n",
    "import plotly.express as px\n",
    "\n",
    "# Create a Plotly scatter plot using the categorical 'From' column for color\n",
    "fig = px.scatter(vgogh_letter_chunks_df, \n",
    "                 x=umap_embeddings[:, 0], \n",
    "                 y=umap_embeddings[:, 1], \n",
    "                 color='From',  # Use the categorical column directly\n",
    "                 hover_data=['From'])  # Include 'From' in hover data\n",
    "\n",
    "# Customize layout\n",
    "fig.update_layout(\n",
    "    title=\"UMAP Embeddings Colored by 'From'\",\n",
    "    xaxis_title=\"UMAP 1\",\n",
    "    yaxis_title=\"UMAP 2\",\n",
    "    legend_title=\"From\"\n",
    ")\n",
    "\n",
    "# Show the plot\n",
    "fig.show()\n"
   ]
  },
  {
   "cell_type": "markdown",
   "metadata": {},
   "source": []
  }
 ],
 "metadata": {
  "kernelspec": {
   "display_name": "Python 3",
   "language": "python",
   "name": "python3"
  },
  "language_info": {
   "codemirror_mode": {
    "name": "ipython",
    "version": 3
   },
   "file_extension": ".py",
   "mimetype": "text/x-python",
   "name": "python",
   "nbconvert_exporter": "python",
   "pygments_lexer": "ipython3",
   "version": "3.10.13"
  }
 },
 "nbformat": 4,
 "nbformat_minor": 2
}
