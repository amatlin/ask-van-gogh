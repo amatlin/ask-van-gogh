{
 "cells": [
  {
   "cell_type": "code",
   "execution_count": 1,
   "metadata": {},
   "outputs": [],
   "source": [
    "import requests\n",
    "from PyPDF3 import PdfFileReader\n",
    "import io, csv, re, os \n",
    "from tqdm import tqdm \n",
    "from bs4 import BeautifulSoup\n",
    "import pandas as pd "
   ]
  },
  {
   "cell_type": "markdown",
   "metadata": {},
   "source": [
    "### Helper functions"
   ]
  },
  {
   "cell_type": "code",
   "execution_count": 2,
   "metadata": {},
   "outputs": [],
   "source": [
    "\"\"\"\n",
    "Replace non-standard characters and whitespace in letter text. \n",
    "\"\"\"\n",
    "def clean_up_text(text):\n",
    "\n",
    "    # Remove copyright text which doesn't have to do with the letter contents\n",
    "    text = text.replace('© Copyright 2001 R. G. Harrison', '')\n",
    "\n",
    "    # Replace non-standard quotes and other characters\n",
    "    text = text.replace('™', \"'\")\n",
    "    text = text.replace('ﬁ', '\"') \n",
    "    text = text.replace('ﬂ', '\"') \n",
    "\n",
    "    # Replace special characters like Œ with their standard equivalents\n",
    "    text = text.replace('Œ', '\\u2014')  \n",
    "\n",
    "    # Replace line breaks with a space unless they follow punctuation\n",
    "    text = re.sub(r'(?<=[^\\.\\?\\!,;:])\\s*\\n', ' ', text)\n",
    "\n",
    "    return text\n",
    "\n",
    "\"\"\" \n",
    "Given a URL link to a PDF letter, parse the content of the letter. Paginate as needed.\n",
    "\"\"\"\n",
    "def fetch_letter_text(url):\n",
    "    response = requests.get(url)\n",
    "    response.raise_for_status()  # Ensure that the request was successful\n",
    "\n",
    "    # Use BytesIO to handle the PDF file as a binary stream\n",
    "    with io.BytesIO(response.content) as f:\n",
    "        # Read the PDF file using PyPDF3\n",
    "        reader = PdfFileReader(f)\n",
    "\n",
    "        full_text = \"\"\n",
    "        # Loop through each page and extract text\n",
    "        for page_num in range(len(reader.pages)):\n",
    "            page = reader.pages[page_num]\n",
    "            text = page.extractText()\n",
    "            full_text += text + \"\\n\"\n",
    "\n",
    "    full_text_clean = clean_up_text(full_text)\n",
    "\n",
    "    return full_text_clean\n",
    "\n",
    "\"\"\" \n",
    "Extract the content and metadata for all Van Gogh letters available online. \n",
    "\"\"\"\n",
    "def extract_letters(url: str, output_file: str):\n",
    "    # Fetch the content of the webpage\n",
    "    response = requests.get(url)\n",
    "    response.raise_for_status()  # Ensure that the request was successful\n",
    "    \n",
    "    # Parse the content using Beautiful Soup\n",
    "    soup = BeautifulSoup(response.text, 'html.parser')\n",
    "    \n",
    "    # Select the first table on the page\n",
    "    file_table = soup.find_all('table')[2]  # Select only the first table\n",
    "\n",
    "    # Find all table row elements and skip the first row\n",
    "    rows = file_table.find_all('tr')[1:]  \n",
    "\n",
    "    \n",
    "    with open(output_file, mode='w', newline='', encoding='utf-8') as file:\n",
    "        writer = csv.writer(file)\n",
    "        # Write the headers\n",
    "        writer.writerow(['Number', 'Date', 'Origin', 'From', 'To', 'PDF Link', 'Text'])\n",
    "\n",
    "        i = 0\n",
    "        for row in tqdm(rows):\n",
    "            i += 1\n",
    "            cols = row.find_all('td')\n",
    "            if len(cols) == 5:\n",
    "                number = cols[0].get_text(strip=True)\n",
    "                date = cols[1].get_text(strip=True)\n",
    "                origin = cols[2].get_text(strip=True)\n",
    "                from_person = cols[3].get_text(strip=True)\n",
    "                to_person = cols[4].get_text(strip=True)\n",
    "                pdf_link_tag = cols[0].find('a')\n",
    "                pdf_link = f\"http://www.vggallery.com/letters/{pdf_link_tag['href']}\"\n",
    "                \n",
    "                # fetch letter text\n",
    "                text = fetch_letter_text(pdf_link)           \n",
    "                \n",
    "                # Write the row to the CSV file\n",
    "                writer.writerow([number, date, origin, from_person, to_person, pdf_link, text])\n",
    "            else:\n",
    "                raise Exception(\"Table columns are not in the correct format!\")"
   ]
  },
  {
   "cell_type": "markdown",
   "metadata": {},
   "source": [
    "### Run extraction"
   ]
  },
  {
   "cell_type": "code",
   "execution_count": 24,
   "metadata": {},
   "outputs": [
    {
     "name": "stderr",
     "output_type": "stream",
     "text": [
      "100%|██████████| 864/864 [04:21<00:00,  3.30it/s]\n"
     ]
    }
   ],
   "source": [
    "# If data folder does not exist, create it as a subdirectory of the current directory\n",
    "try:\n",
    "    os.mkdir(\"data\")\n",
    "except:\n",
    "    pass\n",
    "\n",
    "page_url = \"http://www.vggallery.com/letters/combined.htm\"\n",
    "output_file = \"data/vg_letters.csv\"\n",
    "\n",
    "letters = extract_letters(url = page_url, output_file = output_file)"
   ]
  },
  {
   "cell_type": "code",
   "execution_count": 19,
   "metadata": {},
   "outputs": [],
   "source": [
    "letters = pd.read_csv(output_file, index_col=0)"
   ]
  },
  {
   "cell_type": "code",
   "execution_count": 20,
   "metadata": {},
   "outputs": [
    {
     "data": {
      "text/html": [
       "<div>\n",
       "<style scoped>\n",
       "    .dataframe tbody tr th:only-of-type {\n",
       "        vertical-align: middle;\n",
       "    }\n",
       "\n",
       "    .dataframe tbody tr th {\n",
       "        vertical-align: top;\n",
       "    }\n",
       "\n",
       "    .dataframe thead th {\n",
       "        text-align: right;\n",
       "    }\n",
       "</style>\n",
       "<table border=\"1\" class=\"dataframe\">\n",
       "  <thead>\n",
       "    <tr style=\"text-align: right;\">\n",
       "      <th></th>\n",
       "      <th>Date</th>\n",
       "      <th>Origin</th>\n",
       "      <th>From</th>\n",
       "      <th>To</th>\n",
       "      <th>PDF Link</th>\n",
       "      <th>Text</th>\n",
       "    </tr>\n",
       "    <tr>\n",
       "      <th>Number</th>\n",
       "      <th></th>\n",
       "      <th></th>\n",
       "      <th></th>\n",
       "      <th></th>\n",
       "      <th></th>\n",
       "      <th></th>\n",
       "    </tr>\n",
       "  </thead>\n",
       "  <tbody>\n",
       "    <tr>\n",
       "      <th>1</th>\n",
       "      <td>August, 1872</td>\n",
       "      <td>T-H</td>\n",
       "      <td>VvG</td>\n",
       "      <td>TvG</td>\n",
       "      <td>http://www.vggallery.com/letters/001_V-T_001.pdf</td>\n",
       "      <td>\\nLetter 001 The Hague, c. 18 August 1872 Dear...</td>\n",
       "    </tr>\n",
       "    <tr>\n",
       "      <th>2</th>\n",
       "      <td>13 December 1872</td>\n",
       "      <td>T-H</td>\n",
       "      <td>VvG</td>\n",
       "      <td>TvG</td>\n",
       "      <td>http://www.vggallery.com/letters/002_V-T_002.pdf</td>\n",
       "      <td>\\nLetter 002 The Hague, 13 Dec 1872 Dear Theo,...</td>\n",
       "    </tr>\n",
       "    <tr>\n",
       "      <th>3</th>\n",
       "      <td>January, 1873</td>\n",
       "      <td>T-H</td>\n",
       "      <td>VvG</td>\n",
       "      <td>TvG</td>\n",
       "      <td>http://www.vggallery.com/letters/003_V-T_003.pdf</td>\n",
       "      <td>\\nLetter 003 The Hague, January 1873 My dear T...</td>\n",
       "    </tr>\n",
       "    <tr>\n",
       "      <th>4</th>\n",
       "      <td>28 January 1873</td>\n",
       "      <td>T-H</td>\n",
       "      <td>VvG</td>\n",
       "      <td>TvG</td>\n",
       "      <td>http://www.vggallery.com/letters/004_V-T_004.pdf</td>\n",
       "      <td>\\nLetter 004 The Hague, January 28 1873 Dear T...</td>\n",
       "    </tr>\n",
       "    <tr>\n",
       "      <th>5</th>\n",
       "      <td>17 March 1873</td>\n",
       "      <td>T-H</td>\n",
       "      <td>VvG</td>\n",
       "      <td>TvG</td>\n",
       "      <td>http://www.vggallery.com/letters/005_V-T_005.pdf</td>\n",
       "      <td>\\nLetter 005 The Hague, 17 March 1873 Dear The...</td>\n",
       "    </tr>\n",
       "  </tbody>\n",
       "</table>\n",
       "</div>"
      ],
      "text/plain": [
       "                    Date Origin From   To  \\\n",
       "Number                                      \n",
       "1           August, 1872    T-H  VvG  TvG   \n",
       "2       13 December 1872    T-H  VvG  TvG   \n",
       "3          January, 1873    T-H  VvG  TvG   \n",
       "4        28 January 1873    T-H  VvG  TvG   \n",
       "5          17 March 1873    T-H  VvG  TvG   \n",
       "\n",
       "                                                PDF Link  \\\n",
       "Number                                                     \n",
       "1       http://www.vggallery.com/letters/001_V-T_001.pdf   \n",
       "2       http://www.vggallery.com/letters/002_V-T_002.pdf   \n",
       "3       http://www.vggallery.com/letters/003_V-T_003.pdf   \n",
       "4       http://www.vggallery.com/letters/004_V-T_004.pdf   \n",
       "5       http://www.vggallery.com/letters/005_V-T_005.pdf   \n",
       "\n",
       "                                                     Text  \n",
       "Number                                                     \n",
       "1       \\nLetter 001 The Hague, c. 18 August 1872 Dear...  \n",
       "2       \\nLetter 002 The Hague, 13 Dec 1872 Dear Theo,...  \n",
       "3       \\nLetter 003 The Hague, January 1873 My dear T...  \n",
       "4       \\nLetter 004 The Hague, January 28 1873 Dear T...  \n",
       "5       \\nLetter 005 The Hague, 17 March 1873 Dear The...  "
      ]
     },
     "execution_count": 20,
     "metadata": {},
     "output_type": "execute_result"
    }
   ],
   "source": [
    "letters.head()"
   ]
  },
  {
   "cell_type": "code",
   "execution_count": 110,
   "metadata": {},
   "outputs": [
    {
     "data": {
      "text/plain": [
       "864"
      ]
     },
     "execution_count": 110,
     "metadata": {},
     "output_type": "execute_result"
    }
   ],
   "source": [
    "len(letters)"
   ]
  },
  {
   "cell_type": "code",
   "execution_count": 18,
   "metadata": {},
   "outputs": [
    {
     "name": "stdout",
     "output_type": "stream",
     "text": [
      "\n",
      "Letter 001 The Hague, c. 18 August 1872 Dear Theo,\n",
      "Many thanks for your letter, I was glad to hear you arrived home safely. I missed you the first few days and it felt strange not to find you there when I came home in the afternoons.\n",
      "  We have had some enjoyable days together, and managed to take a few walks and see one or two sights between the spots of rain.\n",
      " What dreadful weather! You must have sweltered from the heat on your walks to Oisterwijk. There was harness racing yesterday for the Exhibition; but the illuminations and the fireworks were put off because of the bad weather, so it's just as well you didn't stay on to see them. Regards from the Haanebeek and Roos families.\n",
      " Always your loving Vincent.\n",
      " \n"
     ]
    }
   ],
   "source": [
    "print(letters.Text[0])"
   ]
  }
 ],
 "metadata": {
  "kernelspec": {
   "display_name": "Python 3",
   "language": "python",
   "name": "python3"
  },
  "language_info": {
   "codemirror_mode": {
    "name": "ipython",
    "version": 3
   },
   "file_extension": ".py",
   "mimetype": "text/x-python",
   "name": "python",
   "nbconvert_exporter": "python",
   "pygments_lexer": "ipython3",
   "version": "3.10.13"
  }
 },
 "nbformat": 4,
 "nbformat_minor": 2
}
