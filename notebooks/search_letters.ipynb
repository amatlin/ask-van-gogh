{
 "cells": [
  {
   "cell_type": "code",
   "execution_count": 1,
   "metadata": {},
   "outputs": [
    {
     "data": {
      "text/plain": [
       "True"
      ]
     },
     "execution_count": 1,
     "metadata": {},
     "output_type": "execute_result"
    }
   ],
   "source": [
    "# imports\n",
    "import ast  # for converting embeddings saved as strings back to arrays\n",
    "from openai import OpenAI # for calling the OpenAI API\n",
    "import pandas as pd  # for storing text and embeddings data\n",
    "import tiktoken  # for counting tokens\n",
    "from scipy import spatial  # for calculating vector similarities for search\n",
    "\n",
    "import os # for loading environment variables\n",
    "from dotenv import load_dotenv\n",
    "load_dotenv()"
   ]
  },
  {
   "cell_type": "code",
   "execution_count": 2,
   "metadata": {},
   "outputs": [],
   "source": [
    "from openai import OpenAI\n",
    "\n",
    "client = OpenAI(api_key=os.getenv(\"OPENAI_API_KEY\"))\n",
    "\n",
    "# models\n",
    "EMBEDDING_MODEL = \"text-embedding-ada-002\"\n",
    "GPT_MODEL = \"gpt-3.5-turbo\""
   ]
  },
  {
   "cell_type": "code",
   "execution_count": 6,
   "metadata": {},
   "outputs": [],
   "source": [
    "embeddings_path = \"data/letter_embeddings.csv\"\n",
    "\n",
    "df = pd.read_csv(embeddings_path, index_col=0)\n",
    "df['embedding'] = df['embedding'].apply(ast.literal_eval) # convert string to array"
   ]
  },
  {
   "cell_type": "code",
   "execution_count": 5,
   "metadata": {},
   "outputs": [
    {
     "data": {
      "text/html": [
       "<div>\n",
       "<style scoped>\n",
       "    .dataframe tbody tr th:only-of-type {\n",
       "        vertical-align: middle;\n",
       "    }\n",
       "\n",
       "    .dataframe tbody tr th {\n",
       "        vertical-align: top;\n",
       "    }\n",
       "\n",
       "    .dataframe thead th {\n",
       "        text-align: right;\n",
       "    }\n",
       "</style>\n",
       "<table border=\"1\" class=\"dataframe\">\n",
       "  <thead>\n",
       "    <tr style=\"text-align: right;\">\n",
       "      <th></th>\n",
       "      <th>chunk</th>\n",
       "      <th>Number</th>\n",
       "      <th>Date</th>\n",
       "      <th>Origin</th>\n",
       "      <th>From</th>\n",
       "      <th>To</th>\n",
       "      <th>PDF Link</th>\n",
       "      <th>embeddings</th>\n",
       "    </tr>\n",
       "  </thead>\n",
       "  <tbody>\n",
       "    <tr>\n",
       "      <th>0</th>\n",
       "      <td>\\nLetter 001 The Hague, c. 18 August 1872 Dear...</td>\n",
       "      <td>1</td>\n",
       "      <td>August, 1872</td>\n",
       "      <td>T-H</td>\n",
       "      <td>VvG</td>\n",
       "      <td>TvG</td>\n",
       "      <td>http://www.vggallery.com/letters/001_V-T_001.pdf</td>\n",
       "      <td>[-0.005897581111639738, -0.012334061786532402,...</td>\n",
       "    </tr>\n",
       "    <tr>\n",
       "      <th>1</th>\n",
       "      <td>\\nLetter 002 The Hague, 13 Dec 1872 Dear Theo,...</td>\n",
       "      <td>2</td>\n",
       "      <td>13 December 1872</td>\n",
       "      <td>T-H</td>\n",
       "      <td>VvG</td>\n",
       "      <td>TvG</td>\n",
       "      <td>http://www.vggallery.com/letters/002_V-T_002.pdf</td>\n",
       "      <td>[0.002705251332372427, -0.012125852517783642, ...</td>\n",
       "    </tr>\n",
       "    <tr>\n",
       "      <th>2</th>\n",
       "      <td>\\nLetter 003 The Hague, January 1873 My dear T...</td>\n",
       "      <td>3</td>\n",
       "      <td>January, 1873</td>\n",
       "      <td>T-H</td>\n",
       "      <td>VvG</td>\n",
       "      <td>TvG</td>\n",
       "      <td>http://www.vggallery.com/letters/003_V-T_003.pdf</td>\n",
       "      <td>[0.0003611222200561315, -0.0034950226545333862...</td>\n",
       "    </tr>\n",
       "    <tr>\n",
       "      <th>3</th>\n",
       "      <td>\\nLetter 004 The Hague, January 28 1873 Dear T...</td>\n",
       "      <td>4</td>\n",
       "      <td>28 January 1873</td>\n",
       "      <td>T-H</td>\n",
       "      <td>VvG</td>\n",
       "      <td>TvG</td>\n",
       "      <td>http://www.vggallery.com/letters/004_V-T_004.pdf</td>\n",
       "      <td>[-0.012272024527192116, -0.013098468072712421,...</td>\n",
       "    </tr>\n",
       "    <tr>\n",
       "      <th>4</th>\n",
       "      <td>\\nLetter 005 The Hague, 17 March 1873 Dear The...</td>\n",
       "      <td>5</td>\n",
       "      <td>17 March 1873</td>\n",
       "      <td>T-H</td>\n",
       "      <td>VvG</td>\n",
       "      <td>TvG</td>\n",
       "      <td>http://www.vggallery.com/letters/005_V-T_005.pdf</td>\n",
       "      <td>[-0.0019975858740508556, -0.023258762434124947...</td>\n",
       "    </tr>\n",
       "  </tbody>\n",
       "</table>\n",
       "</div>"
      ],
      "text/plain": [
       "                                               chunk Number              Date  \\\n",
       "0  \\nLetter 001 The Hague, c. 18 August 1872 Dear...      1      August, 1872   \n",
       "1  \\nLetter 002 The Hague, 13 Dec 1872 Dear Theo,...      2  13 December 1872   \n",
       "2  \\nLetter 003 The Hague, January 1873 My dear T...      3     January, 1873   \n",
       "3  \\nLetter 004 The Hague, January 28 1873 Dear T...      4   28 January 1873   \n",
       "4  \\nLetter 005 The Hague, 17 March 1873 Dear The...      5     17 March 1873   \n",
       "\n",
       "  Origin From   To                                          PDF Link  \\\n",
       "0    T-H  VvG  TvG  http://www.vggallery.com/letters/001_V-T_001.pdf   \n",
       "1    T-H  VvG  TvG  http://www.vggallery.com/letters/002_V-T_002.pdf   \n",
       "2    T-H  VvG  TvG  http://www.vggallery.com/letters/003_V-T_003.pdf   \n",
       "3    T-H  VvG  TvG  http://www.vggallery.com/letters/004_V-T_004.pdf   \n",
       "4    T-H  VvG  TvG  http://www.vggallery.com/letters/005_V-T_005.pdf   \n",
       "\n",
       "                                          embeddings  \n",
       "0  [-0.005897581111639738, -0.012334061786532402,...  \n",
       "1  [0.002705251332372427, -0.012125852517783642, ...  \n",
       "2  [0.0003611222200561315, -0.0034950226545333862...  \n",
       "3  [-0.012272024527192116, -0.013098468072712421,...  \n",
       "4  [-0.0019975858740508556, -0.023258762434124947...  "
      ]
     },
     "execution_count": 5,
     "metadata": {},
     "output_type": "execute_result"
    }
   ],
   "source": [
    "df.head()"
   ]
  },
  {
   "cell_type": "code",
   "execution_count": 13,
   "metadata": {},
   "outputs": [],
   "source": [
    "# Search function: Given a query string and a dataframe of text and embeddings, returns the top N most related strings and their relatedness scores.\n",
    "def strings_ranked_by_relatedness(\n",
    "    query: str,\n",
    "    df: pd.DataFrame,\n",
    "    relatedness_fn=lambda x, y: 1 - spatial.distance.cosine(x, y),\n",
    "    top_n: int = 5\n",
    ") -> tuple[list[str], list[float]]:\n",
    "    \"\"\"Returns a list of strings and relatednesses, sorted from most related to least.\"\"\"\n",
    "    query_embedding_response = client.embeddings.create(\n",
    "        model=EMBEDDING_MODEL,\n",
    "        input=query,\n",
    "    )\n",
    "    query_embedding = query_embedding_response.data[0].embedding\n",
    "    strings_and_relatednesses = [\n",
    "        (row[\"chunk\"], relatedness_fn(query_embedding, row[\"embedding\"]))\n",
    "        for i, row in df.iterrows()\n",
    "    ]\n",
    "    strings_and_relatednesses.sort(key=lambda x: x[1], reverse=True)\n",
    "    strings, relatednesses = zip(*strings_and_relatednesses)\n",
    "    return strings[:top_n], relatednesses[:top_n]"
   ]
  },
  {
   "cell_type": "code",
   "execution_count": 14,
   "metadata": {},
   "outputs": [],
   "source": [
    "# Try out a simple first prompt\n",
    "query = \"\"\"What did Van Gogh like about the process of painting his bedroom in Arles?\"\"\""
   ]
  },
  {
   "cell_type": "markdown",
   "metadata": {},
   "source": []
  },
  {
   "cell_type": "code",
   "execution_count": 16,
   "metadata": {},
   "outputs": [
    {
     "name": "stdout",
     "output_type": "stream",
     "text": [
      "relatedness=0.861\n",
      "\n",
      "Letter 554 Arles, 16 October 1888 My dear Theo,\n",
      " At last I can send you a little sketch [JH 1609] to give you at least an idea of the way the work is shaping up. For today I am all right again. My eyes are still tired by then I had a new idea in my head and here is the sketch of it.\n",
      " Another size 30 canvas. This time it's just simply my bedroom [F 482, JH 1608], only here colour is to do everything, and giving by its simplification a grander style to things, is to be suggestive here of rest or of sleep in general. In a word, looking at the picture ought to rest the brain, or rather the imagination.\n",
      " The walls are pale violet. The floor is of red tiles.\n",
      " The wood of the bed and chairs is the yellow of fresh butter, the sheets and pillows very light greenish-citron.\n",
      " The coverlet scarlet. The window green.\n",
      " The toilet table orange, the basin blue.\n",
      " The doors lilac.\n",
      "And that is all — there is nothing in this room with its closed shutters.\n",
      "The squareness of the furniture again must express inviolable rest. Portraits on the walls, and a mirror and a towel and some clothes.\n",
      " The frame — as there is no white in the picture — will be white.\n",
      " This by way of revenge for the enforced rest I was obliged to take.\n",
      " I shall work on it again all day, but you see how simple the conception is. The shadows and the cast shadows are suppressed; it is painted in free flat tints like the Japanese prints. It is going to be a contrast to, for instance, the Tarascon diligence and the night café.\n",
      " I am not writing you a long letter, because tomorrow very early I am going to begin in the cool morning light, so as to finish my canvas.\n",
      " How are the pains — don't forget to tell me about them.\n",
      "I know that you will write one of these days.\n",
      "I will make you sketches of the other rooms too someday.\n",
      " With a good handshake.\n",
      " Ever yours, Vincent [Sketch \"The Bedroom,\" JH 1609, enclosed with letter.] \n"
     ]
    }
   ],
   "source": [
    "strings, relatednesses = strings_ranked_by_relatedness(query, df, top_n=1)\n",
    "for string, relatedness in zip(strings, relatednesses):\n",
    "    print(f\"{relatedness=:.3f}\")\n",
    "    print(string)"
   ]
  },
  {
   "cell_type": "markdown",
   "metadata": {},
   "source": [
    "## First attempt at RAG: a simple prompt"
   ]
  },
  {
   "cell_type": "code",
   "execution_count": 17,
   "metadata": {},
   "outputs": [],
   "source": [
    "def num_tokens(text: str, model: str = GPT_MODEL) -> int:\n",
    "    \"\"\"Return the number of tokens in a string.\"\"\"\n",
    "    encoding = tiktoken.encoding_for_model(model)\n",
    "    return len(encoding.encode(text))\n",
    "\n",
    "def query_message(\n",
    "    query: str,\n",
    "    df: pd.DataFrame,\n",
    "    model: str,\n",
    "    token_budget: int\n",
    ") -> str:\n",
    "    \"\"\"Return a message for GPT, with relevant source texts pulled from a dataframe.\"\"\"\n",
    "    strings, relatednesses = strings_ranked_by_relatedness(query, df)\n",
    "    introduction = \"\"\"\n",
    "    Use the below letters from the archive of Vincent Van Gogh to answer the subsequent question.\n",
    "    Include quotes from the letters to support your answers.\n",
    "    If the answer cannot be found in the letters, write \"Sorry, I can't find an answer for you.\"\n",
    "    \"\"\"\n",
    "    question = f\"\\n\\nQUESTION:\\n{query}\"\n",
    "    message = introduction + question\n",
    "    for string in strings:\n",
    "        next_article = f'\\n\\nCONTEXT:\\n\"\"\"\\n{string}\\n\"\"\"'\n",
    "        if (\n",
    "            num_tokens(message + next_article + question, model=model)\n",
    "            > token_budget\n",
    "        ):\n",
    "            break\n",
    "        else:\n",
    "            message += next_article\n",
    "    return message"
   ]
  },
  {
   "cell_type": "code",
   "execution_count": 21,
   "metadata": {},
   "outputs": [
    {
     "name": "stdout",
     "output_type": "stream",
     "text": [
      "\n",
      "    Use the below letters from the archive of Vincent Van Gogh to answer the subsequent question.\n",
      "    Include quotes from the letters to support your answers.\n",
      "    If the answer cannot be found in the letters, write \"Sorry, I can't find an answer for you.\"\n",
      "    \n",
      "\n",
      "QUESTION:\n",
      "What did Van Gogh like about the process of painting his bedroom in Arles?\n",
      "\n",
      "CONTEXT:\n",
      "\"\"\"\n",
      "\n",
      "Letter 554 Arles, 16 October 1888 My dear Theo,\n",
      " At last I can send you a little sketch [JH 1609] to give you at least an idea of the way the work is shaping up. For today I am all right again. My eyes are still tired by then I had a new idea in my head and here is the sketch of it.\n",
      " Another size 30 canvas. This time it's just simply my bedroom [F 482, JH 1608], only here colour is to do everything, and giving by its simplification a grander style to things, is to be suggestive here of rest or of sleep in general. In a word, looking at the picture ought to rest the brain, or rather the imagination.\n",
      " The walls are pale violet. The floor is of red tiles.\n",
      " The wood of the bed and chairs is the yellow of fresh butter, the sheets and pillows very light greenish-citron.\n",
      " The coverlet scarlet. The window green.\n",
      " The toilet table orange, the basin blue.\n",
      " The doors lilac.\n",
      "And that is all — there is nothing in this room with its closed shutters.\n",
      "The squareness of the furniture again must express inviolable rest. Portraits on the walls, and a mirror and a towel and some clothes.\n",
      " The frame — as there is no white in the picture — will be white.\n",
      " This by way of revenge for the enforced rest I was obliged to take.\n",
      " I shall work on it again all day, but you see how simple the conception is. The shadows and the cast shadows are suppressed; it is painted in free flat tints like the Japanese prints. It is going to be a contrast to, for instance, the Tarascon diligence and the night café.\n",
      " I am not writing you a long letter, because tomorrow very early I am going to begin in the cool morning light, so as to finish my canvas.\n",
      " How are the pains — don't forget to tell me about them.\n",
      "I know that you will write one of these days.\n",
      "I will make you sketches of the other rooms too someday.\n",
      " With a good handshake.\n",
      " Ever yours, Vincent [Sketch \"The Bedroom,\" JH 1609, enclosed with letter.] \n",
      "\"\"\"\n",
      "\n",
      "CONTEXT:\n",
      "\"\"\"\n",
      "\n",
      "Letter 537 Arles, 17 September 1888 My dear Theo,\n",
      "Probably I shall hear from you tomorrow morning, but I have time to write tonight, and the week has been rather eventful.\n",
      " I expect to go to live in the house tomorrow, but as I have bought some more things and have still more to add to them,\n",
      " and I am only speaking of what is strictly necessary — you must again send me 100 francs instead of 50.\n",
      " If I reckon 50 francs for myself for the past week and deduct them from the 300 francs you sent, all that is left, even with another extra 50 francs, is no more than the exact price of the two beds. So you will see that in spite of that I have already bought many other things beside the beds and the bedding, I have already spent the greater part of the 50 francs for the week, and I have partly economized on both beds by having one of them somewhat plainer.\n",
      " I am convinced that in the end we shall do well by furnishing the studio. And I already feel freer in my work, and less harried by unnecessary annoyances than I have been.\n",
      " Only if, as I hope, I take more pains with the style and quality of my work, it will go a little more slowly, or rather I shall have to keep the pictures with me longer. That is, if they are subjects that are connected and complement each other. And also because there will be some pictures which I certainly do not want to send you till they are bone dry.\n",
      " In this last category there is a square size 30 canvas, a corner of a garden with a weeping tree, grass, round clipped cedar shrubs and an oleander bush [F 468, JH 1578]. The same corner of the garden, that is, which you have already had a study of in the last parcel [F 428, JH 1499]. But this one is bigger, there is a citron sky over everything, and also the colours have the richness and intensity of autumn. And besides it is in even heavier paint than the other one, plain and thick. That is picture number one this week.\n",
      "The second represents the outside of a café, with the terrace lit up by a big gas lamp in the blue night, and a corner of a starry blue sky [F 467, JH 1580].\n",
      " The third picture this week is a portrait of myself, almost colourless, in ashen tones against a background of pale veronese green [F 476, JH 1581].\n",
      "I purposely bought a mirror good enough to enable me to work from my image in default of a model, because if I can manage to paint the colouring of my own head, which is not to be done without some difficulty, I shall likewise be able to paint the heads of other good souls, men and women.\n",
      " The problem of painting night scenes and effects on the spot and actually by night interests me enormously. This week I have done absolutely nothing but paint and sleep and have my meals. That means sittings of twelve hours at a stretch.\n",
      " I read in the literary supplement of Saturday's Figaro (15 September) the description of an impressionist house. This house was built with bricks — as it were like the bottoms of bottles — of convex glass, violet glass. With the sunshine reflected in it, and the yellow refractions, the effect was incredible. To support these walls of glass bricks, shaped like violet-coloured eggs, they had invented a support of black and gilt iron representing the weird branches of Virginia creeper and other climbing plants. This violet house was right in the middle of a garden where all the paths were of bright yellow sand. The ornamental flower borders were of course most unusual in colouring. The house is, if I remember correctly, in Auteuil.\n",
      "Without changing anything in this house either now or afterward, I want all the same to make it an artist's house through the decorations. That will come. A good handshake. I went for a splendid walk by myself today among the vineyards.\n",
      " Ever yours, Vincent \n",
      "\"\"\"\n",
      "\n",
      "CONTEXT:\n",
      "\"\"\"\n",
      "\n",
      "Letter 534 Arles, 9 September 1888 My dear Theo,\n",
      "I have just mailed the sketch [F 1463, JH 1576] of the new picture, the \"Night Café,\" as well as another that I did some time ago. I shall end perhaps by making some crépons.\n",
      " Well now, yesterday I was busy furnishing the house. Just as the postman and his wife told me, the two beds, to be really substantial, will come to 150 fr. apiece. I found everything that they told me about prices was true. So I had to change my tack, and this is what I have done. I have bought one walnut bed and another in white deal which will be mine and which I'll paint later.\n",
      "Then I got bedclothes for one of the beds, and two mattresses.\n",
      " If Gauguin comes, or someone else, there is his bed ready in a minute. I wanted to arrange the house from the start not for myself only, but so as to be able to put someone else up too. Naturally this has swallowed up the greater part of the money. With the rest I have bought 12 chairs, a mirror and some small necessities.\n",
      " Altogether it means that next week already I shall be able to go and live there.\n",
      "For a visitor there will be the prettier room upstairs, which I shall try to make as much as possible like the boudoir of a really artistic woman.\n",
      " Then there will be my own bedroom, which I want extremely simple, but with large, solid furniture, the bed, chairs and table all in white deal.\n",
      " Downstairs will be the studio, and another room, a studio too, but at the same time a kitchen.\n",
      " Someday or other you shall have a picture of the little house itself in bright sunshine, or else with the window lit up, and a starry sky.\n",
      "Henceforth you can feel that you have your country house in Arles. For I am very anxious to arrange it so that you will be pleased with it, and so that it will be a studio in an absolutely individual style; that way, if say a year from now you come here and to Marseilles for your vacation, it will be ready then, and the house, as I intend it, will be full of pictures from top to bottom.\n",
      "The room you will have then, or Gauguin if he comes, will have white walls with a decoration of great yellow sunflowers.\n",
      " In the morning, when you open the window, you see the green of the gardens and the rising sun, and the road into the town.\n",
      " But you will see these great pictures of the sunflowers, 12 or 14 to the bunch, crammed into this tiny boudoir with its pretty bed and everything else dainty. It will not be commonplace.\n",
      "And in the studio, the red tiles of the floor, the walls and ceiling white, rustic chairs, white deal table, and I hope a decoration of portraits. It will have a feeling of Daumier about it, and I dare predict it will not be commonplace.\n",
      " And now do look for some lithographs of Daumier's for the studio, and some Japanese things, but there is no hurry at all for that; it's only when you find duplicates of them. And some things of Delacroix's, and ordinary lithographs by modern artists.\n",
      "There is not the slightest hurry, but I have my own plan. I want to make it really an artists' house — not precious, on the contrary nothing precious, but everything from the chairs to the pictures having character.\n",
      "About the beds, I have bought country beds, big double ones instead of iron ones. That gives an appearance of solidity, durability and quiet, and if it takes a little more bedding, so much the worse, but it must have character.\n",
      "I am very lucky to have a faithful charwoman; except for that I should not have dared to begin living at home; she is quite old and has many and varied offspring, and she keeps my tiles clean and red.\n",
      " I cannot tell you how much pleasure it gives me to find a big serious job like this\n",
      "\"\"\"\n",
      "\n",
      "CONTEXT:\n",
      "\"\"\"\n",
      "\n",
      "Letter 481 Arles, 4 May 1888 My dear Theo,\n",
      "Yesterday I went to the furniture dealer's to see if I could hire a bed etc. Unfortunately they would not hire, and even refused to sell on a monthly installment plan. This is rather awkward.\n",
      " I thought perhaps if Koning leaves after seeing the Salon which I believe was his original intention, that you might send me the bed that he now occupies after his departure. One must take into account that if I sleep at the studio it will make a difference of 300 Frs. a year which would otherwise have to be paid to the hotel. I know that it is impossible to say in advance that I shall stay here so long but all the same I have many reasons for thinking that a long stay here is probable.\n",
      "I was in Fontvieilles yesterday at McKnight's; he had a good pastel — a pink tree — and two watercolours just started,\n",
      " and I found him working on the head of an old woman in charcoal. He has reached the stage where he is plagued by new colour theories, and while they prevent him from working on the old system, he is not sufficiently master of his new palette to succeed in this one. He seemed very shy about showing me the things, I had to go there for that express purpose, and tell him that I was absolutely set on seeing his work.\n",
      "It is not impossible that he may come to stay for some time with me here. I think we should both benefit by it.\n",
      " I think very often of Renoir and that pure clean line of his. That's just how things and people look in this clear air.\n",
      " We are having a tremendous lot of wind and mistral here, just now three days out of four, though the sun shines anyway: but it makes it difficult to work out-of-doors.\n",
      " I think there would be something to do here in portraits. Although the people are blankly ignorant of painting in general, they are much more artistic than in the North in their own persons and their manner of life. I have seen figures here quite as beautiful as those of Goya or Velásquez. They will put a touch of pink on a black frock, or devise a garment of white, yellow and pink, or else green and pink, or else blue and yellow, in which there is nothing to be altered from the artistic point of view. Seurat would find some very picturesque men's figures here in spite of their modern clothes.\n",
      " Now, as for portraits, I am pretty sure they'd take the bait.\n",
      "But first before I dare start along that line, I want my nerves steadier, and also to be settled in so that I could have people in my studio. And if I must tell you roughly what I figure it would take to get me quite well and acclimatized for good, it will mean a year, and to set me up completely, a cool thousand francs. If during the first year — the present year — I spend 100 francs on food and 100 francs on this house per month, you see there won't be a cent left in the budget for painting.\n",
      " But at the end of that year I should have a decent establishment and my own health to show for it — of that I am sure.\n",
      "And in the meantime I should spend my time drawing every day, with two or three pictures a month besides.\n",
      "In figuring what it would cost to set me up, I am also counting in a complete new set of linen and clothes and shoes.\n",
      " And at the end of the year I should be a different man.\n",
      " I should have a home of my own and the peace to get back my health.\n",
      " (Needless to say, if you have got canvases that take up too much room, you can send them here by goods service, and I will keep them in the studio here\n",
      "\"\"\"\n",
      "\n",
      "CONTEXT:\n",
      "\"\"\"\n",
      "\n",
      "Letter 594 St. Rémy, 9 June 1889 My dear Theo,\n",
      " Many thanks for the package of canvases, brushes, tobacco and chocolate which reached me in good condition.\n",
      " I was very glad of them, for I was feeling a little low after working. Also I have been out for several days,\n",
      " working in the neighborhood.\n",
      " Your last letter, if I remember correctly, was dated May 21. I have had no more news of you since, except only that M. Peyron told me he had had a letter from you. I hope you are well, and your wife too.\n",
      "M. Peyron intends to go to Paris to see the exhibition and he will pay you a visit then.\n",
      " What news can I tell you? — not much. I am working on two landscapes (size 30 canvases), views taken in the hills, one is the country that I see from the window of my bedroom. In the foreground, a field of wheat ruined and hurled to the ground by a storm. A boundary wall and beyond the grey foliage of a few olive trees, some huts and the hills. Then at the top of the canvas a great white and grey cloud floating in the azure. [F 611, JH 1723] It is a landscape of extreme simplicity in colouring too. That will make a pendant to the study of the \"Bedroom\" which has got damaged. [F 482, JH 1608] When the thing represented is, in point of character, absolutely in agreement and one with the manner of representing it, isn't it just that which gives a work of art its quality?\n",
      " That is why, as far as painting goes, a household loaf is especially good when it is painted by Chardin.\n",
      " Now what makes Egyptian art, for instance, extraordinary — isn't it that these serene, calm kings, wise and gentle, patient and kind, look as though they could never be other than what they are, eternal tillers of the soil,\n",
      "worshippers of the sun?\n",
      " I should so have liked to have seen an Egyptian house at the exhibition constructed by Jules Garnier the architect — painted in red, yellow, and blue, with a garden regularly divided into beds by rows of bricks — the dwelling place of beings whom we know only as mummies or in granite.\n",
      "But then to come back to the point, the Egyptian artists, having faith, working by feeling and by instinct, express all these intangible things — kindness, infinite patience, wisdom, serenity — by a few knowing curves and by the marvellous proportions. That is to say once more, when the thing represented and the manner of representing it agree, the thing has style and quality.\n",
      " So also the servant girl in Leys's great fresco, once she is engraved by Braquemond, becomes a new work of art — or the little \"Reader\" by Meissonier, when it is Jaequemart who engraves it — since the manner of engraving  is one with the thing represented.\n",
      "As I wish to preserve this study of the \"Bedroom,\" if you would send it back to me, rolled up, when they are sending me some canvas again, I will copy it.\n",
      " At first I had wished to have it recanvassed because I did not think I could do it again. But as my brain has grown calmer since, I can quite well do it again now.\n",
      " The thing is that among the number of things you make, there are always some that you felt more or put more into and that you want to keep in spite of everything. When I see a picture that interests me, I can never help asking myself, \"In what house, room, corner of a room, in whose home would it do well, would it be in the right place?\" Thus the pictures of Hals, Rembrandt, Van der Meer [Vermeer], are only at home in an old Dutch house. Now as to the impressionists — once again, if an interior is not complete without a work of art, neither is a picture complete if it is not in harmony with surroundings originating in and resulting from the period in which it was produced\n",
      "\"\"\"\n"
     ]
    }
   ],
   "source": [
    "print(query_message(query, df, GPT_MODEL, token_budget=10000))"
   ]
  },
  {
   "cell_type": "code",
   "execution_count": 22,
   "metadata": {},
   "outputs": [],
   "source": [
    "# Obtain a response from GPT for our query message\n",
    "def ask(\n",
    "    query: str,\n",
    "    df: pd.DataFrame = df,\n",
    "    model: str = GPT_MODEL,\n",
    "    token_budget: int = 4096 - 500,\n",
    "    print_message: bool = False,\n",
    ") -> str:\n",
    "    \"\"\"Answers a query using GPT and a dataframe of relevant texts and embeddings.\"\"\"\n",
    "    message = query_message(query, df, model=model, token_budget=token_budget)\n",
    "    if print_message:\n",
    "        print(message)\n",
    "    messages = [\n",
    "        {\"role\": \"system\", \"content\": \"You answer questions about Vincent Van Gogh's life and works.\"},\n",
    "        {\"role\": \"user\", \"content\": message},\n",
    "    ]\n",
    "    response = client.chat.completions.create(\n",
    "        model=model,\n",
    "        messages=messages,\n",
    "        temperature=0\n",
    "    )\n",
    "    response_message = response.choices[0].message.content\n",
    "    return response_message"
   ]
  },
  {
   "cell_type": "code",
   "execution_count": 32,
   "metadata": {},
   "outputs": [
    {
     "name": "stdout",
     "output_type": "stream",
     "text": [
      "What did Van Gogh like about the process of painting his bedroom in Arles?\n",
      "\n",
      "Van Gogh liked the process of painting his bedroom in Arles because it allowed him to create a space\n",
      "that was restful and suggestive of sleep. In a letter to Theo, he describes his vision for the room,\n",
      "saying, \"Only here colour is to do everything, and giving by its simplification a grander style to\n",
      "things, is to be suggestive here of rest or of sleep in general. In a word, looking at the picture\n",
      "ought to rest the brain, or rather the imagination.\" He goes on to describe the colors he used for\n",
      "each element of the room, such as pale violet walls, red tiles for the floor, and yellow wood for\n",
      "the bed and chairs. He also mentions that there are no shadows or cast shadows in the painting, and\n",
      "that it is painted in free flat tints like Japanese prints.\n"
     ]
    }
   ],
   "source": [
    "import textwrap\n",
    "\n",
    "print(f\"{query}\\n\")\n",
    "\n",
    "response_v0 = ask(query)\n",
    "print(textwrap.fill(response_v0,100))"
   ]
  },
  {
   "cell_type": "markdown",
   "metadata": {},
   "source": [
    "Now, let's see if the quality of the response changes when we use GPT-4:"
   ]
  },
  {
   "cell_type": "code",
   "execution_count": 34,
   "metadata": {},
   "outputs": [
    {
     "name": "stdout",
     "output_type": "stream",
     "text": [
      "What did Van Gogh like about the process of painting his bedroom in Arles?\n",
      "\n",
      "Van Gogh enjoyed the simplicity and the use of color in painting his bedroom in Arles. He wrote,\n",
      "\"This time it's just simply my bedroom, only here colour is to do everything, and giving by its\n",
      "simplification a grander style to things, is to be suggestive here of rest or of sleep in general.\n",
      "In a word, looking at the picture ought to rest the brain, or rather the imagination.\" He also\n",
      "appreciated the process of using color to evoke certain feelings or ideas, such as rest and sleep.\n",
      "He detailed the colors he used, such as pale violet for the walls, red for the floor tiles, and the\n",
      "yellow of fresh butter for the bed and chairs. He also enjoyed the process of suppressing shadows\n",
      "and painting in free flat tints, similar to Japanese prints.\n"
     ]
    }
   ],
   "source": [
    "print(f\"{query}\\n\")\n",
    "\n",
    "response_gpt4 = ask(query, model=\"gpt-4\")\n",
    "print(textwrap.fill(response_gpt4,100))"
   ]
  },
  {
   "cell_type": "code",
   "execution_count": 33,
   "metadata": {},
   "outputs": [
    {
     "name": "stdout",
     "output_type": "stream",
     "text": [
      "What did Van Gogh like about the process of painting his bedroom in Arles?\n",
      "\n",
      "Vincent Van Gogh appreciated several aspects of painting his bedroom in Arles, as revealed in his\n",
      "letter to his brother Theo. One of the primary elements he enjoyed was the use of color to evoke a\n",
      "sense of rest or sleep. He stated, \"For today I am all right again... This time it's just simply my\n",
      "bedroom, only here colour is to do everything, and giving by its simplification a grander style to\n",
      "things, is to be suggestive here of rest or of sleep in general. In a word, looking at the picture\n",
      "ought to rest the brain, or rather the imagination.\" This quote highlights Van Gogh's intention to\n",
      "use color in a way that would simplify the scene and evoke a calming, restful feeling in the viewer.\n",
      "Van Gogh also enjoyed the challenge of painting with a limited palette, as he aimed to suppress\n",
      "shadows and cast shadows, painting in \"free flat tints like the Japanese prints.\" This approach was\n",
      "a departure from more traditional, detailed, and shadowed perspectives, showcasing his admiration\n",
      "for Japanese art and its influence on his work. He mentioned, \"The shadows and the cast shadows are\n",
      "suppressed; it is painted in free flat tints like the Japanese prints.\"  Furthermore, Van Gogh found\n",
      "pleasure in the conceptual simplicity and the thematic contrast of the painting compared to his\n",
      "other works. He noted, \"but you see how simple the conception is. It is going to be a contrast to,\n",
      "for instance, the Tarascon diligence and the night café.\" This indicates his enjoyment in exploring\n",
      "different themes and styles, contrasting the calmness of his bedroom with the dynamic scenes of his\n",
      "other paintings.  In summary, Van Gogh liked the process of painting his bedroom in Arles for its\n",
      "use of color to evoke rest, the challenge of painting with a simplified palette and suppressed\n",
      "shadows, and the conceptual simplicity and thematic contrast of the work compared to his other\n",
      "paintings.\n"
     ]
    }
   ],
   "source": [
    "print(f\"{query}\\n\")\n",
    "\n",
    "response_gpt4_turbo = ask(query, model=\"gpt-4-turbo-preview\")\n",
    "print(textwrap.fill(response_gpt4_turbo,100))"
   ]
  },
  {
   "cell_type": "code",
   "execution_count": null,
   "metadata": {},
   "outputs": [],
   "source": []
  },
  {
   "cell_type": "code",
   "execution_count": 25,
   "metadata": {},
   "outputs": [],
   "source": [
    "# Prompt iterations"
   ]
  },
  {
   "cell_type": "code",
   "execution_count": null,
   "metadata": {},
   "outputs": [],
   "source": [
    "\"\"\"\n",
    "Use the below description of a painting, described in {PAINTING}, as well as the letters from the archive of Vincent Van Gogh, described \n",
    "in {CONTEXT} to answer the subsequent question. How does Vincent Van Gogh describe this painting in his personal letters? \n",
    "How does he feel about it?\n",
    "\"\"\""
   ]
  }
 ],
 "metadata": {
  "kernelspec": {
   "display_name": "Python 3",
   "language": "python",
   "name": "python3"
  },
  "language_info": {
   "codemirror_mode": {
    "name": "ipython",
    "version": 3
   },
   "file_extension": ".py",
   "mimetype": "text/x-python",
   "name": "python",
   "nbconvert_exporter": "python",
   "pygments_lexer": "ipython3",
   "version": "3.10.13"
  }
 },
 "nbformat": 4,
 "nbformat_minor": 2
}
