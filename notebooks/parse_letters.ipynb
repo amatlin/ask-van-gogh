{
 "cells": [
  {
   "cell_type": "code",
   "execution_count": 105,
   "metadata": {},
   "outputs": [],
   "source": [
    "import requests\n",
    "from PyPDF3 import PdfFileReader\n",
    "import io\n",
    "from bs4 import BeautifulSoup\n",
    "import csv\n",
    "import pandas as pd\n",
    "import re\n",
    "from tqdm import tqdm"
   ]
  },
  {
   "cell_type": "code",
   "execution_count": 106,
   "metadata": {},
   "outputs": [],
   "source": [
    "def clean_up_text(text):\n",
    "    # Replace non-standard quotes and other characters\n",
    "    text = text.replace('™', \"'\")\n",
    "\n",
    "    # Replace special characters like Œ with their standard equivalents\n",
    "    text = text.replace('Œ', 'Oe')  # Example - adjust based on your text\n",
    "\n",
    "    # Replace line breaks with a space unless they follow punctuation\n",
    "    text = re.sub(r'(?<=[^\\.\\?\\!,;:])\\s*\\n', ' ', text)\n",
    "\n",
    "    return text\n",
    "\n",
    "def fetch_letter_text(url):\n",
    "    response = requests.get(url)\n",
    "    response.raise_for_status()  # Ensure that the request was successful\n",
    "\n",
    "    # Use BytesIO to handle the PDF file as a binary stream\n",
    "    with io.BytesIO(response.content) as f:\n",
    "        # Read the PDF file using PyPDF3\n",
    "        reader = PdfFileReader(f)\n",
    "\n",
    "        full_text = \"\"\n",
    "        # Loop through each page and extract text\n",
    "        for page_num in range(len(reader.pages)):\n",
    "            page = reader.pages[page_num]\n",
    "            text = page.extractText()\n",
    "            full_text += text + \"\\n\"\n",
    "            #print(f\"Page {page_num + 1}:\")\n",
    "        \n",
    "    full_text_clean = clean_up_text(full_text)\n",
    "\n",
    "    return full_text_clean\n",
    "\n",
    "def extract_letters(url: str, output_file: str):\n",
    "    # Fetch the content of the webpage\n",
    "    response = requests.get(url)\n",
    "    response.raise_for_status()  # Ensure that the request was successful\n",
    "    \n",
    "    # Parse the content using Beautiful Soup\n",
    "    soup = BeautifulSoup(response.text, 'html.parser')\n",
    "    \n",
    "    # Select the first table on the page\n",
    "    file_table = soup.find_all('table')[2]  # Select only the first table\n",
    "\n",
    "    # Find all table row elements and skip the first row\n",
    "    rows = file_table.find_all('tr')[1:]  \n",
    "\n",
    "    \n",
    "    with open(output_file, mode='w', newline='', encoding='utf-8') as file:\n",
    "        writer = csv.writer(file)\n",
    "        # Write the headers\n",
    "        writer.writerow(['Number', 'Date', 'Origin', 'From', 'To', 'PDF Link', 'Text'])\n",
    "\n",
    "        i = 0\n",
    "        for row in tqdm(rows):\n",
    "            i += 1\n",
    "            cols = row.find_all('td')\n",
    "            if len(cols) == 5:\n",
    "                number = cols[0].get_text(strip=True)\n",
    "                if i % 50 == 0:\n",
    "                    print(number)\n",
    "                date = cols[1].get_text(strip=True)\n",
    "                origin = cols[2].get_text(strip=True)\n",
    "                from_person = cols[3].get_text(strip=True)\n",
    "                to_person = cols[4].get_text(strip=True)\n",
    "                pdf_link_tag = cols[0].find('a')\n",
    "                pdf_link = f\"http://www.vggallery.com/letters/{pdf_link_tag['href']}\"\n",
    "                \n",
    "                # fetch letter text\n",
    "                text = fetch_letter_text(pdf_link)           \n",
    "                \n",
    "                # Write the row to the CSV file\n",
    "                writer.writerow([number, date, origin, from_person, to_person, pdf_link, text])\n",
    "            else:\n",
    "                raise Exception(\"Table columns are not in the correct format!\")\n",
    "\n"
   ]
  },
  {
   "cell_type": "code",
   "execution_count": 107,
   "metadata": {},
   "outputs": [
    {
     "name": "stderr",
     "output_type": "stream",
     "text": [
      "PdfReadWarning: Xref table not zero-indexed. ID numbers for objects will be corrected. [pdf.py:1865]\n"
     ]
    },
    {
     "name": "stdout",
     "output_type": "stream",
     "text": [
      "42\n",
      "89\n",
      "136\n",
      "185\n",
      "234\n",
      "283\n",
      "333\n",
      "375\n",
      "419a\n",
      "466\n",
      "512\n",
      "557\n",
      "599\n",
      "640a\n",
      "R14\n",
      "T3a\n",
      "W11\n"
     ]
    }
   ],
   "source": [
    "page_url = \"http://www.vggallery.com/letters/combined.htm\"\n",
    "output_file = \"vg_letters_v2.csv\"\n",
    "letters = extract_letters(url = page_url, output_file = output_file)"
   ]
  },
  {
   "cell_type": "code",
   "execution_count": 108,
   "metadata": {},
   "outputs": [],
   "source": [
    "letters = pd.read_csv(output_file)"
   ]
  },
  {
   "cell_type": "code",
   "execution_count": 109,
   "metadata": {},
   "outputs": [
    {
     "data": {
      "text/html": [
       "<div>\n",
       "<style scoped>\n",
       "    .dataframe tbody tr th:only-of-type {\n",
       "        vertical-align: middle;\n",
       "    }\n",
       "\n",
       "    .dataframe tbody tr th {\n",
       "        vertical-align: top;\n",
       "    }\n",
       "\n",
       "    .dataframe thead th {\n",
       "        text-align: right;\n",
       "    }\n",
       "</style>\n",
       "<table border=\"1\" class=\"dataframe\">\n",
       "  <thead>\n",
       "    <tr style=\"text-align: right;\">\n",
       "      <th></th>\n",
       "      <th>Number</th>\n",
       "      <th>Date</th>\n",
       "      <th>Origin</th>\n",
       "      <th>From</th>\n",
       "      <th>To</th>\n",
       "      <th>PDF Link</th>\n",
       "      <th>Text</th>\n",
       "    </tr>\n",
       "  </thead>\n",
       "  <tbody>\n",
       "    <tr>\n",
       "      <th>0</th>\n",
       "      <td>1</td>\n",
       "      <td>August, 1872</td>\n",
       "      <td>T-H</td>\n",
       "      <td>VvG</td>\n",
       "      <td>TvG</td>\n",
       "      <td>http://www.vggallery.com/letters/001_V-T_001.pdf</td>\n",
       "      <td>© Copyright 2001 R. G. Harrison Letter 001 The...</td>\n",
       "    </tr>\n",
       "    <tr>\n",
       "      <th>1</th>\n",
       "      <td>2</td>\n",
       "      <td>13 December 1872</td>\n",
       "      <td>T-H</td>\n",
       "      <td>VvG</td>\n",
       "      <td>TvG</td>\n",
       "      <td>http://www.vggallery.com/letters/002_V-T_002.pdf</td>\n",
       "      <td>© Copyright 2001 R. G. Harrison Letter 002 The...</td>\n",
       "    </tr>\n",
       "    <tr>\n",
       "      <th>2</th>\n",
       "      <td>3</td>\n",
       "      <td>January, 1873</td>\n",
       "      <td>T-H</td>\n",
       "      <td>VvG</td>\n",
       "      <td>TvG</td>\n",
       "      <td>http://www.vggallery.com/letters/003_V-T_003.pdf</td>\n",
       "      <td>© Copyright 2001 R. G. Harrison Letter 003 The...</td>\n",
       "    </tr>\n",
       "    <tr>\n",
       "      <th>3</th>\n",
       "      <td>4</td>\n",
       "      <td>28 January 1873</td>\n",
       "      <td>T-H</td>\n",
       "      <td>VvG</td>\n",
       "      <td>TvG</td>\n",
       "      <td>http://www.vggallery.com/letters/004_V-T_004.pdf</td>\n",
       "      <td>© Copyright 2001 R. G. Harrison Letter 004 The...</td>\n",
       "    </tr>\n",
       "    <tr>\n",
       "      <th>4</th>\n",
       "      <td>5</td>\n",
       "      <td>17 March 1873</td>\n",
       "      <td>T-H</td>\n",
       "      <td>VvG</td>\n",
       "      <td>TvG</td>\n",
       "      <td>http://www.vggallery.com/letters/005_V-T_005.pdf</td>\n",
       "      <td>© Copyright 2001 R. G. Harrison Letter 005 The...</td>\n",
       "    </tr>\n",
       "  </tbody>\n",
       "</table>\n",
       "</div>"
      ],
      "text/plain": [
       "  Number              Date Origin From   To  \\\n",
       "0      1      August, 1872    T-H  VvG  TvG   \n",
       "1      2  13 December 1872    T-H  VvG  TvG   \n",
       "2      3     January, 1873    T-H  VvG  TvG   \n",
       "3      4   28 January 1873    T-H  VvG  TvG   \n",
       "4      5     17 March 1873    T-H  VvG  TvG   \n",
       "\n",
       "                                           PDF Link  \\\n",
       "0  http://www.vggallery.com/letters/001_V-T_001.pdf   \n",
       "1  http://www.vggallery.com/letters/002_V-T_002.pdf   \n",
       "2  http://www.vggallery.com/letters/003_V-T_003.pdf   \n",
       "3  http://www.vggallery.com/letters/004_V-T_004.pdf   \n",
       "4  http://www.vggallery.com/letters/005_V-T_005.pdf   \n",
       "\n",
       "                                                Text  \n",
       "0  © Copyright 2001 R. G. Harrison Letter 001 The...  \n",
       "1  © Copyright 2001 R. G. Harrison Letter 002 The...  \n",
       "2  © Copyright 2001 R. G. Harrison Letter 003 The...  \n",
       "3  © Copyright 2001 R. G. Harrison Letter 004 The...  \n",
       "4  © Copyright 2001 R. G. Harrison Letter 005 The...  "
      ]
     },
     "execution_count": 109,
     "metadata": {},
     "output_type": "execute_result"
    }
   ],
   "source": [
    "letters.head()"
   ]
  },
  {
   "cell_type": "code",
   "execution_count": 110,
   "metadata": {},
   "outputs": [
    {
     "data": {
      "text/plain": [
       "864"
      ]
     },
     "execution_count": 110,
     "metadata": {},
     "output_type": "execute_result"
    }
   ],
   "source": [
    "len(letters)"
   ]
  },
  {
   "cell_type": "code",
   "execution_count": 112,
   "metadata": {},
   "outputs": [
    {
     "name": "stdout",
     "output_type": "stream",
     "text": [
      "© Copyright 2001 R. G. Harrison Letter 001 The Hague, c. 18 August 1872 Dear Theo,\n",
      "Many thanks for your letter, I was glad to hear you arrived home safely. I missed you the first few days and it felt strange not to find you there when I came home in the afternoons.\n",
      "  We have had some enjoyable days together, and managed to take a few walks and see one or two sights between the spots of rain.\n",
      " What dreadful weather! You must have sweltered from the heat on your walks to Oisterwijk. There was harness racing yesterday for the Exhibition; but the illuminations and the fireworks were put off because of the bad weather, so it's just as well you didn't stay on to see them. Regards from the Haanebeek and Roos families.\n",
      " Always your loving Vincent.\n",
      " \n"
     ]
    }
   ],
   "source": [
    "print(letters.Text[0])"
   ]
  }
 ],
 "metadata": {
  "kernelspec": {
   "display_name": "Python 3",
   "language": "python",
   "name": "python3"
  },
  "language_info": {
   "codemirror_mode": {
    "name": "ipython",
    "version": 3
   },
   "file_extension": ".py",
   "mimetype": "text/x-python",
   "name": "python",
   "nbconvert_exporter": "python",
   "pygments_lexer": "ipython3",
   "version": "3.10.13"
  }
 },
 "nbformat": 4,
 "nbformat_minor": 2
}
